





<!DOCTYPE html>
<html
  lang="en"
  
  data-color-mode="auto" data-light-theme="light" data-dark-theme="dark"
  data-a11y-animated-images="system" data-a11y-link-underlines="true"
  
  >



  <head>
    <meta charset="utf-8">
  <link rel="dns-prefetch" href="https://github.githubassets.com">
  <link rel="dns-prefetch" href="https://avatars.githubusercontent.com">
  <link rel="dns-prefetch" href="https://github-cloud.s3.amazonaws.com">
  <link rel="dns-prefetch" href="https://user-images.githubusercontent.com/">
  <link rel="preconnect" href="https://github.githubassets.com" crossorigin>
  <link rel="preconnect" href="https://avatars.githubusercontent.com">

  


  <link crossorigin="anonymous" media="all" rel="stylesheet" href="https://github.githubassets.com/assets/light-c59dc71e3a4c.css" /><link crossorigin="anonymous" media="all" rel="stylesheet" href="https://github.githubassets.com/assets/light_high_contrast-4bf0cb726930.css" /><link crossorigin="anonymous" media="all" rel="stylesheet" href="https://github.githubassets.com/assets/dark-89751e879f8b.css" /><link crossorigin="anonymous" media="all" rel="stylesheet" href="https://github.githubassets.com/assets/dark_high_contrast-67c7180a598a.css" /><link data-color-theme="light" crossorigin="anonymous" media="all" rel="stylesheet" data-href="https://github.githubassets.com/assets/light-c59dc71e3a4c.css" /><link data-color-theme="light_high_contrast" crossorigin="anonymous" media="all" rel="stylesheet" data-href="https://github.githubassets.com/assets/light_high_contrast-4bf0cb726930.css" /><link data-color-theme="light_colorblind" crossorigin="anonymous" media="all" rel="stylesheet" data-href="https://github.githubassets.com/assets/light_colorblind-6060e905eb78.css" /><link data-color-theme="light_colorblind_high_contrast" crossorigin="anonymous" media="all" rel="stylesheet" data-href="https://github.githubassets.com/assets/light_colorblind_high_contrast-04e818620b9c.css" /><link data-color-theme="light_tritanopia" crossorigin="anonymous" media="all" rel="stylesheet" data-href="https://github.githubassets.com/assets/light_tritanopia-ae65df249e0f.css" /><link data-color-theme="light_tritanopia_high_contrast" crossorigin="anonymous" media="all" rel="stylesheet" data-href="https://github.githubassets.com/assets/light_tritanopia_high_contrast-fdadc12a1ec2.css" /><link data-color-theme="dark" crossorigin="anonymous" media="all" rel="stylesheet" data-href="https://github.githubassets.com/assets/dark-89751e879f8b.css" /><link data-color-theme="dark_high_contrast" crossorigin="anonymous" media="all" rel="stylesheet" data-href="https://github.githubassets.com/assets/dark_high_contrast-67c7180a598a.css" /><link data-color-theme="dark_colorblind" crossorigin="anonymous" media="all" rel="stylesheet" data-href="https://github.githubassets.com/assets/dark_colorblind-4277e18a7c75.css" /><link data-color-theme="dark_colorblind_high_contrast" crossorigin="anonymous" media="all" rel="stylesheet" data-href="https://github.githubassets.com/assets/dark_colorblind_high_contrast-2e33ed61bc8c.css" /><link data-color-theme="dark_tritanopia" crossorigin="anonymous" media="all" rel="stylesheet" data-href="https://github.githubassets.com/assets/dark_tritanopia-48d44d87614d.css" /><link data-color-theme="dark_tritanopia_high_contrast" crossorigin="anonymous" media="all" rel="stylesheet" data-href="https://github.githubassets.com/assets/dark_tritanopia_high_contrast-6adcb5080302.css" /><link data-color-theme="dark_dimmed" crossorigin="anonymous" media="all" rel="stylesheet" data-href="https://github.githubassets.com/assets/dark_dimmed-250cee4c1ea8.css" /><link data-color-theme="dark_dimmed_high_contrast" crossorigin="anonymous" media="all" rel="stylesheet" data-href="https://github.githubassets.com/assets/dark_dimmed_high_contrast-e3802beb8c06.css" />


    <link crossorigin="anonymous" media="all" rel="stylesheet" href="https://github.githubassets.com/assets/primer-primitives-225433424a87.css" />
    <link crossorigin="anonymous" media="all" rel="stylesheet" href="https://github.githubassets.com/assets/primer-b4bd0459f984.css" />
    <link crossorigin="anonymous" media="all" rel="stylesheet" href="https://github.githubassets.com/assets/global-46e30a0a488d.css" />
    <link crossorigin="anonymous" media="all" rel="stylesheet" href="https://github.githubassets.com/assets/github-ef14fd9f242b.css" />
  <link crossorigin="anonymous" media="all" rel="stylesheet" href="https://github.githubassets.com/assets/repository-fa462f1c51f1.css" />
<link crossorigin="anonymous" media="all" rel="stylesheet" href="https://github.githubassets.com/assets/code-e1352b16012f.css" />

  


  <script type="application/json" id="client-env">{"locale":"en","featureFlags":["alternate_user_config_repo","api_insights_show_missing_data_banner","appearance_settings","code_scanning_ref_selector","codespaces_prebuild_region_target_update","contact_requests_implicit_opt_in","contentful_lp_flex_features","contentful_lp_footnotes","contentful_lp_form_phone_e164","copilot_chat_attach_multiple_images","copilot_chat_autocomplete","copilot_chat_custom_instructions","copilot_chat_repo_custom_instructions_preview","copilot_chat_vision_in_claude","copilot_chat_wholearea_dd","copilot_custom_copilots_feature_preview","copilot_duplicate_thread","copilot_free_to_paid_telem","copilot_ftp_settings_upgrade","copilot_ftp_upgrade_to_pro_from_models","copilot_ftp_your_copilot_settings","copilot_immersive_draft_issue_template_required","copilot_immersive_issue_preview","copilot_immersive_structured_model_picker","copilot_new_conversation_starters","copilot_new_immersive_references_ui","copilot_no_floating_button","copilot_premium_request_quotas","copilot_read_shared_conversation","copilot_showcase_icebreakers","copilot_stable_subthreading_helpers","copilot_task_oriented_assistive_prompts","copilot_topics_as_references","copilot_workbench_iterate_panel","copilot_workbench_preview_analytics","copilot_workbench_refresh_on_wsod","copilot_workbench_user_limits","custom_copilots_capi_mode","direct_to_salesforce","dotcom_chat_client_side_skills","failbot_report_error_react_apps_on_page","ghost_pilot_confidence_truncation_25","ghost_pilot_confidence_truncation_40","insert_before_patch","issues_preserve_tokens_in_urls","issues_react_blur_item_picker_on_close","issues_react_bots_timeline_pagination","issues_react_create_milestone","issues_react_prohibit_title_fallback","issues_react_remove_placeholders","lifecycle_label_name_updates","link_contact_sales_swp_marketo","marketing_pages_search_explore_provider","memex_mwl_filter_field_delimiter","nonreporting_relay_graphql_status_codes","primer_primitives_experimental","primer_react_css_modules_ga","primer_react_select_panel_with_modern_action_list","remove_child_patch","sample_network_conn_type","sanitize_nested_mathjax_macros","site_homepage_contentful","site_msbuild_hide_integrations","site_msbuild_launch","site_msbuild_webgl_hero","spark_auth_token_endpoint","spark_commit_on_default_branch","swp_enterprise_contact_form","use_copilot_avatar","use_paginated_repo_picker_cost_center_form"]}</script>
<script crossorigin="anonymous" type="application/javascript" src="https://github.githubassets.com/assets/high-contrast-cookie-a58297b2ebf8.js"></script>
<script crossorigin="anonymous" type="application/javascript" src="https://github.githubassets.com/assets/wp-runtime-8b7acd600d83.js" defer="defer"></script>
<script crossorigin="anonymous" type="application/javascript" src="https://github.githubassets.com/assets/vendors-node_modules_oddbird_popover-polyfill_dist_popover-fn_js-a8c266e5f126.js" defer="defer"></script>
<script crossorigin="anonymous" type="application/javascript" src="https://github.githubassets.com/assets/vendors-node_modules_github_mini-throttle_dist_index_js-node_modules_stacktrace-parser_dist_s-1d3d52-babac9434833.js" defer="defer"></script>
<script crossorigin="anonymous" type="application/javascript" src="https://github.githubassets.com/assets/ui_packages_failbot_failbot_ts-7cc3ec44644a.js" defer="defer"></script>
<script crossorigin="anonymous" type="application/javascript" src="https://github.githubassets.com/assets/environment-89128d48c6ff.js" defer="defer"></script>
<script crossorigin="anonymous" type="application/javascript" src="https://github.githubassets.com/assets/vendors-node_modules_primer_behaviors_dist_esm_index_mjs-c44edfed7f0d.js" defer="defer"></script>
<script crossorigin="anonymous" type="application/javascript" src="https://github.githubassets.com/assets/vendors-node_modules_github_selector-observer_dist_index_esm_js-cdf2757bd188.js" defer="defer"></script>
<script crossorigin="anonymous" type="application/javascript" src="https://github.githubassets.com/assets/vendors-node_modules_github_relative-time-element_dist_index_js-5913bc24f35d.js" defer="defer"></script>
<script crossorigin="anonymous" type="application/javascript" src="https://github.githubassets.com/assets/vendors-node_modules_github_text-expander-element_dist_index_js-e50fb7a5fe8c.js" defer="defer"></script>
<script crossorigin="anonymous" type="application/javascript" src="https://github.githubassets.com/assets/vendors-node_modules_github_auto-complete-element_dist_index_js-node_modules_github_catalyst_-8e9f78-c1e2fb329866.js" defer="defer"></script>
<script crossorigin="anonymous" type="application/javascript" src="https://github.githubassets.com/assets/vendors-node_modules_github_filter-input-element_dist_index_js-node_modules_github_remote-inp-d8c643-251bc3964eb6.js" defer="defer"></script>
<script crossorigin="anonymous" type="application/javascript" src="https://github.githubassets.com/assets/vendors-node_modules_github_markdown-toolbar-element_dist_index_js-6a8c7d9a08fe.js" defer="defer"></script>
<script crossorigin="anonymous" type="application/javascript" src="https://github.githubassets.com/assets/vendors-node_modules_github_file-attachment-element_dist_index_js-node_modules_primer_view-co-cadbad-fad3eaf3c7ec.js" defer="defer"></script>
<script crossorigin="anonymous" type="application/javascript" src="https://github.githubassets.com/assets/github-elements-5ceffe5aca10.js" defer="defer"></script>
<script crossorigin="anonymous" type="application/javascript" src="https://github.githubassets.com/assets/element-registry-2a91e47d59c9.js" defer="defer"></script>
<script crossorigin="anonymous" type="application/javascript" src="https://github.githubassets.com/assets/vendors-node_modules_braintree_browser-detection_dist_browser-detection_js-node_modules_githu-bb80ec-34c4b68b1dd3.js" defer="defer"></script>
<script crossorigin="anonymous" type="application/javascript" src="https://github.githubassets.com/assets/vendors-node_modules_lit-html_lit-html_js-b93a87060d31.js" defer="defer"></script>
<script crossorigin="anonymous" type="application/javascript" src="https://github.githubassets.com/assets/vendors-node_modules_morphdom_dist_morphdom-esm_js-300e8e4e0414.js" defer="defer"></script>
<script crossorigin="anonymous" type="application/javascript" src="https://github.githubassets.com/assets/vendors-node_modules_fzy_js_index_js-node_modules_github_paste-markdown_dist_index_js-63a26702fa42.js" defer="defer"></script>
<script crossorigin="anonymous" type="application/javascript" src="https://github.githubassets.com/assets/vendors-node_modules_github_turbo_dist_turbo_es2017-esm_js-595819d3686f.js" defer="defer"></script>
<script crossorigin="anonymous" type="application/javascript" src="https://github.githubassets.com/assets/vendors-node_modules_github_remote-form_dist_index_js-node_modules_delegated-events_dist_inde-893f9f-1bcf38e06f01.js" defer="defer"></script>
<script crossorigin="anonymous" type="application/javascript" src="https://github.githubassets.com/assets/vendors-node_modules_color-convert_index_js-1a149db8dc99.js" defer="defer"></script>
<script crossorigin="anonymous" type="application/javascript" src="https://github.githubassets.com/assets/vendors-node_modules_github_quote-selection_dist_index_js-node_modules_github_session-resume_-c1aa61-91618cb63471.js" defer="defer"></script>
<script crossorigin="anonymous" type="application/javascript" src="https://github.githubassets.com/assets/ui_packages_updatable-content_updatable-content_ts-a5daa16ae903.js" defer="defer"></script>
<script crossorigin="anonymous" type="application/javascript" src="https://github.githubassets.com/assets/app_assets_modules_github_behaviors_task-list_ts-app_assets_modules_github_sso_ts-ui_packages-900dde-f953ddf42948.js" defer="defer"></script>
<script crossorigin="anonymous" type="application/javascript" src="https://github.githubassets.com/assets/app_assets_modules_github_sticky-scroll-into-view_ts-e45aabc67d13.js" defer="defer"></script>
<script crossorigin="anonymous" type="application/javascript" src="https://github.githubassets.com/assets/app_assets_modules_github_behaviors_ajax-error_ts-app_assets_modules_github_behaviors_include-d0d0a6-a7da4270c5f4.js" defer="defer"></script>
<script crossorigin="anonymous" type="application/javascript" src="https://github.githubassets.com/assets/app_assets_modules_github_behaviors_commenting_edit_ts-app_assets_modules_github_behaviors_ht-83c235-567e0f340e27.js" defer="defer"></script>
<script crossorigin="anonymous" type="application/javascript" src="https://github.githubassets.com/assets/behaviors-ff35a0621c79.js" defer="defer"></script>
<script crossorigin="anonymous" type="application/javascript" src="https://github.githubassets.com/assets/vendors-node_modules_delegated-events_dist_index_js-node_modules_github_catalyst_lib_index_js-ea8eaa-eefe25567449.js" defer="defer"></script>
<script crossorigin="anonymous" type="application/javascript" src="https://github.githubassets.com/assets/notifications-global-eadae94940d6.js" defer="defer"></script>
<script crossorigin="anonymous" type="application/javascript" src="https://github.githubassets.com/assets/vendors-node_modules_github_mini-throttle_dist_index_js-node_modules_github_catalyst_lib_inde-dbbea9-558c1f223d1d.js" defer="defer"></script>
<script crossorigin="anonymous" type="application/javascript" src="https://github.githubassets.com/assets/code-menu-8c39716e9d81.js" defer="defer"></script>
  
  <script crossorigin="anonymous" type="application/javascript" src="https://github.githubassets.com/assets/primer-react-957709c85fcc.js" defer="defer"></script>
<script crossorigin="anonymous" type="application/javascript" src="https://github.githubassets.com/assets/react-core-70e8c6e317a9.js" defer="defer"></script>
<script crossorigin="anonymous" type="application/javascript" src="https://github.githubassets.com/assets/react-lib-8705026b409a.js" defer="defer"></script>
<script crossorigin="anonymous" type="application/javascript" src="https://github.githubassets.com/assets/octicons-react-9fd6ca6872cc.js" defer="defer"></script>
<script crossorigin="anonymous" type="application/javascript" src="https://github.githubassets.com/assets/vendors-node_modules_emotion_is-prop-valid_dist_emotion-is-prop-valid_esm_js-node_modules_emo-b1c483-b5947865157f.js" defer="defer"></script>
<script crossorigin="anonymous" type="application/javascript" src="https://github.githubassets.com/assets/vendors-node_modules_github_catalyst_lib_index_js-node_modules_primer_live-region-element_dis-b2aea6-bfc50dd77594.js" defer="defer"></script>
<script crossorigin="anonymous" type="application/javascript" src="https://github.githubassets.com/assets/vendors-node_modules_dompurify_dist_purify_es_mjs-7457ebdd1a1f.js" defer="defer"></script>
<script crossorigin="anonymous" type="application/javascript" src="https://github.githubassets.com/assets/vendors-node_modules_lodash-es__Stack_js-node_modules_lodash-es__Uint8Array_js-node_modules_l-4faaa6-16c4e2c524de.js" defer="defer"></script>
<script crossorigin="anonymous" type="application/javascript" src="https://github.githubassets.com/assets/vendors-node_modules_lodash-es_isEqual_js-a0841ced23fc.js" defer="defer"></script>
<script crossorigin="anonymous" type="application/javascript" src="https://github.githubassets.com/assets/vendors-node_modules_tanstack_react-virtual_dist_esm_index_js-807aab04afeb.js" defer="defer"></script>
<script crossorigin="anonymous" type="application/javascript" src="https://github.githubassets.com/assets/vendors-node_modules_focus-visible_dist_focus-visible_js-node_modules_github_hydro-analytics--e21ffd-0b758af67e69.js" defer="defer"></script>
<script crossorigin="anonymous" type="application/javascript" src="https://github.githubassets.com/assets/vendors-node_modules_fzy_js_index_js-node_modules_react-reverse-portal_dist_web_index_js-node-835def-721f0587143e.js" defer="defer"></script>
<script crossorigin="anonymous" type="application/javascript" src="https://github.githubassets.com/assets/ui_packages_document-metadata_document-metadata_ts-ui_packages_history_history_ts-ui_packages-417c81-00e1a3522739.js" defer="defer"></script>
<script crossorigin="anonymous" type="application/javascript" src="https://github.githubassets.com/assets/ui_packages_paths_index_ts-9cbcdd9beb09.js" defer="defer"></script>
<script crossorigin="anonymous" type="application/javascript" src="https://github.githubassets.com/assets/ui_packages_fetch-headers_fetch-headers_ts-ui_packages_ref-selector_RefSelector_tsx-2e1c637f06cc.js" defer="defer"></script>
<script crossorigin="anonymous" type="application/javascript" src="https://github.githubassets.com/assets/ui_packages_commit-attribution_index_ts-ui_packages_commit-checks-status_index_ts-ui_packages-0f6a14-529dd8abada9.js" defer="defer"></script>
<script crossorigin="anonymous" type="application/javascript" src="https://github.githubassets.com/assets/ui_packages_diffs_diff-parts_ts-1581bb14cd5c.js" defer="defer"></script>
<script crossorigin="anonymous" type="application/javascript" src="https://github.githubassets.com/assets/ui_packages_app-uuid_app-uuid_ts-ui_packages_repos-file-tree-view_repos-file-tree-view_ts-ui_-e7c631-c2e3b90efda5.js" defer="defer"></script>
<script crossorigin="anonymous" type="application/javascript" src="https://github.githubassets.com/assets/ui_packages_code-view-shared_hooks_use-canonical-object_ts-ui_packages_code-view-shared_hooks-6097ef-bc48b3a581ca.js" defer="defer"></script>
<script crossorigin="anonymous" type="application/javascript" src="https://github.githubassets.com/assets/app_assets_modules_github_blob-anchor_ts-ui_packages_code-nav_code-nav_ts-ui_packages_filter--8253c1-5fde020dbad1.js" defer="defer"></script>
<script crossorigin="anonymous" type="application/javascript" src="https://github.githubassets.com/assets/react-code-view-ab3c38cd3fd1.js" defer="defer"></script>
<link crossorigin="anonymous" media="all" rel="stylesheet" href="https://github.githubassets.com/assets/primer-react.c212c596cc6bbefb1798.module.css" />
<link crossorigin="anonymous" media="all" rel="stylesheet" href="https://github.githubassets.com/assets/react-code-view.4915ca2c68d1510cb07c.module.css" />

  <script crossorigin="anonymous" type="application/javascript" src="https://github.githubassets.com/assets/notifications-subscriptions-menu-f6210e67e2e9.js" defer="defer"></script>
<link crossorigin="anonymous" media="all" rel="stylesheet" href="https://github.githubassets.com/assets/primer-react.c212c596cc6bbefb1798.module.css" />
<link crossorigin="anonymous" media="all" rel="stylesheet" href="https://github.githubassets.com/assets/notifications-subscriptions-menu.07dab7f319b881c93ef5.module.css" />


  <title>cellpose/notebooks/run_Cellpose-SAM.ipynb at main · MouseLand/cellpose · GitHub</title>



  <meta name="route-pattern" content="/:user_id/:repository/blob/*name(/*path)" data-turbo-transient>
  <meta name="route-controller" content="blob" data-turbo-transient>
  <meta name="route-action" content="show" data-turbo-transient>
  <meta name="fetch-nonce" content="v2:4bbb3428-242b-358f-b875-4442c934d4b5">

    
  <meta name="current-catalog-service-hash" content="f3abb0cc802f3d7b95fc8762b94bdcb13bf39634c40c357301c4aa1d67a256fb">


  <meta name="request-id" content="BA0E:9134A:46BF03:5FDDD5:6852F8C4" data-pjax-transient="true"/><meta name="html-safe-nonce" content="a56cca3caef047faf4bccfa4c7dd342f86dbb80b32dde4725a330cd40ed8c2f1" data-pjax-transient="true"/><meta name="visitor-payload" content="eyJyZWZlcnJlciI6Imh0dHBzOi8vZ2l0aHViLmNvbS9Nb3VzZUxhbmQvY2VsbHBvc2U/dGFiPXJlYWRtZS1vdi1maWxlIiwicmVxdWVzdF9pZCI6IkJBMEU6OTEzNEE6NDZCRjAzOjVGRERENTo2ODUyRjhDNCIsInZpc2l0b3JfaWQiOiI3NjkwNjUxNzQyODQ5MjY0MDkyIiwicmVnaW9uX2VkZ2UiOiJpYWQiLCJyZWdpb25fcmVuZGVyIjoiaWFkIn0=" data-pjax-transient="true"/><meta name="visitor-hmac" content="0afc720decd6e828a68ba60ebeb67fe1aaf2953f8b2601dc7d590c70616e1eb7" data-pjax-transient="true"/>


    <meta name="hovercard-subject-tag" content="repository:237686847" data-turbo-transient>


  <meta name="github-keyboard-shortcuts" content="repository,source-code,file-tree,copilot" data-turbo-transient="true" />
  

  <meta name="selected-link" value="repo_source" data-turbo-transient>
  <link rel="assets" href="https://github.githubassets.com/">

    <meta name="google-site-verification" content="Apib7-x98H0j5cPqHWwSMm6dNU4GmODRoqxLiDzdx9I">

<meta name="octolytics-url" content="https://collector.github.com/github/collect" />

  <meta name="analytics-location" content="/&lt;user-name&gt;/&lt;repo-name&gt;/blob/show" data-turbo-transient="true" />

  




    <meta name="user-login" content="">

  

    <meta name="viewport" content="width=device-width">

    

      <meta name="description" content="a generalist algorithm for cellular segmentation with human-in-the-loop capabilities - cellpose/notebooks/run_Cellpose-SAM.ipynb at main · MouseLand/cellpose">

      <link rel="search" type="application/opensearchdescription+xml" href="/opensearch.xml" title="GitHub">

    <link rel="fluid-icon" href="https://github.com/fluidicon.png" title="GitHub">
    <meta property="fb:app_id" content="1401488693436528">
    <meta name="apple-itunes-app" content="app-id=1477376905, app-argument=https://github.com/MouseLand/cellpose/blob/main/notebooks/run_Cellpose-SAM.ipynb" />

      <meta name="twitter:image" content="https://repository-images.githubusercontent.com/237686847/007d8780-460c-11ea-9a4e-2fed096278b5" /><meta name="twitter:site" content="@github" /><meta name="twitter:card" content="summary_large_image" /><meta name="twitter:title" content="cellpose/notebooks/run_Cellpose-SAM.ipynb at main · MouseLand/cellpose" /><meta name="twitter:description" content="a generalist algorithm for cellular segmentation with human-in-the-loop capabilities - MouseLand/cellpose" />
  <meta property="og:image" content="https://repository-images.githubusercontent.com/237686847/007d8780-460c-11ea-9a4e-2fed096278b5" /><meta property="og:image:alt" content="a generalist algorithm for cellular segmentation with human-in-the-loop capabilities - MouseLand/cellpose" /><meta property="og:site_name" content="GitHub" /><meta property="og:type" content="object" /><meta property="og:title" content="cellpose/notebooks/run_Cellpose-SAM.ipynb at main · MouseLand/cellpose" /><meta property="og:url" content="https://github.com/MouseLand/cellpose/blob/main/notebooks/run_Cellpose-SAM.ipynb" /><meta property="og:description" content="a generalist algorithm for cellular segmentation with human-in-the-loop capabilities - MouseLand/cellpose" />
  




      <meta name="hostname" content="github.com">



        <meta name="expected-hostname" content="github.com">


  <meta http-equiv="x-pjax-version" content="b4401d0376ca3967894e3bdf0caf4c3bb9455263d9b522ec2f62433fea12abf7" data-turbo-track="reload">
  <meta http-equiv="x-pjax-csp-version" content="352e51c42d5f5727a7c545752bf34d1f83f40219e7036c6959817149a51651bc" data-turbo-track="reload">
  <meta http-equiv="x-pjax-css-version" content="4e8d942c1e58aee61c7c4c8c9889c1c76351814c062c507d76d301fb8bcb7735" data-turbo-track="reload">
  <meta http-equiv="x-pjax-js-version" content="fe55efce6573bee728bcd6ab84da9aafe755945fa84d6e37dfe500d4be09a864" data-turbo-track="reload">

  <meta name="turbo-cache-control" content="no-preview" data-turbo-transient="">

      <meta name="turbo-cache-control" content="no-cache" data-turbo-transient>

    <meta data-hydrostats="publish">

  <meta name="go-import" content="github.com/MouseLand/cellpose git https://github.com/MouseLand/cellpose.git">

  <meta name="octolytics-dimension-user_id" content="28845184" /><meta name="octolytics-dimension-user_login" content="MouseLand" /><meta name="octolytics-dimension-repository_id" content="237686847" /><meta name="octolytics-dimension-repository_nwo" content="MouseLand/cellpose" /><meta name="octolytics-dimension-repository_public" content="true" /><meta name="octolytics-dimension-repository_is_fork" content="false" /><meta name="octolytics-dimension-repository_network_root_id" content="237686847" /><meta name="octolytics-dimension-repository_network_root_nwo" content="MouseLand/cellpose" />



    

    <meta name="turbo-body-classes" content="logged-out env-production page-responsive">


  <meta name="browser-stats-url" content="https://api.github.com/_private/browser/stats">

  <meta name="browser-errors-url" content="https://api.github.com/_private/browser/errors">

  <meta name="release" content="ff0f78ab0989da2dd1fd36fefb1949378a534de8">

  <link rel="mask-icon" href="https://github.githubassets.com/assets/pinned-octocat-093da3e6fa40.svg" color="#000000">
  <link rel="alternate icon" class="js-site-favicon" type="image/png" href="https://github.githubassets.com/favicons/favicon.png">
  <link rel="icon" class="js-site-favicon" type="image/svg+xml" href="https://github.githubassets.com/favicons/favicon.svg" data-base-href="https://github.githubassets.com/favicons/favicon">

<meta name="theme-color" content="#1e2327">
<meta name="color-scheme" content="light dark" />


  <link rel="manifest" href="/manifest.json" crossOrigin="use-credentials">

  </head>

  <body class="logged-out env-production page-responsive" style="word-wrap: break-word;">
    <div data-turbo-body class="logged-out env-production page-responsive" style="word-wrap: break-word;">
      



    <div class="position-relative header-wrapper js-header-wrapper ">
      <a href="#start-of-content" data-skip-target-assigned="false" class="px-2 py-4 color-bg-accent-emphasis color-fg-on-emphasis show-on-focus js-skip-to-content">Skip to content</a>

      <span data-view-component="true" class="progress-pjax-loader Progress position-fixed width-full">
    <span style="width: 0%;" data-view-component="true" class="Progress-item progress-pjax-loader-bar left-0 top-0 color-bg-accent-emphasis"></span>
</span>      
      
      <script crossorigin="anonymous" type="application/javascript" src="https://github.githubassets.com/assets/ui_packages_ui-commands_ui-commands_ts-e086dcd555f0.js" defer="defer"></script>
<script crossorigin="anonymous" type="application/javascript" src="https://github.githubassets.com/assets/keyboard-shortcuts-dialog-6bb6aa2945d5.js" defer="defer"></script>
<link crossorigin="anonymous" media="all" rel="stylesheet" href="https://github.githubassets.com/assets/primer-react.c212c596cc6bbefb1798.module.css" />
<link crossorigin="anonymous" media="all" rel="stylesheet" href="https://github.githubassets.com/assets/keyboard-shortcuts-dialog.47de85e2c17af43cefd5.module.css" />

<react-partial
  partial-name="keyboard-shortcuts-dialog"
  data-ssr="false"
  data-attempted-ssr="false"
  data-react-profiling="false"
>
  
  <script type="application/json" data-target="react-partial.embeddedData">{"props":{"docsUrl":"https://docs.github.com/get-started/accessibility/keyboard-shortcuts"}}</script>
  <div data-target="react-partial.reactRoot"></div>
</react-partial>




      

          

              
<script crossorigin="anonymous" type="application/javascript" src="https://github.githubassets.com/assets/vendors-node_modules_github_remote-form_dist_index_js-node_modules_delegated-events_dist_inde-94fd67-99b04cc350b5.js" defer="defer"></script>
<script crossorigin="anonymous" type="application/javascript" src="https://github.githubassets.com/assets/sessions-eed3aa0554dd.js" defer="defer"></script>
<header class="HeaderMktg header-logged-out js-details-container js-header Details f4 py-3" role="banner" data-is-top="true" data-color-mode=light data-light-theme=light data-dark-theme=dark>
  <h2 class="sr-only">Navigation Menu</h2>

  <button type="button" class="HeaderMktg-backdrop d-lg-none border-0 position-fixed top-0 left-0 width-full height-full js-details-target" aria-label="Toggle navigation">
    <span class="d-none">Toggle navigation</span>
  </button>

  <div class="d-flex flex-column flex-lg-row flex-items-center px-3 px-md-4 px-lg-5 height-full position-relative z-1">
    <div class="d-flex flex-justify-between flex-items-center width-full width-lg-auto">
      <div class="flex-1">
        <button aria-label="Toggle navigation" aria-expanded="false" type="button" data-view-component="true" class="js-details-target js-nav-padding-recalculate js-header-menu-toggle Button--link Button--medium Button d-lg-none color-fg-inherit p-1">  <span class="Button-content">
    <span class="Button-label"><div class="HeaderMenu-toggle-bar rounded my-1"></div>
            <div class="HeaderMenu-toggle-bar rounded my-1"></div>
            <div class="HeaderMenu-toggle-bar rounded my-1"></div></span>
  </span>
</button>
      </div>

      <a class="mr-lg-3 color-fg-inherit flex-order-2 js-prevent-focus-on-mobile-nav"
        href="/"
        aria-label="Homepage"
        data-analytics-event="{&quot;category&quot;:&quot;Marketing nav&quot;,&quot;action&quot;:&quot;click to go to homepage&quot;,&quot;label&quot;:&quot;ref_page:Marketing;ref_cta:Logomark;ref_loc:Header&quot;}">
        <svg height="32" aria-hidden="true" viewBox="0 0 24 24" version="1.1" width="32" data-view-component="true" class="octicon octicon-mark-github">
    <path d="M12 1C5.923 1 1 5.923 1 12c0 4.867 3.149 8.979 7.521 10.436.55.096.756-.233.756-.522 0-.262-.013-1.128-.013-2.049-2.764.509-3.479-.674-3.699-1.292-.124-.317-.66-1.293-1.127-1.554-.385-.207-.936-.715-.014-.729.866-.014 1.485.797 1.691 1.128.99 1.663 2.571 1.196 3.204.907.096-.715.385-1.196.701-1.471-2.448-.275-5.005-1.224-5.005-5.432 0-1.196.426-2.186 1.128-2.956-.111-.275-.496-1.402.11-2.915 0 0 .921-.288 3.024 1.128a10.193 10.193 0 0 1 2.75-.371c.936 0 1.871.123 2.75.371 2.104-1.43 3.025-1.128 3.025-1.128.605 1.513.221 2.64.111 2.915.701.77 1.127 1.747 1.127 2.956 0 4.222-2.571 5.157-5.019 5.432.399.344.743 1.004.743 2.035 0 1.471-.014 2.654-.014 3.025 0 .289.206.632.756.522C19.851 20.979 23 16.854 23 12c0-6.077-4.922-11-11-11Z"></path>
</svg>
      </a>

      <div class="d-flex flex-1 flex-order-2 text-right d-lg-none gap-2 flex-justify-end">
          <a
            href="/login?return_to=https%3A%2F%2Fgithub.com%2FMouseLand%2Fcellpose%2Fblob%2Fmain%2Fnotebooks%2Frun_Cellpose-SAM.ipynb"
            class="HeaderMenu-link HeaderMenu-button d-inline-flex f5 no-underline border color-border-default rounded-2 px-2 py-1 color-fg-inherit js-prevent-focus-on-mobile-nav"
            data-hydro-click="{&quot;event_type&quot;:&quot;authentication.click&quot;,&quot;payload&quot;:{&quot;location_in_page&quot;:&quot;site header menu&quot;,&quot;repository_id&quot;:null,&quot;auth_type&quot;:&quot;SIGN_UP&quot;,&quot;originating_url&quot;:&quot;https://github.com/MouseLand/cellpose/blob/main/notebooks/run_Cellpose-SAM.ipynb&quot;,&quot;user_id&quot;:null}}" data-hydro-click-hmac="8e472e77757bc20c655afa2f1def530bc960d21c7b880fc20575052d5f0c0be2"
            data-analytics-event="{&quot;category&quot;:&quot;Marketing nav&quot;,&quot;action&quot;:&quot;click to Sign in&quot;,&quot;label&quot;:&quot;ref_page:Marketing;ref_cta:Sign in;ref_loc:Header&quot;}"
          >
            Sign in
          </a>
              <div class="AppHeader-appearanceSettings">
    <react-partial-anchor>
      <button data-target="react-partial-anchor.anchor" id="icon-button-268ee37f-500c-4726-b8e1-89b2c9aac90a" aria-labelledby="tooltip-46ca1c02-f655-4efe-9fc1-f6d0571017b9" type="button" disabled="disabled" data-view-component="true" class="Button Button--iconOnly Button--invisible Button--medium AppHeader-button HeaderMenu-link border cursor-wait">  <svg aria-hidden="true" height="16" viewBox="0 0 16 16" version="1.1" width="16" data-view-component="true" class="octicon octicon-sliders Button-visual">
    <path d="M15 2.75a.75.75 0 0 1-.75.75h-4a.75.75 0 0 1 0-1.5h4a.75.75 0 0 1 .75.75Zm-8.5.75v1.25a.75.75 0 0 0 1.5 0v-4a.75.75 0 0 0-1.5 0V2H1.75a.75.75 0 0 0 0 1.5H6.5Zm1.25 5.25a.75.75 0 0 0 0-1.5h-6a.75.75 0 0 0 0 1.5h6ZM15 8a.75.75 0 0 1-.75.75H11.5V10a.75.75 0 1 1-1.5 0V6a.75.75 0 0 1 1.5 0v1.25h2.75A.75.75 0 0 1 15 8Zm-9 5.25v-2a.75.75 0 0 0-1.5 0v1.25H1.75a.75.75 0 0 0 0 1.5H4.5v1.25a.75.75 0 0 0 1.5 0v-2Zm9 0a.75.75 0 0 1-.75.75h-6a.75.75 0 0 1 0-1.5h6a.75.75 0 0 1 .75.75Z"></path>
</svg>
</button><tool-tip id="tooltip-46ca1c02-f655-4efe-9fc1-f6d0571017b9" for="icon-button-268ee37f-500c-4726-b8e1-89b2c9aac90a" popover="manual" data-direction="s" data-type="label" data-view-component="true" class="sr-only position-absolute">Appearance settings</tool-tip>

      <template data-target="react-partial-anchor.template">
        <script crossorigin="anonymous" type="application/javascript" src="https://github.githubassets.com/assets/ui_packages_document-metadata_document-metadata_ts-ui_packages_promise-with-resolvers-polyfil-40d47c-d5b8454ad019.js" defer="defer"></script>
<script crossorigin="anonymous" type="application/javascript" src="https://github.githubassets.com/assets/appearance-settings-ca5eb47b4f39.js" defer="defer"></script>
<link crossorigin="anonymous" media="all" rel="stylesheet" href="https://github.githubassets.com/assets/primer-react.c212c596cc6bbefb1798.module.css" />
<link crossorigin="anonymous" media="all" rel="stylesheet" href="https://github.githubassets.com/assets/appearance-settings.4e1ca273f504ba849f8c.module.css" />

<react-partial
  partial-name="appearance-settings"
  data-ssr="false"
  data-attempted-ssr="false"
  data-react-profiling="false"
>
  
  <script type="application/json" data-target="react-partial.embeddedData">{"props":{}}</script>
  <div data-target="react-partial.reactRoot"></div>
</react-partial>

      </template>
    </react-partial-anchor>
  </div>

      </div>
    </div>


    <div class="HeaderMenu js-header-menu height-fit position-lg-relative d-lg-flex flex-column flex-auto top-0">
      <div class="HeaderMenu-wrapper d-flex flex-column flex-self-start flex-lg-row flex-auto rounded rounded-lg-0">
          <nav class="HeaderMenu-nav" aria-label="Global">
            <ul class="d-lg-flex list-style-none">


                <li class="HeaderMenu-item position-relative flex-wrap flex-justify-between flex-items-center d-block d-lg-flex flex-lg-nowrap flex-lg-items-center js-details-container js-header-menu-item">
      <button type="button" class="HeaderMenu-link border-0 width-full width-lg-auto px-0 px-lg-2 py-lg-2 no-wrap d-flex flex-items-center flex-justify-between js-details-target" aria-expanded="false">
        Product
        <svg opacity="0.5" aria-hidden="true" height="16" viewBox="0 0 16 16" version="1.1" width="16" data-view-component="true" class="octicon octicon-chevron-down HeaderMenu-icon ml-1">
    <path d="M12.78 5.22a.749.749 0 0 1 0 1.06l-4.25 4.25a.749.749 0 0 1-1.06 0L3.22 6.28a.749.749 0 1 1 1.06-1.06L8 8.939l3.72-3.719a.749.749 0 0 1 1.06 0Z"></path>
</svg>
      </button>

      <div class="HeaderMenu-dropdown dropdown-menu rounded m-0 p-0 pt-2 pt-lg-4 position-relative position-lg-absolute left-0 left-lg-n3 pb-2 pb-lg-4 d-lg-flex flex-wrap dropdown-menu-wide">
          <div class="HeaderMenu-column px-lg-4 border-lg-right mb-4 mb-lg-0 pr-lg-7">
              <div class="border-bottom pb-3 pb-lg-0 border-lg-bottom-0">

                <ul class="list-style-none f5" >
                    <li>
  <a class="HeaderMenu-dropdown-link d-block no-underline position-relative py-2 Link--secondary d-flex flex-items-center Link--has-description pb-lg-3" data-analytics-event="{&quot;location&quot;:&quot;navbar&quot;,&quot;action&quot;:&quot;github_copilot&quot;,&quot;context&quot;:&quot;product&quot;,&quot;tag&quot;:&quot;link&quot;,&quot;label&quot;:&quot;github_copilot_link_product_navbar&quot;}" href="https://github.com/features/copilot">
      <svg aria-hidden="true" height="24" viewBox="0 0 24 24" version="1.1" width="24" data-view-component="true" class="octicon octicon-copilot color-fg-subtle mr-3">
    <path d="M23.922 16.992c-.861 1.495-5.859 5.023-11.922 5.023-6.063 0-11.061-3.528-11.922-5.023A.641.641 0 0 1 0 16.736v-2.869a.841.841 0 0 1 .053-.22c.372-.935 1.347-2.292 2.605-2.656.167-.429.414-1.055.644-1.517a10.195 10.195 0 0 1-.052-1.086c0-1.331.282-2.499 1.132-3.368.397-.406.89-.717 1.474-.952 1.399-1.136 3.392-2.093 6.122-2.093 2.731 0 4.767.957 6.166 2.093.584.235 1.077.546 1.474.952.85.869 1.132 2.037 1.132 3.368 0 .368-.014.733-.052 1.086.23.462.477 1.088.644 1.517 1.258.364 2.233 1.721 2.605 2.656a.832.832 0 0 1 .053.22v2.869a.641.641 0 0 1-.078.256ZM12.172 11h-.344a4.323 4.323 0 0 1-.355.508C10.703 12.455 9.555 13 7.965 13c-1.725 0-2.989-.359-3.782-1.259a2.005 2.005 0 0 1-.085-.104L4 11.741v6.585c1.435.779 4.514 2.179 8 2.179 3.486 0 6.565-1.4 8-2.179v-6.585l-.098-.104s-.033.045-.085.104c-.793.9-2.057 1.259-3.782 1.259-1.59 0-2.738-.545-3.508-1.492a4.323 4.323 0 0 1-.355-.508h-.016.016Zm.641-2.935c.136 1.057.403 1.913.878 2.497.442.544 1.134.938 2.344.938 1.573 0 2.292-.337 2.657-.751.384-.435.558-1.15.558-2.361 0-1.14-.243-1.847-.705-2.319-.477-.488-1.319-.862-2.824-1.025-1.487-.161-2.192.138-2.533.529-.269.307-.437.808-.438 1.578v.021c0 .265.021.562.063.893Zm-1.626 0c.042-.331.063-.628.063-.894v-.02c-.001-.77-.169-1.271-.438-1.578-.341-.391-1.046-.69-2.533-.529-1.505.163-2.347.537-2.824 1.025-.462.472-.705 1.179-.705 2.319 0 1.211.175 1.926.558 2.361.365.414 1.084.751 2.657.751 1.21 0 1.902-.394 2.344-.938.475-.584.742-1.44.878-2.497Z"></path><path d="M14.5 14.25a1 1 0 0 1 1 1v2a1 1 0 0 1-2 0v-2a1 1 0 0 1 1-1Zm-5 0a1 1 0 0 1 1 1v2a1 1 0 0 1-2 0v-2a1 1 0 0 1 1-1Z"></path>
</svg>
      <div>
          <div class="color-fg-default h4">
            GitHub Copilot
          </div>
        Write better code with AI
      </div>

    
</a></li>

                    
                    <li>
  <a class="HeaderMenu-dropdown-link d-block no-underline position-relative py-2 Link--secondary d-flex flex-items-center Link--has-description pb-lg-3" data-analytics-event="{&quot;location&quot;:&quot;navbar&quot;,&quot;action&quot;:&quot;github_models&quot;,&quot;context&quot;:&quot;product&quot;,&quot;tag&quot;:&quot;link&quot;,&quot;label&quot;:&quot;github_models_link_product_navbar&quot;}" href="https://github.com/features/models">
      <svg aria-hidden="true" height="24" viewBox="0 0 24 24" version="1.1" width="24" data-view-component="true" class="octicon octicon-ai-model color-fg-subtle mr-3">
    <path d="M19.375 8.5a3.25 3.25 0 1 1-3.163 4h-3a3.252 3.252 0 0 1-4.443 2.509L7.214 17.76a3.25 3.25 0 1 1-1.342-.674l1.672-2.957A3.238 3.238 0 0 1 6.75 12c0-.907.371-1.727.97-2.316L6.117 6.846A3.253 3.253 0 0 1 1.875 3.75a3.25 3.25 0 1 1 5.526 2.32l1.603 2.836A3.25 3.25 0 0 1 13.093 11h3.119a3.252 3.252 0 0 1 3.163-2.5ZM10 10.25a1.75 1.75 0 1 0-.001 3.499A1.75 1.75 0 0 0 10 10.25ZM5.125 2a1.75 1.75 0 1 0 0 3.5 1.75 1.75 0 0 0 0-3.5Zm12.5 9.75a1.75 1.75 0 1 0 3.5 0 1.75 1.75 0 0 0-3.5 0Zm-14.25 8.5a1.75 1.75 0 1 0 3.501-.001 1.75 1.75 0 0 0-3.501.001Z"></path>
</svg>
      <div>
          <div class="color-fg-default h4">
            GitHub Models
              <span class="HeaderMenu-label">
                New
              </span>
          </div>
        Manage and compare prompts
      </div>

    
</a></li>

                    <li>
  <a class="HeaderMenu-dropdown-link d-block no-underline position-relative py-2 Link--secondary d-flex flex-items-center Link--has-description pb-lg-3" data-analytics-event="{&quot;location&quot;:&quot;navbar&quot;,&quot;action&quot;:&quot;github_advanced_security&quot;,&quot;context&quot;:&quot;product&quot;,&quot;tag&quot;:&quot;link&quot;,&quot;label&quot;:&quot;github_advanced_security_link_product_navbar&quot;}" href="https://github.com/security/advanced-security">
      <svg aria-hidden="true" height="24" viewBox="0 0 24 24" version="1.1" width="24" data-view-component="true" class="octicon octicon-shield-check color-fg-subtle mr-3">
    <path d="M16.53 9.78a.75.75 0 0 0-1.06-1.06L11 13.19l-1.97-1.97a.75.75 0 0 0-1.06 1.06l2.5 2.5a.75.75 0 0 0 1.06 0l5-5Z"></path><path d="m12.54.637 8.25 2.675A1.75 1.75 0 0 1 22 4.976V10c0 6.19-3.771 10.704-9.401 12.83a1.704 1.704 0 0 1-1.198 0C5.77 20.705 2 16.19 2 10V4.976c0-.758.489-1.43 1.21-1.664L11.46.637a1.748 1.748 0 0 1 1.08 0Zm-.617 1.426-8.25 2.676a.249.249 0 0 0-.173.237V10c0 5.46 3.28 9.483 8.43 11.426a.199.199 0 0 0 .14 0C17.22 19.483 20.5 15.461 20.5 10V4.976a.25.25 0 0 0-.173-.237l-8.25-2.676a.253.253 0 0 0-.154 0Z"></path>
</svg>
      <div>
          <div class="color-fg-default h4">
            GitHub Advanced Security
          </div>
        Find and fix vulnerabilities
      </div>

    
</a></li>

                    <li>
  <a class="HeaderMenu-dropdown-link d-block no-underline position-relative py-2 Link--secondary d-flex flex-items-center Link--has-description pb-lg-3" data-analytics-event="{&quot;location&quot;:&quot;navbar&quot;,&quot;action&quot;:&quot;actions&quot;,&quot;context&quot;:&quot;product&quot;,&quot;tag&quot;:&quot;link&quot;,&quot;label&quot;:&quot;actions_link_product_navbar&quot;}" href="https://github.com/features/actions">
      <svg aria-hidden="true" height="24" viewBox="0 0 24 24" version="1.1" width="24" data-view-component="true" class="octicon octicon-workflow color-fg-subtle mr-3">
    <path d="M1 3a2 2 0 0 1 2-2h6.5a2 2 0 0 1 2 2v6.5a2 2 0 0 1-2 2H7v4.063C7 16.355 7.644 17 8.438 17H12.5v-2.5a2 2 0 0 1 2-2H21a2 2 0 0 1 2 2V21a2 2 0 0 1-2 2h-6.5a2 2 0 0 1-2-2v-2.5H8.437A2.939 2.939 0 0 1 5.5 15.562V11.5H3a2 2 0 0 1-2-2Zm2-.5a.5.5 0 0 0-.5.5v6.5a.5.5 0 0 0 .5.5h6.5a.5.5 0 0 0 .5-.5V3a.5.5 0 0 0-.5-.5ZM14.5 14a.5.5 0 0 0-.5.5V21a.5.5 0 0 0 .5.5H21a.5.5 0 0 0 .5-.5v-6.5a.5.5 0 0 0-.5-.5Z"></path>
</svg>
      <div>
          <div class="color-fg-default h4">
            Actions
          </div>
        Automate any workflow
      </div>

    
</a></li>

                    <li>
  <a class="HeaderMenu-dropdown-link d-block no-underline position-relative py-2 Link--secondary d-flex flex-items-center Link--has-description" data-analytics-event="{&quot;location&quot;:&quot;navbar&quot;,&quot;action&quot;:&quot;codespaces&quot;,&quot;context&quot;:&quot;product&quot;,&quot;tag&quot;:&quot;link&quot;,&quot;label&quot;:&quot;codespaces_link_product_navbar&quot;}" href="https://github.com/features/codespaces">
      <svg aria-hidden="true" height="24" viewBox="0 0 24 24" version="1.1" width="24" data-view-component="true" class="octicon octicon-codespaces color-fg-subtle mr-3">
    <path d="M3.5 3.75C3.5 2.784 4.284 2 5.25 2h13.5c.966 0 1.75.784 1.75 1.75v7.5A1.75 1.75 0 0 1 18.75 13H5.25a1.75 1.75 0 0 1-1.75-1.75Zm-2 12c0-.966.784-1.75 1.75-1.75h17.5c.966 0 1.75.784 1.75 1.75v4a1.75 1.75 0 0 1-1.75 1.75H3.25a1.75 1.75 0 0 1-1.75-1.75ZM5.25 3.5a.25.25 0 0 0-.25.25v7.5c0 .138.112.25.25.25h13.5a.25.25 0 0 0 .25-.25v-7.5a.25.25 0 0 0-.25-.25Zm-2 12a.25.25 0 0 0-.25.25v4c0 .138.112.25.25.25h17.5a.25.25 0 0 0 .25-.25v-4a.25.25 0 0 0-.25-.25Z"></path><path d="M10 17.75a.75.75 0 0 1 .75-.75h6.5a.75.75 0 0 1 0 1.5h-6.5a.75.75 0 0 1-.75-.75Zm-4 0a.75.75 0 0 1 .75-.75h.5a.75.75 0 0 1 0 1.5h-.5a.75.75 0 0 1-.75-.75Z"></path>
</svg>
      <div>
          <div class="color-fg-default h4">
            Codespaces
          </div>
        Instant dev environments
      </div>

    
</a></li>

                </ul>
              </div>
          </div>
          <div class="HeaderMenu-column px-lg-4 border-lg-right mb-4 mb-lg-0 pr-lg-7">
              <div class="border-bottom pb-3 pb-lg-0 border-lg-bottom-0">

                <ul class="list-style-none f5" >
                    
                    <li>
  <a class="HeaderMenu-dropdown-link d-block no-underline position-relative py-2 Link--secondary d-flex flex-items-center Link--has-description pb-lg-3" data-analytics-event="{&quot;location&quot;:&quot;navbar&quot;,&quot;action&quot;:&quot;issues&quot;,&quot;context&quot;:&quot;product&quot;,&quot;tag&quot;:&quot;link&quot;,&quot;label&quot;:&quot;issues_link_product_navbar&quot;}" href="https://github.com/features/issues">
      <svg aria-hidden="true" height="24" viewBox="0 0 24 24" version="1.1" width="24" data-view-component="true" class="octicon octicon-issue-opened color-fg-subtle mr-3">
    <path d="M12 1c6.075 0 11 4.925 11 11s-4.925 11-11 11S1 18.075 1 12 5.925 1 12 1ZM2.5 12a9.5 9.5 0 0 0 9.5 9.5 9.5 9.5 0 0 0 9.5-9.5A9.5 9.5 0 0 0 12 2.5 9.5 9.5 0 0 0 2.5 12Zm9.5 2a2 2 0 1 1-.001-3.999A2 2 0 0 1 12 14Z"></path>
</svg>
      <div>
          <div class="color-fg-default h4">
            Issues
          </div>
        Plan and track work
      </div>

    
</a></li>

                    <li>
  <a class="HeaderMenu-dropdown-link d-block no-underline position-relative py-2 Link--secondary d-flex flex-items-center Link--has-description pb-lg-3" data-analytics-event="{&quot;location&quot;:&quot;navbar&quot;,&quot;action&quot;:&quot;code_review&quot;,&quot;context&quot;:&quot;product&quot;,&quot;tag&quot;:&quot;link&quot;,&quot;label&quot;:&quot;code_review_link_product_navbar&quot;}" href="https://github.com/features/code-review">
      <svg aria-hidden="true" height="24" viewBox="0 0 24 24" version="1.1" width="24" data-view-component="true" class="octicon octicon-code-review color-fg-subtle mr-3">
    <path d="M10.3 6.74a.75.75 0 0 1-.04 1.06l-2.908 2.7 2.908 2.7a.75.75 0 1 1-1.02 1.1l-3.5-3.25a.75.75 0 0 1 0-1.1l3.5-3.25a.75.75 0 0 1 1.06.04Zm3.44 1.06a.75.75 0 1 1 1.02-1.1l3.5 3.25a.75.75 0 0 1 0 1.1l-3.5 3.25a.75.75 0 1 1-1.02-1.1l2.908-2.7-2.908-2.7Z"></path><path d="M1.5 4.25c0-.966.784-1.75 1.75-1.75h17.5c.966 0 1.75.784 1.75 1.75v12.5a1.75 1.75 0 0 1-1.75 1.75h-9.69l-3.573 3.573A1.458 1.458 0 0 1 5 21.043V18.5H3.25a1.75 1.75 0 0 1-1.75-1.75ZM3.25 4a.25.25 0 0 0-.25.25v12.5c0 .138.112.25.25.25h2.5a.75.75 0 0 1 .75.75v3.19l3.72-3.72a.749.749 0 0 1 .53-.22h10a.25.25 0 0 0 .25-.25V4.25a.25.25 0 0 0-.25-.25Z"></path>
</svg>
      <div>
          <div class="color-fg-default h4">
            Code Review
          </div>
        Manage code changes
      </div>

    
</a></li>

                    <li>
  <a class="HeaderMenu-dropdown-link d-block no-underline position-relative py-2 Link--secondary d-flex flex-items-center Link--has-description pb-lg-3" data-analytics-event="{&quot;location&quot;:&quot;navbar&quot;,&quot;action&quot;:&quot;discussions&quot;,&quot;context&quot;:&quot;product&quot;,&quot;tag&quot;:&quot;link&quot;,&quot;label&quot;:&quot;discussions_link_product_navbar&quot;}" href="https://github.com/features/discussions">
      <svg aria-hidden="true" height="24" viewBox="0 0 24 24" version="1.1" width="24" data-view-component="true" class="octicon octicon-comment-discussion color-fg-subtle mr-3">
    <path d="M1.75 1h12.5c.966 0 1.75.784 1.75 1.75v9.5A1.75 1.75 0 0 1 14.25 14H8.061l-2.574 2.573A1.458 1.458 0 0 1 3 15.543V14H1.75A1.75 1.75 0 0 1 0 12.25v-9.5C0 1.784.784 1 1.75 1ZM1.5 2.75v9.5c0 .138.112.25.25.25h2a.75.75 0 0 1 .75.75v2.19l2.72-2.72a.749.749 0 0 1 .53-.22h6.5a.25.25 0 0 0 .25-.25v-9.5a.25.25 0 0 0-.25-.25H1.75a.25.25 0 0 0-.25.25Z"></path><path d="M22.5 8.75a.25.25 0 0 0-.25-.25h-3.5a.75.75 0 0 1 0-1.5h3.5c.966 0 1.75.784 1.75 1.75v9.5A1.75 1.75 0 0 1 22.25 20H21v1.543a1.457 1.457 0 0 1-2.487 1.03L15.939 20H10.75A1.75 1.75 0 0 1 9 18.25v-1.465a.75.75 0 0 1 1.5 0v1.465c0 .138.112.25.25.25h5.5a.75.75 0 0 1 .53.22l2.72 2.72v-2.19a.75.75 0 0 1 .75-.75h2a.25.25 0 0 0 .25-.25v-9.5Z"></path>
</svg>
      <div>
          <div class="color-fg-default h4">
            Discussions
          </div>
        Collaborate outside of code
      </div>

    
</a></li>

                    <li>
  <a class="HeaderMenu-dropdown-link d-block no-underline position-relative py-2 Link--secondary d-flex flex-items-center Link--has-description" data-analytics-event="{&quot;location&quot;:&quot;navbar&quot;,&quot;action&quot;:&quot;code_search&quot;,&quot;context&quot;:&quot;product&quot;,&quot;tag&quot;:&quot;link&quot;,&quot;label&quot;:&quot;code_search_link_product_navbar&quot;}" href="https://github.com/features/code-search">
      <svg aria-hidden="true" height="24" viewBox="0 0 24 24" version="1.1" width="24" data-view-component="true" class="octicon octicon-code-square color-fg-subtle mr-3">
    <path d="M10.3 8.24a.75.75 0 0 1-.04 1.06L7.352 12l2.908 2.7a.75.75 0 1 1-1.02 1.1l-3.5-3.25a.75.75 0 0 1 0-1.1l3.5-3.25a.75.75 0 0 1 1.06.04Zm3.44 1.06a.75.75 0 1 1 1.02-1.1l3.5 3.25a.75.75 0 0 1 0 1.1l-3.5 3.25a.75.75 0 1 1-1.02-1.1l2.908-2.7-2.908-2.7Z"></path><path d="M2 3.75C2 2.784 2.784 2 3.75 2h16.5c.966 0 1.75.784 1.75 1.75v16.5A1.75 1.75 0 0 1 20.25 22H3.75A1.75 1.75 0 0 1 2 20.25Zm1.75-.25a.25.25 0 0 0-.25.25v16.5c0 .138.112.25.25.25h16.5a.25.25 0 0 0 .25-.25V3.75a.25.25 0 0 0-.25-.25Z"></path>
</svg>
      <div>
          <div class="color-fg-default h4">
            Code Search
          </div>
        Find more, search less
      </div>

    
</a></li>

                </ul>
              </div>
          </div>
          <div class="HeaderMenu-column px-lg-4">
              <div class="border-bottom pb-3 pb-lg-0 border-lg-bottom-0 border-bottom-0">
                    <span class="d-block h4 color-fg-default my-1" id="product-explore-heading">Explore</span>

                <ul class="list-style-none f5" aria-labelledby="product-explore-heading">
                    <li>
  <a class="HeaderMenu-dropdown-link d-block no-underline position-relative py-2 Link--secondary" data-analytics-event="{&quot;location&quot;:&quot;navbar&quot;,&quot;action&quot;:&quot;why_github&quot;,&quot;context&quot;:&quot;product&quot;,&quot;tag&quot;:&quot;link&quot;,&quot;label&quot;:&quot;why_github_link_product_navbar&quot;}" href="https://github.com/why-github">
      Why GitHub

    
</a></li>

                    <li>
  <a class="HeaderMenu-dropdown-link d-block no-underline position-relative py-2 Link--secondary" data-analytics-event="{&quot;location&quot;:&quot;navbar&quot;,&quot;action&quot;:&quot;all_features&quot;,&quot;context&quot;:&quot;product&quot;,&quot;tag&quot;:&quot;link&quot;,&quot;label&quot;:&quot;all_features_link_product_navbar&quot;}" href="https://github.com/features">
      All features

    
</a></li>

                    <li>
  <a class="HeaderMenu-dropdown-link d-block no-underline position-relative py-2 Link--secondary Link--external" target="_blank" data-analytics-event="{&quot;location&quot;:&quot;navbar&quot;,&quot;action&quot;:&quot;documentation&quot;,&quot;context&quot;:&quot;product&quot;,&quot;tag&quot;:&quot;link&quot;,&quot;label&quot;:&quot;documentation_link_product_navbar&quot;}" href="https://docs.github.com">
      Documentation

    <svg aria-hidden="true" height="16" viewBox="0 0 16 16" version="1.1" width="16" data-view-component="true" class="octicon octicon-link-external HeaderMenu-external-icon color-fg-subtle">
    <path d="M3.75 2h3.5a.75.75 0 0 1 0 1.5h-3.5a.25.25 0 0 0-.25.25v8.5c0 .138.112.25.25.25h8.5a.25.25 0 0 0 .25-.25v-3.5a.75.75 0 0 1 1.5 0v3.5A1.75 1.75 0 0 1 12.25 14h-8.5A1.75 1.75 0 0 1 2 12.25v-8.5C2 2.784 2.784 2 3.75 2Zm6.854-1h4.146a.25.25 0 0 1 .25.25v4.146a.25.25 0 0 1-.427.177L13.03 4.03 9.28 7.78a.751.751 0 0 1-1.042-.018.751.751 0 0 1-.018-1.042l3.75-3.75-1.543-1.543A.25.25 0 0 1 10.604 1Z"></path>
</svg>
</a></li>

                    <li>
  <a class="HeaderMenu-dropdown-link d-block no-underline position-relative py-2 Link--secondary Link--external" target="_blank" data-analytics-event="{&quot;location&quot;:&quot;navbar&quot;,&quot;action&quot;:&quot;github_skills&quot;,&quot;context&quot;:&quot;product&quot;,&quot;tag&quot;:&quot;link&quot;,&quot;label&quot;:&quot;github_skills_link_product_navbar&quot;}" href="https://skills.github.com">
      GitHub Skills

    <svg aria-hidden="true" height="16" viewBox="0 0 16 16" version="1.1" width="16" data-view-component="true" class="octicon octicon-link-external HeaderMenu-external-icon color-fg-subtle">
    <path d="M3.75 2h3.5a.75.75 0 0 1 0 1.5h-3.5a.25.25 0 0 0-.25.25v8.5c0 .138.112.25.25.25h8.5a.25.25 0 0 0 .25-.25v-3.5a.75.75 0 0 1 1.5 0v3.5A1.75 1.75 0 0 1 12.25 14h-8.5A1.75 1.75 0 0 1 2 12.25v-8.5C2 2.784 2.784 2 3.75 2Zm6.854-1h4.146a.25.25 0 0 1 .25.25v4.146a.25.25 0 0 1-.427.177L13.03 4.03 9.28 7.78a.751.751 0 0 1-1.042-.018.751.751 0 0 1-.018-1.042l3.75-3.75-1.543-1.543A.25.25 0 0 1 10.604 1Z"></path>
</svg>
</a></li>

                    <li>
  <a class="HeaderMenu-dropdown-link d-block no-underline position-relative py-2 Link--secondary Link--external" target="_blank" data-analytics-event="{&quot;location&quot;:&quot;navbar&quot;,&quot;action&quot;:&quot;blog&quot;,&quot;context&quot;:&quot;product&quot;,&quot;tag&quot;:&quot;link&quot;,&quot;label&quot;:&quot;blog_link_product_navbar&quot;}" href="https://github.blog">
      Blog

    <svg aria-hidden="true" height="16" viewBox="0 0 16 16" version="1.1" width="16" data-view-component="true" class="octicon octicon-link-external HeaderMenu-external-icon color-fg-subtle">
    <path d="M3.75 2h3.5a.75.75 0 0 1 0 1.5h-3.5a.25.25 0 0 0-.25.25v8.5c0 .138.112.25.25.25h8.5a.25.25 0 0 0 .25-.25v-3.5a.75.75 0 0 1 1.5 0v3.5A1.75 1.75 0 0 1 12.25 14h-8.5A1.75 1.75 0 0 1 2 12.25v-8.5C2 2.784 2.784 2 3.75 2Zm6.854-1h4.146a.25.25 0 0 1 .25.25v4.146a.25.25 0 0 1-.427.177L13.03 4.03 9.28 7.78a.751.751 0 0 1-1.042-.018.751.751 0 0 1-.018-1.042l3.75-3.75-1.543-1.543A.25.25 0 0 1 10.604 1Z"></path>
</svg>
</a></li>

                </ul>
              </div>
          </div>

      </div>
</li>


                <li class="HeaderMenu-item position-relative flex-wrap flex-justify-between flex-items-center d-block d-lg-flex flex-lg-nowrap flex-lg-items-center js-details-container js-header-menu-item">
      <button type="button" class="HeaderMenu-link border-0 width-full width-lg-auto px-0 px-lg-2 py-lg-2 no-wrap d-flex flex-items-center flex-justify-between js-details-target" aria-expanded="false">
        Solutions
        <svg opacity="0.5" aria-hidden="true" height="16" viewBox="0 0 16 16" version="1.1" width="16" data-view-component="true" class="octicon octicon-chevron-down HeaderMenu-icon ml-1">
    <path d="M12.78 5.22a.749.749 0 0 1 0 1.06l-4.25 4.25a.749.749 0 0 1-1.06 0L3.22 6.28a.749.749 0 1 1 1.06-1.06L8 8.939l3.72-3.719a.749.749 0 0 1 1.06 0Z"></path>
</svg>
      </button>

      <div class="HeaderMenu-dropdown dropdown-menu rounded m-0 p-0 pt-2 pt-lg-4 position-relative position-lg-absolute left-0 left-lg-n3 d-lg-flex flex-wrap dropdown-menu-wide">
          <div class="HeaderMenu-column px-lg-4 border-lg-right mb-4 mb-lg-0 pr-lg-7">
              <div class="border-bottom pb-3 pb-lg-0 border-lg-bottom-0 pb-lg-3 mb-3 mb-lg-0">
                    <span class="d-block h4 color-fg-default my-1" id="solutions-by-company-size-heading">By company size</span>

                <ul class="list-style-none f5" aria-labelledby="solutions-by-company-size-heading">
                    <li>
  <a class="HeaderMenu-dropdown-link d-block no-underline position-relative py-2 Link--secondary" data-analytics-event="{&quot;location&quot;:&quot;navbar&quot;,&quot;action&quot;:&quot;enterprises&quot;,&quot;context&quot;:&quot;solutions&quot;,&quot;tag&quot;:&quot;link&quot;,&quot;label&quot;:&quot;enterprises_link_solutions_navbar&quot;}" href="https://github.com/enterprise">
      Enterprises

    
</a></li>

                    <li>
  <a class="HeaderMenu-dropdown-link d-block no-underline position-relative py-2 Link--secondary" data-analytics-event="{&quot;location&quot;:&quot;navbar&quot;,&quot;action&quot;:&quot;small_and_medium_teams&quot;,&quot;context&quot;:&quot;solutions&quot;,&quot;tag&quot;:&quot;link&quot;,&quot;label&quot;:&quot;small_and_medium_teams_link_solutions_navbar&quot;}" href="https://github.com/team">
      Small and medium teams

    
</a></li>

                    <li>
  <a class="HeaderMenu-dropdown-link d-block no-underline position-relative py-2 Link--secondary" data-analytics-event="{&quot;location&quot;:&quot;navbar&quot;,&quot;action&quot;:&quot;startups&quot;,&quot;context&quot;:&quot;solutions&quot;,&quot;tag&quot;:&quot;link&quot;,&quot;label&quot;:&quot;startups_link_solutions_navbar&quot;}" href="https://github.com/enterprise/startups">
      Startups

    
</a></li>

                    <li>
  <a class="HeaderMenu-dropdown-link d-block no-underline position-relative py-2 Link--secondary" data-analytics-event="{&quot;location&quot;:&quot;navbar&quot;,&quot;action&quot;:&quot;nonprofits&quot;,&quot;context&quot;:&quot;solutions&quot;,&quot;tag&quot;:&quot;link&quot;,&quot;label&quot;:&quot;nonprofits_link_solutions_navbar&quot;}" href="/solutions/industry/nonprofits">
      Nonprofits

    
</a></li>

                </ul>
              </div>
              <div class="border-bottom pb-3 pb-lg-0 border-lg-bottom-0">
                    <span class="d-block h4 color-fg-default my-1" id="solutions-by-use-case-heading">By use case</span>

                <ul class="list-style-none f5" aria-labelledby="solutions-by-use-case-heading">
                    <li>
  <a class="HeaderMenu-dropdown-link d-block no-underline position-relative py-2 Link--secondary" data-analytics-event="{&quot;location&quot;:&quot;navbar&quot;,&quot;action&quot;:&quot;devsecops&quot;,&quot;context&quot;:&quot;solutions&quot;,&quot;tag&quot;:&quot;link&quot;,&quot;label&quot;:&quot;devsecops_link_solutions_navbar&quot;}" href="/solutions/use-case/devsecops">
      DevSecOps

    
</a></li>

                    <li>
  <a class="HeaderMenu-dropdown-link d-block no-underline position-relative py-2 Link--secondary" data-analytics-event="{&quot;location&quot;:&quot;navbar&quot;,&quot;action&quot;:&quot;devops&quot;,&quot;context&quot;:&quot;solutions&quot;,&quot;tag&quot;:&quot;link&quot;,&quot;label&quot;:&quot;devops_link_solutions_navbar&quot;}" href="/solutions/use-case/devops">
      DevOps

    
</a></li>

                    <li>
  <a class="HeaderMenu-dropdown-link d-block no-underline position-relative py-2 Link--secondary" data-analytics-event="{&quot;location&quot;:&quot;navbar&quot;,&quot;action&quot;:&quot;ci_cd&quot;,&quot;context&quot;:&quot;solutions&quot;,&quot;tag&quot;:&quot;link&quot;,&quot;label&quot;:&quot;ci_cd_link_solutions_navbar&quot;}" href="/solutions/use-case/ci-cd">
      CI/CD

    
</a></li>

                    <li>
  <a class="HeaderMenu-dropdown-link d-block no-underline position-relative py-2 Link--secondary" data-analytics-event="{&quot;location&quot;:&quot;navbar&quot;,&quot;action&quot;:&quot;view_all_use_cases&quot;,&quot;context&quot;:&quot;solutions&quot;,&quot;tag&quot;:&quot;link&quot;,&quot;label&quot;:&quot;view_all_use_cases_link_solutions_navbar&quot;}" href="/solutions/use-case">
      View all use cases

    
</a></li>

                </ul>
              </div>
          </div>
          <div class="HeaderMenu-column px-lg-4">
              <div class="border-bottom pb-3 pb-lg-0 border-lg-bottom-0">
                    <span class="d-block h4 color-fg-default my-1" id="solutions-by-industry-heading">By industry</span>

                <ul class="list-style-none f5" aria-labelledby="solutions-by-industry-heading">
                    <li>
  <a class="HeaderMenu-dropdown-link d-block no-underline position-relative py-2 Link--secondary" data-analytics-event="{&quot;location&quot;:&quot;navbar&quot;,&quot;action&quot;:&quot;healthcare&quot;,&quot;context&quot;:&quot;solutions&quot;,&quot;tag&quot;:&quot;link&quot;,&quot;label&quot;:&quot;healthcare_link_solutions_navbar&quot;}" href="/solutions/industry/healthcare">
      Healthcare

    
</a></li>

                    <li>
  <a class="HeaderMenu-dropdown-link d-block no-underline position-relative py-2 Link--secondary" data-analytics-event="{&quot;location&quot;:&quot;navbar&quot;,&quot;action&quot;:&quot;financial_services&quot;,&quot;context&quot;:&quot;solutions&quot;,&quot;tag&quot;:&quot;link&quot;,&quot;label&quot;:&quot;financial_services_link_solutions_navbar&quot;}" href="/solutions/industry/financial-services">
      Financial services

    
</a></li>

                    <li>
  <a class="HeaderMenu-dropdown-link d-block no-underline position-relative py-2 Link--secondary" data-analytics-event="{&quot;location&quot;:&quot;navbar&quot;,&quot;action&quot;:&quot;manufacturing&quot;,&quot;context&quot;:&quot;solutions&quot;,&quot;tag&quot;:&quot;link&quot;,&quot;label&quot;:&quot;manufacturing_link_solutions_navbar&quot;}" href="/solutions/industry/manufacturing">
      Manufacturing

    
</a></li>

                    <li>
  <a class="HeaderMenu-dropdown-link d-block no-underline position-relative py-2 Link--secondary" data-analytics-event="{&quot;location&quot;:&quot;navbar&quot;,&quot;action&quot;:&quot;government&quot;,&quot;context&quot;:&quot;solutions&quot;,&quot;tag&quot;:&quot;link&quot;,&quot;label&quot;:&quot;government_link_solutions_navbar&quot;}" href="/solutions/industry/government">
      Government

    
</a></li>

                    <li>
  <a class="HeaderMenu-dropdown-link d-block no-underline position-relative py-2 Link--secondary" data-analytics-event="{&quot;location&quot;:&quot;navbar&quot;,&quot;action&quot;:&quot;view_all_industries&quot;,&quot;context&quot;:&quot;solutions&quot;,&quot;tag&quot;:&quot;link&quot;,&quot;label&quot;:&quot;view_all_industries_link_solutions_navbar&quot;}" href="/solutions/industry">
      View all industries

    
</a></li>

                </ul>
              </div>
          </div>

         <div class="HeaderMenu-trailing-link rounded-bottom-2 flex-shrink-0 mt-lg-4 px-lg-4 py-4 py-lg-3 f5 text-semibold">
            <a href="/solutions">
              View all solutions
              <svg aria-hidden="true" height="16" viewBox="0 0 16 16" version="1.1" width="16" data-view-component="true" class="octicon octicon-chevron-right HeaderMenu-trailing-link-icon">
    <path d="M6.22 3.22a.75.75 0 0 1 1.06 0l4.25 4.25a.75.75 0 0 1 0 1.06l-4.25 4.25a.751.751 0 0 1-1.042-.018.751.751 0 0 1-.018-1.042L9.94 8 6.22 4.28a.75.75 0 0 1 0-1.06Z"></path>
</svg>
</a>         </div>
      </div>
</li>


                <li class="HeaderMenu-item position-relative flex-wrap flex-justify-between flex-items-center d-block d-lg-flex flex-lg-nowrap flex-lg-items-center js-details-container js-header-menu-item">
      <button type="button" class="HeaderMenu-link border-0 width-full width-lg-auto px-0 px-lg-2 py-lg-2 no-wrap d-flex flex-items-center flex-justify-between js-details-target" aria-expanded="false">
        Resources
        <svg opacity="0.5" aria-hidden="true" height="16" viewBox="0 0 16 16" version="1.1" width="16" data-view-component="true" class="octicon octicon-chevron-down HeaderMenu-icon ml-1">
    <path d="M12.78 5.22a.749.749 0 0 1 0 1.06l-4.25 4.25a.749.749 0 0 1-1.06 0L3.22 6.28a.749.749 0 1 1 1.06-1.06L8 8.939l3.72-3.719a.749.749 0 0 1 1.06 0Z"></path>
</svg>
      </button>

      <div class="HeaderMenu-dropdown dropdown-menu rounded m-0 p-0 pt-2 pt-lg-4 position-relative position-lg-absolute left-0 left-lg-n3 pb-2 pb-lg-4 d-lg-flex flex-wrap dropdown-menu-wide">
          <div class="HeaderMenu-column px-lg-4 border-lg-right mb-4 mb-lg-0 pr-lg-7">
              <div class="border-bottom pb-3 pb-lg-0 border-lg-bottom-0">
                    <span class="d-block h4 color-fg-default my-1" id="resources-topics-heading">Topics</span>

                <ul class="list-style-none f5" aria-labelledby="resources-topics-heading">
                    <li>
  <a class="HeaderMenu-dropdown-link d-block no-underline position-relative py-2 Link--secondary" data-analytics-event="{&quot;location&quot;:&quot;navbar&quot;,&quot;action&quot;:&quot;ai&quot;,&quot;context&quot;:&quot;resources&quot;,&quot;tag&quot;:&quot;link&quot;,&quot;label&quot;:&quot;ai_link_resources_navbar&quot;}" href="/resources/articles/ai">
      AI

    
</a></li>

                    <li>
  <a class="HeaderMenu-dropdown-link d-block no-underline position-relative py-2 Link--secondary" data-analytics-event="{&quot;location&quot;:&quot;navbar&quot;,&quot;action&quot;:&quot;devops&quot;,&quot;context&quot;:&quot;resources&quot;,&quot;tag&quot;:&quot;link&quot;,&quot;label&quot;:&quot;devops_link_resources_navbar&quot;}" href="/resources/articles/devops">
      DevOps

    
</a></li>

                    <li>
  <a class="HeaderMenu-dropdown-link d-block no-underline position-relative py-2 Link--secondary" data-analytics-event="{&quot;location&quot;:&quot;navbar&quot;,&quot;action&quot;:&quot;security&quot;,&quot;context&quot;:&quot;resources&quot;,&quot;tag&quot;:&quot;link&quot;,&quot;label&quot;:&quot;security_link_resources_navbar&quot;}" href="/resources/articles/security">
      Security

    
</a></li>

                    <li>
  <a class="HeaderMenu-dropdown-link d-block no-underline position-relative py-2 Link--secondary" data-analytics-event="{&quot;location&quot;:&quot;navbar&quot;,&quot;action&quot;:&quot;software_development&quot;,&quot;context&quot;:&quot;resources&quot;,&quot;tag&quot;:&quot;link&quot;,&quot;label&quot;:&quot;software_development_link_resources_navbar&quot;}" href="/resources/articles/software-development">
      Software Development

    
</a></li>

                    <li>
  <a class="HeaderMenu-dropdown-link d-block no-underline position-relative py-2 Link--secondary" data-analytics-event="{&quot;location&quot;:&quot;navbar&quot;,&quot;action&quot;:&quot;view_all&quot;,&quot;context&quot;:&quot;resources&quot;,&quot;tag&quot;:&quot;link&quot;,&quot;label&quot;:&quot;view_all_link_resources_navbar&quot;}" href="/resources/articles">
      View all

    
</a></li>

                </ul>
              </div>
          </div>
          <div class="HeaderMenu-column px-lg-4">
              <div class="border-bottom pb-3 pb-lg-0 border-lg-bottom-0 border-bottom-0">
                    <span class="d-block h4 color-fg-default my-1" id="resources-explore-heading">Explore</span>

                <ul class="list-style-none f5" aria-labelledby="resources-explore-heading">
                    <li>
  <a class="HeaderMenu-dropdown-link d-block no-underline position-relative py-2 Link--secondary Link--external" target="_blank" data-analytics-event="{&quot;location&quot;:&quot;navbar&quot;,&quot;action&quot;:&quot;learning_pathways&quot;,&quot;context&quot;:&quot;resources&quot;,&quot;tag&quot;:&quot;link&quot;,&quot;label&quot;:&quot;learning_pathways_link_resources_navbar&quot;}" href="https://resources.github.com/learn/pathways">
      Learning Pathways

    <svg aria-hidden="true" height="16" viewBox="0 0 16 16" version="1.1" width="16" data-view-component="true" class="octicon octicon-link-external HeaderMenu-external-icon color-fg-subtle">
    <path d="M3.75 2h3.5a.75.75 0 0 1 0 1.5h-3.5a.25.25 0 0 0-.25.25v8.5c0 .138.112.25.25.25h8.5a.25.25 0 0 0 .25-.25v-3.5a.75.75 0 0 1 1.5 0v3.5A1.75 1.75 0 0 1 12.25 14h-8.5A1.75 1.75 0 0 1 2 12.25v-8.5C2 2.784 2.784 2 3.75 2Zm6.854-1h4.146a.25.25 0 0 1 .25.25v4.146a.25.25 0 0 1-.427.177L13.03 4.03 9.28 7.78a.751.751 0 0 1-1.042-.018.751.751 0 0 1-.018-1.042l3.75-3.75-1.543-1.543A.25.25 0 0 1 10.604 1Z"></path>
</svg>
</a></li>

                    <li>
  <a class="HeaderMenu-dropdown-link d-block no-underline position-relative py-2 Link--secondary Link--external" target="_blank" data-analytics-event="{&quot;location&quot;:&quot;navbar&quot;,&quot;action&quot;:&quot;events_amp_webinars&quot;,&quot;context&quot;:&quot;resources&quot;,&quot;tag&quot;:&quot;link&quot;,&quot;label&quot;:&quot;events_amp_webinars_link_resources_navbar&quot;}" href="https://resources.github.com">
      Events &amp; Webinars

    <svg aria-hidden="true" height="16" viewBox="0 0 16 16" version="1.1" width="16" data-view-component="true" class="octicon octicon-link-external HeaderMenu-external-icon color-fg-subtle">
    <path d="M3.75 2h3.5a.75.75 0 0 1 0 1.5h-3.5a.25.25 0 0 0-.25.25v8.5c0 .138.112.25.25.25h8.5a.25.25 0 0 0 .25-.25v-3.5a.75.75 0 0 1 1.5 0v3.5A1.75 1.75 0 0 1 12.25 14h-8.5A1.75 1.75 0 0 1 2 12.25v-8.5C2 2.784 2.784 2 3.75 2Zm6.854-1h4.146a.25.25 0 0 1 .25.25v4.146a.25.25 0 0 1-.427.177L13.03 4.03 9.28 7.78a.751.751 0 0 1-1.042-.018.751.751 0 0 1-.018-1.042l3.75-3.75-1.543-1.543A.25.25 0 0 1 10.604 1Z"></path>
</svg>
</a></li>

                    <li>
  <a class="HeaderMenu-dropdown-link d-block no-underline position-relative py-2 Link--secondary" data-analytics-event="{&quot;location&quot;:&quot;navbar&quot;,&quot;action&quot;:&quot;ebooks_amp_whitepapers&quot;,&quot;context&quot;:&quot;resources&quot;,&quot;tag&quot;:&quot;link&quot;,&quot;label&quot;:&quot;ebooks_amp_whitepapers_link_resources_navbar&quot;}" href="https://github.com/resources/whitepapers">
      Ebooks &amp; Whitepapers

    
</a></li>

                    <li>
  <a class="HeaderMenu-dropdown-link d-block no-underline position-relative py-2 Link--secondary" data-analytics-event="{&quot;location&quot;:&quot;navbar&quot;,&quot;action&quot;:&quot;customer_stories&quot;,&quot;context&quot;:&quot;resources&quot;,&quot;tag&quot;:&quot;link&quot;,&quot;label&quot;:&quot;customer_stories_link_resources_navbar&quot;}" href="https://github.com/customer-stories">
      Customer Stories

    
</a></li>

                    <li>
  <a class="HeaderMenu-dropdown-link d-block no-underline position-relative py-2 Link--secondary Link--external" target="_blank" data-analytics-event="{&quot;location&quot;:&quot;navbar&quot;,&quot;action&quot;:&quot;partners&quot;,&quot;context&quot;:&quot;resources&quot;,&quot;tag&quot;:&quot;link&quot;,&quot;label&quot;:&quot;partners_link_resources_navbar&quot;}" href="https://partner.github.com">
      Partners

    <svg aria-hidden="true" height="16" viewBox="0 0 16 16" version="1.1" width="16" data-view-component="true" class="octicon octicon-link-external HeaderMenu-external-icon color-fg-subtle">
    <path d="M3.75 2h3.5a.75.75 0 0 1 0 1.5h-3.5a.25.25 0 0 0-.25.25v8.5c0 .138.112.25.25.25h8.5a.25.25 0 0 0 .25-.25v-3.5a.75.75 0 0 1 1.5 0v3.5A1.75 1.75 0 0 1 12.25 14h-8.5A1.75 1.75 0 0 1 2 12.25v-8.5C2 2.784 2.784 2 3.75 2Zm6.854-1h4.146a.25.25 0 0 1 .25.25v4.146a.25.25 0 0 1-.427.177L13.03 4.03 9.28 7.78a.751.751 0 0 1-1.042-.018.751.751 0 0 1-.018-1.042l3.75-3.75-1.543-1.543A.25.25 0 0 1 10.604 1Z"></path>
</svg>
</a></li>

                    <li>
  <a class="HeaderMenu-dropdown-link d-block no-underline position-relative py-2 Link--secondary" data-analytics-event="{&quot;location&quot;:&quot;navbar&quot;,&quot;action&quot;:&quot;executive_insights&quot;,&quot;context&quot;:&quot;resources&quot;,&quot;tag&quot;:&quot;link&quot;,&quot;label&quot;:&quot;executive_insights_link_resources_navbar&quot;}" href="https://github.com/solutions/executive-insights">
      Executive Insights

    
</a></li>

                </ul>
              </div>
          </div>

      </div>
</li>


                <li class="HeaderMenu-item position-relative flex-wrap flex-justify-between flex-items-center d-block d-lg-flex flex-lg-nowrap flex-lg-items-center js-details-container js-header-menu-item">
      <button type="button" class="HeaderMenu-link border-0 width-full width-lg-auto px-0 px-lg-2 py-lg-2 no-wrap d-flex flex-items-center flex-justify-between js-details-target" aria-expanded="false">
        Open Source
        <svg opacity="0.5" aria-hidden="true" height="16" viewBox="0 0 16 16" version="1.1" width="16" data-view-component="true" class="octicon octicon-chevron-down HeaderMenu-icon ml-1">
    <path d="M12.78 5.22a.749.749 0 0 1 0 1.06l-4.25 4.25a.749.749 0 0 1-1.06 0L3.22 6.28a.749.749 0 1 1 1.06-1.06L8 8.939l3.72-3.719a.749.749 0 0 1 1.06 0Z"></path>
</svg>
      </button>

      <div class="HeaderMenu-dropdown dropdown-menu rounded m-0 p-0 pt-2 pt-lg-4 position-relative position-lg-absolute left-0 left-lg-n3 pb-2 pb-lg-4 px-lg-4">
          <div class="HeaderMenu-column">
              <div class="border-bottom pb-3 pb-lg-0 pb-lg-3 mb-3 mb-lg-0 mb-lg-3">

                <ul class="list-style-none f5" >
                    <li>
  <a class="HeaderMenu-dropdown-link d-block no-underline position-relative py-2 Link--secondary d-flex flex-items-center Link--has-description" data-analytics-event="{&quot;location&quot;:&quot;navbar&quot;,&quot;action&quot;:&quot;github_sponsors&quot;,&quot;context&quot;:&quot;open_source&quot;,&quot;tag&quot;:&quot;link&quot;,&quot;label&quot;:&quot;github_sponsors_link_open_source_navbar&quot;}" href="/sponsors">
      
      <div>
          <div class="color-fg-default h4">
            GitHub Sponsors
          </div>
        Fund open source developers
      </div>

    
</a></li>

                </ul>
              </div>
              <div class="border-bottom pb-3 pb-lg-0 pb-lg-3 mb-3 mb-lg-0 mb-lg-3">

                <ul class="list-style-none f5" >
                    <li>
  <a class="HeaderMenu-dropdown-link d-block no-underline position-relative py-2 Link--secondary d-flex flex-items-center Link--has-description" data-analytics-event="{&quot;location&quot;:&quot;navbar&quot;,&quot;action&quot;:&quot;the_readme_project&quot;,&quot;context&quot;:&quot;open_source&quot;,&quot;tag&quot;:&quot;link&quot;,&quot;label&quot;:&quot;the_readme_project_link_open_source_navbar&quot;}" href="https://github.com/readme">
      
      <div>
          <div class="color-fg-default h4">
            The ReadME Project
          </div>
        GitHub community articles
      </div>

    
</a></li>

                </ul>
              </div>
              <div class="border-bottom pb-3 pb-lg-0 border-bottom-0">
                    <span class="d-block h4 color-fg-default my-1" id="open-source-repositories-heading">Repositories</span>

                <ul class="list-style-none f5" aria-labelledby="open-source-repositories-heading">
                    <li>
  <a class="HeaderMenu-dropdown-link d-block no-underline position-relative py-2 Link--secondary" data-analytics-event="{&quot;location&quot;:&quot;navbar&quot;,&quot;action&quot;:&quot;topics&quot;,&quot;context&quot;:&quot;open_source&quot;,&quot;tag&quot;:&quot;link&quot;,&quot;label&quot;:&quot;topics_link_open_source_navbar&quot;}" href="https://github.com/topics">
      Topics

    
</a></li>

                    <li>
  <a class="HeaderMenu-dropdown-link d-block no-underline position-relative py-2 Link--secondary" data-analytics-event="{&quot;location&quot;:&quot;navbar&quot;,&quot;action&quot;:&quot;trending&quot;,&quot;context&quot;:&quot;open_source&quot;,&quot;tag&quot;:&quot;link&quot;,&quot;label&quot;:&quot;trending_link_open_source_navbar&quot;}" href="https://github.com/trending">
      Trending

    
</a></li>

                    <li>
  <a class="HeaderMenu-dropdown-link d-block no-underline position-relative py-2 Link--secondary" data-analytics-event="{&quot;location&quot;:&quot;navbar&quot;,&quot;action&quot;:&quot;collections&quot;,&quot;context&quot;:&quot;open_source&quot;,&quot;tag&quot;:&quot;link&quot;,&quot;label&quot;:&quot;collections_link_open_source_navbar&quot;}" href="https://github.com/collections">
      Collections

    
</a></li>

                </ul>
              </div>
          </div>

      </div>
</li>


                <li class="HeaderMenu-item position-relative flex-wrap flex-justify-between flex-items-center d-block d-lg-flex flex-lg-nowrap flex-lg-items-center js-details-container js-header-menu-item">
      <button type="button" class="HeaderMenu-link border-0 width-full width-lg-auto px-0 px-lg-2 py-lg-2 no-wrap d-flex flex-items-center flex-justify-between js-details-target" aria-expanded="false">
        Enterprise
        <svg opacity="0.5" aria-hidden="true" height="16" viewBox="0 0 16 16" version="1.1" width="16" data-view-component="true" class="octicon octicon-chevron-down HeaderMenu-icon ml-1">
    <path d="M12.78 5.22a.749.749 0 0 1 0 1.06l-4.25 4.25a.749.749 0 0 1-1.06 0L3.22 6.28a.749.749 0 1 1 1.06-1.06L8 8.939l3.72-3.719a.749.749 0 0 1 1.06 0Z"></path>
</svg>
      </button>

      <div class="HeaderMenu-dropdown dropdown-menu rounded m-0 p-0 pt-2 pt-lg-4 position-relative position-lg-absolute left-0 left-lg-n3 pb-2 pb-lg-4 px-lg-4">
          <div class="HeaderMenu-column">
              <div class="border-bottom pb-3 pb-lg-0 pb-lg-3 mb-3 mb-lg-0 mb-lg-3">

                <ul class="list-style-none f5" >
                    <li>
  <a class="HeaderMenu-dropdown-link d-block no-underline position-relative py-2 Link--secondary d-flex flex-items-center Link--has-description" data-analytics-event="{&quot;location&quot;:&quot;navbar&quot;,&quot;action&quot;:&quot;enterprise_platform&quot;,&quot;context&quot;:&quot;enterprise&quot;,&quot;tag&quot;:&quot;link&quot;,&quot;label&quot;:&quot;enterprise_platform_link_enterprise_navbar&quot;}" href="/enterprise">
      <svg aria-hidden="true" height="24" viewBox="0 0 24 24" version="1.1" width="24" data-view-component="true" class="octicon octicon-stack color-fg-subtle mr-3">
    <path d="M11.063 1.456a1.749 1.749 0 0 1 1.874 0l8.383 5.316a1.751 1.751 0 0 1 0 2.956l-8.383 5.316a1.749 1.749 0 0 1-1.874 0L2.68 9.728a1.751 1.751 0 0 1 0-2.956Zm1.071 1.267a.25.25 0 0 0-.268 0L3.483 8.039a.25.25 0 0 0 0 .422l8.383 5.316a.25.25 0 0 0 .268 0l8.383-5.316a.25.25 0 0 0 0-.422Z"></path><path d="M1.867 12.324a.75.75 0 0 1 1.035-.232l8.964 5.685a.25.25 0 0 0 .268 0l8.964-5.685a.75.75 0 0 1 .804 1.267l-8.965 5.685a1.749 1.749 0 0 1-1.874 0l-8.965-5.685a.75.75 0 0 1-.231-1.035Z"></path><path d="M1.867 16.324a.75.75 0 0 1 1.035-.232l8.964 5.685a.25.25 0 0 0 .268 0l8.964-5.685a.75.75 0 0 1 .804 1.267l-8.965 5.685a1.749 1.749 0 0 1-1.874 0l-8.965-5.685a.75.75 0 0 1-.231-1.035Z"></path>
</svg>
      <div>
          <div class="color-fg-default h4">
            Enterprise platform
          </div>
        AI-powered developer platform
      </div>

    
</a></li>

                </ul>
              </div>
              <div class="border-bottom pb-3 pb-lg-0 border-bottom-0">
                    <span class="d-block h4 color-fg-default my-1" id="enterprise-available-add-ons-heading">Available add-ons</span>

                <ul class="list-style-none f5" aria-labelledby="enterprise-available-add-ons-heading">
                    <li>
  <a class="HeaderMenu-dropdown-link d-block no-underline position-relative py-2 Link--secondary d-flex flex-items-center Link--has-description pb-lg-3" data-analytics-event="{&quot;location&quot;:&quot;navbar&quot;,&quot;action&quot;:&quot;github_advanced_security&quot;,&quot;context&quot;:&quot;enterprise&quot;,&quot;tag&quot;:&quot;link&quot;,&quot;label&quot;:&quot;github_advanced_security_link_enterprise_navbar&quot;}" href="https://github.com/security/advanced-security">
      <svg aria-hidden="true" height="24" viewBox="0 0 24 24" version="1.1" width="24" data-view-component="true" class="octicon octicon-shield-check color-fg-subtle mr-3">
    <path d="M16.53 9.78a.75.75 0 0 0-1.06-1.06L11 13.19l-1.97-1.97a.75.75 0 0 0-1.06 1.06l2.5 2.5a.75.75 0 0 0 1.06 0l5-5Z"></path><path d="m12.54.637 8.25 2.675A1.75 1.75 0 0 1 22 4.976V10c0 6.19-3.771 10.704-9.401 12.83a1.704 1.704 0 0 1-1.198 0C5.77 20.705 2 16.19 2 10V4.976c0-.758.489-1.43 1.21-1.664L11.46.637a1.748 1.748 0 0 1 1.08 0Zm-.617 1.426-8.25 2.676a.249.249 0 0 0-.173.237V10c0 5.46 3.28 9.483 8.43 11.426a.199.199 0 0 0 .14 0C17.22 19.483 20.5 15.461 20.5 10V4.976a.25.25 0 0 0-.173-.237l-8.25-2.676a.253.253 0 0 0-.154 0Z"></path>
</svg>
      <div>
          <div class="color-fg-default h4">
            GitHub Advanced Security
          </div>
        Enterprise-grade security features
      </div>

    
</a></li>

                    <li>
  <a class="HeaderMenu-dropdown-link d-block no-underline position-relative py-2 Link--secondary d-flex flex-items-center Link--has-description pb-lg-3" data-analytics-event="{&quot;location&quot;:&quot;navbar&quot;,&quot;action&quot;:&quot;copilot_for_business&quot;,&quot;context&quot;:&quot;enterprise&quot;,&quot;tag&quot;:&quot;link&quot;,&quot;label&quot;:&quot;copilot_for_business_link_enterprise_navbar&quot;}" href="/features/copilot/copilot-business">
      <svg aria-hidden="true" height="24" viewBox="0 0 24 24" version="1.1" width="24" data-view-component="true" class="octicon octicon-copilot color-fg-subtle mr-3">
    <path d="M23.922 16.992c-.861 1.495-5.859 5.023-11.922 5.023-6.063 0-11.061-3.528-11.922-5.023A.641.641 0 0 1 0 16.736v-2.869a.841.841 0 0 1 .053-.22c.372-.935 1.347-2.292 2.605-2.656.167-.429.414-1.055.644-1.517a10.195 10.195 0 0 1-.052-1.086c0-1.331.282-2.499 1.132-3.368.397-.406.89-.717 1.474-.952 1.399-1.136 3.392-2.093 6.122-2.093 2.731 0 4.767.957 6.166 2.093.584.235 1.077.546 1.474.952.85.869 1.132 2.037 1.132 3.368 0 .368-.014.733-.052 1.086.23.462.477 1.088.644 1.517 1.258.364 2.233 1.721 2.605 2.656a.832.832 0 0 1 .053.22v2.869a.641.641 0 0 1-.078.256ZM12.172 11h-.344a4.323 4.323 0 0 1-.355.508C10.703 12.455 9.555 13 7.965 13c-1.725 0-2.989-.359-3.782-1.259a2.005 2.005 0 0 1-.085-.104L4 11.741v6.585c1.435.779 4.514 2.179 8 2.179 3.486 0 6.565-1.4 8-2.179v-6.585l-.098-.104s-.033.045-.085.104c-.793.9-2.057 1.259-3.782 1.259-1.59 0-2.738-.545-3.508-1.492a4.323 4.323 0 0 1-.355-.508h-.016.016Zm.641-2.935c.136 1.057.403 1.913.878 2.497.442.544 1.134.938 2.344.938 1.573 0 2.292-.337 2.657-.751.384-.435.558-1.15.558-2.361 0-1.14-.243-1.847-.705-2.319-.477-.488-1.319-.862-2.824-1.025-1.487-.161-2.192.138-2.533.529-.269.307-.437.808-.438 1.578v.021c0 .265.021.562.063.893Zm-1.626 0c.042-.331.063-.628.063-.894v-.02c-.001-.77-.169-1.271-.438-1.578-.341-.391-1.046-.69-2.533-.529-1.505.163-2.347.537-2.824 1.025-.462.472-.705 1.179-.705 2.319 0 1.211.175 1.926.558 2.361.365.414 1.084.751 2.657.751 1.21 0 1.902-.394 2.344-.938.475-.584.742-1.44.878-2.497Z"></path><path d="M14.5 14.25a1 1 0 0 1 1 1v2a1 1 0 0 1-2 0v-2a1 1 0 0 1 1-1Zm-5 0a1 1 0 0 1 1 1v2a1 1 0 0 1-2 0v-2a1 1 0 0 1 1-1Z"></path>
</svg>
      <div>
          <div class="color-fg-default h4">
            Copilot for business
          </div>
        Enterprise-grade AI features
      </div>

    
</a></li>

                    <li>
  <a class="HeaderMenu-dropdown-link d-block no-underline position-relative py-2 Link--secondary d-flex flex-items-center Link--has-description" data-analytics-event="{&quot;location&quot;:&quot;navbar&quot;,&quot;action&quot;:&quot;premium_support&quot;,&quot;context&quot;:&quot;enterprise&quot;,&quot;tag&quot;:&quot;link&quot;,&quot;label&quot;:&quot;premium_support_link_enterprise_navbar&quot;}" href="/premium-support">
      <svg aria-hidden="true" height="24" viewBox="0 0 24 24" version="1.1" width="24" data-view-component="true" class="octicon octicon-comment-discussion color-fg-subtle mr-3">
    <path d="M1.75 1h12.5c.966 0 1.75.784 1.75 1.75v9.5A1.75 1.75 0 0 1 14.25 14H8.061l-2.574 2.573A1.458 1.458 0 0 1 3 15.543V14H1.75A1.75 1.75 0 0 1 0 12.25v-9.5C0 1.784.784 1 1.75 1ZM1.5 2.75v9.5c0 .138.112.25.25.25h2a.75.75 0 0 1 .75.75v2.19l2.72-2.72a.749.749 0 0 1 .53-.22h6.5a.25.25 0 0 0 .25-.25v-9.5a.25.25 0 0 0-.25-.25H1.75a.25.25 0 0 0-.25.25Z"></path><path d="M22.5 8.75a.25.25 0 0 0-.25-.25h-3.5a.75.75 0 0 1 0-1.5h3.5c.966 0 1.75.784 1.75 1.75v9.5A1.75 1.75 0 0 1 22.25 20H21v1.543a1.457 1.457 0 0 1-2.487 1.03L15.939 20H10.75A1.75 1.75 0 0 1 9 18.25v-1.465a.75.75 0 0 1 1.5 0v1.465c0 .138.112.25.25.25h5.5a.75.75 0 0 1 .53.22l2.72 2.72v-2.19a.75.75 0 0 1 .75-.75h2a.25.25 0 0 0 .25-.25v-9.5Z"></path>
</svg>
      <div>
          <div class="color-fg-default h4">
            Premium Support
          </div>
        Enterprise-grade 24/7 support
      </div>

    
</a></li>

                </ul>
              </div>
          </div>

      </div>
</li>


                <li class="HeaderMenu-item position-relative flex-wrap flex-justify-between flex-items-center d-block d-lg-flex flex-lg-nowrap flex-lg-items-center js-details-container js-header-menu-item">
    <a class="HeaderMenu-link no-underline px-0 px-lg-2 py-3 py-lg-2 d-block d-lg-inline-block" data-analytics-event="{&quot;location&quot;:&quot;navbar&quot;,&quot;action&quot;:&quot;pricing&quot;,&quot;context&quot;:&quot;global&quot;,&quot;tag&quot;:&quot;link&quot;,&quot;label&quot;:&quot;pricing_link_global_navbar&quot;}" href="https://github.com/pricing">Pricing</a>
</li>

            </ul>
          </nav>

        <div class="d-flex flex-column flex-lg-row width-full flex-justify-end flex-lg-items-center text-center mt-3 mt-lg-0 text-lg-left ml-lg-3">
                


<qbsearch-input class="search-input" data-scope="repo:MouseLand/cellpose" data-custom-scopes-path="/search/custom_scopes" data-delete-custom-scopes-csrf="vqcF4661YGqIJKFgDASIttXLAp2RDrulFDYqhY2Pc83gpw1QWW3FAY-Mqw8DUBe58o_DLpzFU8jYuvRkT3YYCw" data-max-custom-scopes="10" data-header-redesign-enabled="false" data-initial-value="" data-blackbird-suggestions-path="/search/suggestions" data-jump-to-suggestions-path="/_graphql/GetSuggestedNavigationDestinations" data-current-repository="MouseLand/cellpose" data-current-org="MouseLand" data-current-owner="" data-logged-in="false" data-copilot-chat-enabled="false" data-nl-search-enabled="false" data-retain-scroll-position="true">
  <div
    class="search-input-container search-with-dialog position-relative d-flex flex-row flex-items-center mr-4 rounded"
    data-action="click:qbsearch-input#searchInputContainerClicked"
  >
      <button
        type="button"
        class="header-search-button placeholder  input-button form-control d-flex flex-1 flex-self-stretch flex-items-center no-wrap width-full py-0 pl-2 pr-0 text-left border-0 box-shadow-none"
        data-target="qbsearch-input.inputButton"
        aria-label="Search or jump to…"
        aria-haspopup="dialog"
        placeholder="Search or jump to..."
        data-hotkey=s,/
        autocapitalize="off"
        data-analytics-event="{&quot;location&quot;:&quot;navbar&quot;,&quot;action&quot;:&quot;searchbar&quot;,&quot;context&quot;:&quot;global&quot;,&quot;tag&quot;:&quot;input&quot;,&quot;label&quot;:&quot;searchbar_input_global_navbar&quot;}"
        data-action="click:qbsearch-input#handleExpand"
      >
        <div class="mr-2 color-fg-muted">
          <svg aria-hidden="true" height="16" viewBox="0 0 16 16" version="1.1" width="16" data-view-component="true" class="octicon octicon-search">
    <path d="M10.68 11.74a6 6 0 0 1-7.922-8.982 6 6 0 0 1 8.982 7.922l3.04 3.04a.749.749 0 0 1-.326 1.275.749.749 0 0 1-.734-.215ZM11.5 7a4.499 4.499 0 1 0-8.997 0A4.499 4.499 0 0 0 11.5 7Z"></path>
</svg>
        </div>
        <span class="flex-1" data-target="qbsearch-input.inputButtonText">Search or jump to...</span>
          <div class="d-flex" data-target="qbsearch-input.hotkeyIndicator">
            <svg xmlns="http://www.w3.org/2000/svg" width="22" height="20" aria-hidden="true" class="mr-1"><path fill="none" stroke="#979A9C" opacity=".4" d="M3.5.5h12c1.7 0 3 1.3 3 3v13c0 1.7-1.3 3-3 3h-12c-1.7 0-3-1.3-3-3v-13c0-1.7 1.3-3 3-3z"></path><path fill="#979A9C" d="M11.8 6L8 15.1h-.9L10.8 6h1z"></path></svg>
          </div>
      </button>

    <input type="hidden" name="type" class="js-site-search-type-field">

    
<div class="Overlay--hidden " data-modal-dialog-overlay>
  <modal-dialog data-action="close:qbsearch-input#handleClose cancel:qbsearch-input#handleClose" data-target="qbsearch-input.searchSuggestionsDialog" role="dialog" id="search-suggestions-dialog" aria-modal="true" aria-labelledby="search-suggestions-dialog-header" data-view-component="true" class="Overlay Overlay--width-large Overlay--height-auto">
      <h1 id="search-suggestions-dialog-header" class="sr-only">Search code, repositories, users, issues, pull requests...</h1>
    <div class="Overlay-body Overlay-body--paddingNone">
      
          <div data-view-component="true">        <div class="search-suggestions position-fixed width-full color-shadow-large border color-fg-default color-bg-default overflow-hidden d-flex flex-column query-builder-container"
          style="border-radius: 12px;"
          data-target="qbsearch-input.queryBuilderContainer"
          hidden
        >
          <!-- '"` --><!-- </textarea></xmp> --></option></form><form id="query-builder-test-form" action="" accept-charset="UTF-8" method="get">
  <query-builder data-target="qbsearch-input.queryBuilder" id="query-builder-query-builder-test" data-filter-key=":" data-view-component="true" class="QueryBuilder search-query-builder">
    <div class="FormControl FormControl--fullWidth">
      <label id="query-builder-test-label" for="query-builder-test" class="FormControl-label sr-only">
        Search
      </label>
      <div
        class="QueryBuilder-StyledInput width-fit "
        data-target="query-builder.styledInput"
      >
          <span id="query-builder-test-leadingvisual-wrap" class="FormControl-input-leadingVisualWrap QueryBuilder-leadingVisualWrap">
            <svg aria-hidden="true" height="16" viewBox="0 0 16 16" version="1.1" width="16" data-view-component="true" class="octicon octicon-search FormControl-input-leadingVisual">
    <path d="M10.68 11.74a6 6 0 0 1-7.922-8.982 6 6 0 0 1 8.982 7.922l3.04 3.04a.749.749 0 0 1-.326 1.275.749.749 0 0 1-.734-.215ZM11.5 7a4.499 4.499 0 1 0-8.997 0A4.499 4.499 0 0 0 11.5 7Z"></path>
</svg>
          </span>
        <div data-target="query-builder.styledInputContainer" class="QueryBuilder-StyledInputContainer">
          <div
            aria-hidden="true"
            class="QueryBuilder-StyledInputContent"
            data-target="query-builder.styledInputContent"
          ></div>
          <div class="QueryBuilder-InputWrapper">
            <div aria-hidden="true" class="QueryBuilder-Sizer" data-target="query-builder.sizer"></div>
            <input id="query-builder-test" name="query-builder-test" value="" autocomplete="off" type="text" role="combobox" spellcheck="false" aria-expanded="false" aria-describedby="validation-fd90c402-314e-44f9-ac71-210fa4b7955d" data-target="query-builder.input" data-action="
          input:query-builder#inputChange
          blur:query-builder#inputBlur
          keydown:query-builder#inputKeydown
          focus:query-builder#inputFocus
        " data-view-component="true" class="FormControl-input QueryBuilder-Input FormControl-medium" />
          </div>
        </div>
          <span class="sr-only" id="query-builder-test-clear">Clear</span>
          <button role="button" id="query-builder-test-clear-button" aria-labelledby="query-builder-test-clear query-builder-test-label" data-target="query-builder.clearButton" data-action="
                click:query-builder#clear
                focus:query-builder#clearButtonFocus
                blur:query-builder#clearButtonBlur
              " variant="small" hidden="hidden" type="button" data-view-component="true" class="Button Button--iconOnly Button--invisible Button--medium mr-1 px-2 py-0 d-flex flex-items-center rounded-1 color-fg-muted">  <svg aria-hidden="true" height="16" viewBox="0 0 16 16" version="1.1" width="16" data-view-component="true" class="octicon octicon-x-circle-fill Button-visual">
    <path d="M2.343 13.657A8 8 0 1 1 13.658 2.343 8 8 0 0 1 2.343 13.657ZM6.03 4.97a.751.751 0 0 0-1.042.018.751.751 0 0 0-.018 1.042L6.94 8 4.97 9.97a.749.749 0 0 0 .326 1.275.749.749 0 0 0 .734-.215L8 9.06l1.97 1.97a.749.749 0 0 0 1.275-.326.749.749 0 0 0-.215-.734L9.06 8l1.97-1.97a.749.749 0 0 0-.326-1.275.749.749 0 0 0-.734.215L8 6.94Z"></path>
</svg>
</button>

      </div>
      <template id="search-icon">
  <svg aria-hidden="true" height="16" viewBox="0 0 16 16" version="1.1" width="16" data-view-component="true" class="octicon octicon-search">
    <path d="M10.68 11.74a6 6 0 0 1-7.922-8.982 6 6 0 0 1 8.982 7.922l3.04 3.04a.749.749 0 0 1-.326 1.275.749.749 0 0 1-.734-.215ZM11.5 7a4.499 4.499 0 1 0-8.997 0A4.499 4.499 0 0 0 11.5 7Z"></path>
</svg>
</template>

<template id="code-icon">
  <svg aria-hidden="true" height="16" viewBox="0 0 16 16" version="1.1" width="16" data-view-component="true" class="octicon octicon-code">
    <path d="m11.28 3.22 4.25 4.25a.75.75 0 0 1 0 1.06l-4.25 4.25a.749.749 0 0 1-1.275-.326.749.749 0 0 1 .215-.734L13.94 8l-3.72-3.72a.749.749 0 0 1 .326-1.275.749.749 0 0 1 .734.215Zm-6.56 0a.751.751 0 0 1 1.042.018.751.751 0 0 1 .018 1.042L2.06 8l3.72 3.72a.749.749 0 0 1-.326 1.275.749.749 0 0 1-.734-.215L.47 8.53a.75.75 0 0 1 0-1.06Z"></path>
</svg>
</template>

<template id="file-code-icon">
  <svg aria-hidden="true" height="16" viewBox="0 0 16 16" version="1.1" width="16" data-view-component="true" class="octicon octicon-file-code">
    <path d="M4 1.75C4 .784 4.784 0 5.75 0h5.586c.464 0 .909.184 1.237.513l2.914 2.914c.329.328.513.773.513 1.237v8.586A1.75 1.75 0 0 1 14.25 15h-9a.75.75 0 0 1 0-1.5h9a.25.25 0 0 0 .25-.25V6h-2.75A1.75 1.75 0 0 1 10 4.25V1.5H5.75a.25.25 0 0 0-.25.25v2.5a.75.75 0 0 1-1.5 0Zm1.72 4.97a.75.75 0 0 1 1.06 0l2 2a.75.75 0 0 1 0 1.06l-2 2a.749.749 0 0 1-1.275-.326.749.749 0 0 1 .215-.734l1.47-1.47-1.47-1.47a.75.75 0 0 1 0-1.06ZM3.28 7.78 1.81 9.25l1.47 1.47a.751.751 0 0 1-.018 1.042.751.751 0 0 1-1.042.018l-2-2a.75.75 0 0 1 0-1.06l2-2a.751.751 0 0 1 1.042.018.751.751 0 0 1 .018 1.042Zm8.22-6.218V4.25c0 .138.112.25.25.25h2.688l-.011-.013-2.914-2.914-.013-.011Z"></path>
</svg>
</template>

<template id="history-icon">
  <svg aria-hidden="true" height="16" viewBox="0 0 16 16" version="1.1" width="16" data-view-component="true" class="octicon octicon-history">
    <path d="m.427 1.927 1.215 1.215a8.002 8.002 0 1 1-1.6 5.685.75.75 0 1 1 1.493-.154 6.5 6.5 0 1 0 1.18-4.458l1.358 1.358A.25.25 0 0 1 3.896 6H.25A.25.25 0 0 1 0 5.75V2.104a.25.25 0 0 1 .427-.177ZM7.75 4a.75.75 0 0 1 .75.75v2.992l2.028.812a.75.75 0 0 1-.557 1.392l-2.5-1A.751.751 0 0 1 7 8.25v-3.5A.75.75 0 0 1 7.75 4Z"></path>
</svg>
</template>

<template id="repo-icon">
  <svg aria-hidden="true" height="16" viewBox="0 0 16 16" version="1.1" width="16" data-view-component="true" class="octicon octicon-repo">
    <path d="M2 2.5A2.5 2.5 0 0 1 4.5 0h8.75a.75.75 0 0 1 .75.75v12.5a.75.75 0 0 1-.75.75h-2.5a.75.75 0 0 1 0-1.5h1.75v-2h-8a1 1 0 0 0-.714 1.7.75.75 0 1 1-1.072 1.05A2.495 2.495 0 0 1 2 11.5Zm10.5-1h-8a1 1 0 0 0-1 1v6.708A2.486 2.486 0 0 1 4.5 9h8ZM5 12.25a.25.25 0 0 1 .25-.25h3.5a.25.25 0 0 1 .25.25v3.25a.25.25 0 0 1-.4.2l-1.45-1.087a.249.249 0 0 0-.3 0L5.4 15.7a.25.25 0 0 1-.4-.2Z"></path>
</svg>
</template>

<template id="bookmark-icon">
  <svg aria-hidden="true" height="16" viewBox="0 0 16 16" version="1.1" width="16" data-view-component="true" class="octicon octicon-bookmark">
    <path d="M3 2.75C3 1.784 3.784 1 4.75 1h6.5c.966 0 1.75.784 1.75 1.75v11.5a.75.75 0 0 1-1.227.579L8 11.722l-3.773 3.107A.751.751 0 0 1 3 14.25Zm1.75-.25a.25.25 0 0 0-.25.25v9.91l3.023-2.489a.75.75 0 0 1 .954 0l3.023 2.49V2.75a.25.25 0 0 0-.25-.25Z"></path>
</svg>
</template>

<template id="plus-circle-icon">
  <svg aria-hidden="true" height="16" viewBox="0 0 16 16" version="1.1" width="16" data-view-component="true" class="octicon octicon-plus-circle">
    <path d="M8 0a8 8 0 1 1 0 16A8 8 0 0 1 8 0ZM1.5 8a6.5 6.5 0 1 0 13 0 6.5 6.5 0 0 0-13 0Zm7.25-3.25v2.5h2.5a.75.75 0 0 1 0 1.5h-2.5v2.5a.75.75 0 0 1-1.5 0v-2.5h-2.5a.75.75 0 0 1 0-1.5h2.5v-2.5a.75.75 0 0 1 1.5 0Z"></path>
</svg>
</template>

<template id="circle-icon">
  <svg aria-hidden="true" height="16" viewBox="0 0 16 16" version="1.1" width="16" data-view-component="true" class="octicon octicon-dot-fill">
    <path d="M8 4a4 4 0 1 1 0 8 4 4 0 0 1 0-8Z"></path>
</svg>
</template>

<template id="trash-icon">
  <svg aria-hidden="true" height="16" viewBox="0 0 16 16" version="1.1" width="16" data-view-component="true" class="octicon octicon-trash">
    <path d="M11 1.75V3h2.25a.75.75 0 0 1 0 1.5H2.75a.75.75 0 0 1 0-1.5H5V1.75C5 .784 5.784 0 6.75 0h2.5C10.216 0 11 .784 11 1.75ZM4.496 6.675l.66 6.6a.25.25 0 0 0 .249.225h5.19a.25.25 0 0 0 .249-.225l.66-6.6a.75.75 0 0 1 1.492.149l-.66 6.6A1.748 1.748 0 0 1 10.595 15h-5.19a1.75 1.75 0 0 1-1.741-1.575l-.66-6.6a.75.75 0 1 1 1.492-.15ZM6.5 1.75V3h3V1.75a.25.25 0 0 0-.25-.25h-2.5a.25.25 0 0 0-.25.25Z"></path>
</svg>
</template>

<template id="team-icon">
  <svg aria-hidden="true" height="16" viewBox="0 0 16 16" version="1.1" width="16" data-view-component="true" class="octicon octicon-people">
    <path d="M2 5.5a3.5 3.5 0 1 1 5.898 2.549 5.508 5.508 0 0 1 3.034 4.084.75.75 0 1 1-1.482.235 4 4 0 0 0-7.9 0 .75.75 0 0 1-1.482-.236A5.507 5.507 0 0 1 3.102 8.05 3.493 3.493 0 0 1 2 5.5ZM11 4a3.001 3.001 0 0 1 2.22 5.018 5.01 5.01 0 0 1 2.56 3.012.749.749 0 0 1-.885.954.752.752 0 0 1-.549-.514 3.507 3.507 0 0 0-2.522-2.372.75.75 0 0 1-.574-.73v-.352a.75.75 0 0 1 .416-.672A1.5 1.5 0 0 0 11 5.5.75.75 0 0 1 11 4Zm-5.5-.5a2 2 0 1 0-.001 3.999A2 2 0 0 0 5.5 3.5Z"></path>
</svg>
</template>

<template id="project-icon">
  <svg aria-hidden="true" height="16" viewBox="0 0 16 16" version="1.1" width="16" data-view-component="true" class="octicon octicon-project">
    <path d="M1.75 0h12.5C15.216 0 16 .784 16 1.75v12.5A1.75 1.75 0 0 1 14.25 16H1.75A1.75 1.75 0 0 1 0 14.25V1.75C0 .784.784 0 1.75 0ZM1.5 1.75v12.5c0 .138.112.25.25.25h12.5a.25.25 0 0 0 .25-.25V1.75a.25.25 0 0 0-.25-.25H1.75a.25.25 0 0 0-.25.25ZM11.75 3a.75.75 0 0 1 .75.75v7.5a.75.75 0 0 1-1.5 0v-7.5a.75.75 0 0 1 .75-.75Zm-8.25.75a.75.75 0 0 1 1.5 0v5.5a.75.75 0 0 1-1.5 0ZM8 3a.75.75 0 0 1 .75.75v3.5a.75.75 0 0 1-1.5 0v-3.5A.75.75 0 0 1 8 3Z"></path>
</svg>
</template>

<template id="pencil-icon">
  <svg aria-hidden="true" height="16" viewBox="0 0 16 16" version="1.1" width="16" data-view-component="true" class="octicon octicon-pencil">
    <path d="M11.013 1.427a1.75 1.75 0 0 1 2.474 0l1.086 1.086a1.75 1.75 0 0 1 0 2.474l-8.61 8.61c-.21.21-.47.364-.756.445l-3.251.93a.75.75 0 0 1-.927-.928l.929-3.25c.081-.286.235-.547.445-.758l8.61-8.61Zm.176 4.823L9.75 4.81l-6.286 6.287a.253.253 0 0 0-.064.108l-.558 1.953 1.953-.558a.253.253 0 0 0 .108-.064Zm1.238-3.763a.25.25 0 0 0-.354 0L10.811 3.75l1.439 1.44 1.263-1.263a.25.25 0 0 0 0-.354Z"></path>
</svg>
</template>

<template id="copilot-icon">
  <svg aria-hidden="true" height="16" viewBox="0 0 16 16" version="1.1" width="16" data-view-component="true" class="octicon octicon-copilot">
    <path d="M7.998 15.035c-4.562 0-7.873-2.914-7.998-3.749V9.338c.085-.628.677-1.686 1.588-2.065.013-.07.024-.143.036-.218.029-.183.06-.384.126-.612-.201-.508-.254-1.084-.254-1.656 0-.87.128-1.769.693-2.484.579-.733 1.494-1.124 2.724-1.261 1.206-.134 2.262.034 2.944.765.05.053.096.108.139.165.044-.057.094-.112.143-.165.682-.731 1.738-.899 2.944-.765 1.23.137 2.145.528 2.724 1.261.566.715.693 1.614.693 2.484 0 .572-.053 1.148-.254 1.656.066.228.098.429.126.612.012.076.024.148.037.218.924.385 1.522 1.471 1.591 2.095v1.872c0 .766-3.351 3.795-8.002 3.795Zm0-1.485c2.28 0 4.584-1.11 5.002-1.433V7.862l-.023-.116c-.49.21-1.075.291-1.727.291-1.146 0-2.059-.327-2.71-.991A3.222 3.222 0 0 1 8 6.303a3.24 3.24 0 0 1-.544.743c-.65.664-1.563.991-2.71.991-.652 0-1.236-.081-1.727-.291l-.023.116v4.255c.419.323 2.722 1.433 5.002 1.433ZM6.762 2.83c-.193-.206-.637-.413-1.682-.297-1.019.113-1.479.404-1.713.7-.247.312-.369.789-.369 1.554 0 .793.129 1.171.308 1.371.162.181.519.379 1.442.379.853 0 1.339-.235 1.638-.54.315-.322.527-.827.617-1.553.117-.935-.037-1.395-.241-1.614Zm4.155-.297c-1.044-.116-1.488.091-1.681.297-.204.219-.359.679-.242 1.614.091.726.303 1.231.618 1.553.299.305.784.54 1.638.54.922 0 1.28-.198 1.442-.379.179-.2.308-.578.308-1.371 0-.765-.123-1.242-.37-1.554-.233-.296-.693-.587-1.713-.7Z"></path><path d="M6.25 9.037a.75.75 0 0 1 .75.75v1.501a.75.75 0 0 1-1.5 0V9.787a.75.75 0 0 1 .75-.75Zm4.25.75v1.501a.75.75 0 0 1-1.5 0V9.787a.75.75 0 0 1 1.5 0Z"></path>
</svg>
</template>

<template id="copilot-error-icon">
  <svg aria-hidden="true" height="16" viewBox="0 0 16 16" version="1.1" width="16" data-view-component="true" class="octicon octicon-copilot-error">
    <path d="M16 11.24c0 .112-.072.274-.21.467L13 9.688V7.862l-.023-.116c-.49.21-1.075.291-1.727.291-.198 0-.388-.009-.571-.029L6.833 5.226a4.01 4.01 0 0 0 .17-.782c.117-.935-.037-1.395-.241-1.614-.193-.206-.637-.413-1.682-.297-.683.076-1.115.231-1.395.415l-1.257-.91c.579-.564 1.413-.877 2.485-.996 1.206-.134 2.262.034 2.944.765.05.053.096.108.139.165.044-.057.094-.112.143-.165.682-.731 1.738-.899 2.944-.765 1.23.137 2.145.528 2.724 1.261.566.715.693 1.614.693 2.484 0 .572-.053 1.148-.254 1.656.066.228.098.429.126.612.012.076.024.148.037.218.924.385 1.522 1.471 1.591 2.095Zm-5.083-8.707c-1.044-.116-1.488.091-1.681.297-.204.219-.359.679-.242 1.614.091.726.303 1.231.618 1.553.299.305.784.54 1.638.54.922 0 1.28-.198 1.442-.379.179-.2.308-.578.308-1.371 0-.765-.123-1.242-.37-1.554-.233-.296-.693-.587-1.713-.7Zm2.511 11.074c-1.393.776-3.272 1.428-5.43 1.428-4.562 0-7.873-2.914-7.998-3.749V9.338c.085-.628.677-1.686 1.588-2.065.013-.07.024-.143.036-.218.029-.183.06-.384.126-.612-.18-.455-.241-.963-.252-1.475L.31 4.107A.747.747 0 0 1 0 3.509V3.49a.748.748 0 0 1 .625-.73c.156-.026.306.047.435.139l14.667 10.578a.592.592 0 0 1 .227.264.752.752 0 0 1 .046.249v.022a.75.75 0 0 1-1.19.596Zm-1.367-.991L5.635 7.964a5.128 5.128 0 0 1-.889.073c-.652 0-1.236-.081-1.727-.291l-.023.116v4.255c.419.323 2.722 1.433 5.002 1.433 1.539 0 3.089-.505 4.063-.934Z"></path>
</svg>
</template>

<template id="workflow-icon">
  <svg aria-hidden="true" height="16" viewBox="0 0 16 16" version="1.1" width="16" data-view-component="true" class="octicon octicon-workflow">
    <path d="M0 1.75C0 .784.784 0 1.75 0h3.5C6.216 0 7 .784 7 1.75v3.5A1.75 1.75 0 0 1 5.25 7H4v4a1 1 0 0 0 1 1h4v-1.25C9 9.784 9.784 9 10.75 9h3.5c.966 0 1.75.784 1.75 1.75v3.5A1.75 1.75 0 0 1 14.25 16h-3.5A1.75 1.75 0 0 1 9 14.25v-.75H5A2.5 2.5 0 0 1 2.5 11V7h-.75A1.75 1.75 0 0 1 0 5.25Zm1.75-.25a.25.25 0 0 0-.25.25v3.5c0 .138.112.25.25.25h3.5a.25.25 0 0 0 .25-.25v-3.5a.25.25 0 0 0-.25-.25Zm9 9a.25.25 0 0 0-.25.25v3.5c0 .138.112.25.25.25h3.5a.25.25 0 0 0 .25-.25v-3.5a.25.25 0 0 0-.25-.25Z"></path>
</svg>
</template>

<template id="book-icon">
  <svg aria-hidden="true" height="16" viewBox="0 0 16 16" version="1.1" width="16" data-view-component="true" class="octicon octicon-book">
    <path d="M0 1.75A.75.75 0 0 1 .75 1h4.253c1.227 0 2.317.59 3 1.501A3.743 3.743 0 0 1 11.006 1h4.245a.75.75 0 0 1 .75.75v10.5a.75.75 0 0 1-.75.75h-4.507a2.25 2.25 0 0 0-1.591.659l-.622.621a.75.75 0 0 1-1.06 0l-.622-.621A2.25 2.25 0 0 0 5.258 13H.75a.75.75 0 0 1-.75-.75Zm7.251 10.324.004-5.073-.002-2.253A2.25 2.25 0 0 0 5.003 2.5H1.5v9h3.757a3.75 3.75 0 0 1 1.994.574ZM8.755 4.75l-.004 7.322a3.752 3.752 0 0 1 1.992-.572H14.5v-9h-3.495a2.25 2.25 0 0 0-2.25 2.25Z"></path>
</svg>
</template>

<template id="code-review-icon">
  <svg aria-hidden="true" height="16" viewBox="0 0 16 16" version="1.1" width="16" data-view-component="true" class="octicon octicon-code-review">
    <path d="M1.75 1h12.5c.966 0 1.75.784 1.75 1.75v8.5A1.75 1.75 0 0 1 14.25 13H8.061l-2.574 2.573A1.458 1.458 0 0 1 3 14.543V13H1.75A1.75 1.75 0 0 1 0 11.25v-8.5C0 1.784.784 1 1.75 1ZM1.5 2.75v8.5c0 .138.112.25.25.25h2a.75.75 0 0 1 .75.75v2.19l2.72-2.72a.749.749 0 0 1 .53-.22h6.5a.25.25 0 0 0 .25-.25v-8.5a.25.25 0 0 0-.25-.25H1.75a.25.25 0 0 0-.25.25Zm5.28 1.72a.75.75 0 0 1 0 1.06L5.31 7l1.47 1.47a.751.751 0 0 1-.018 1.042.751.751 0 0 1-1.042.018l-2-2a.75.75 0 0 1 0-1.06l2-2a.75.75 0 0 1 1.06 0Zm2.44 0a.75.75 0 0 1 1.06 0l2 2a.75.75 0 0 1 0 1.06l-2 2a.751.751 0 0 1-1.042-.018.751.751 0 0 1-.018-1.042L10.69 7 9.22 5.53a.75.75 0 0 1 0-1.06Z"></path>
</svg>
</template>

<template id="codespaces-icon">
  <svg aria-hidden="true" height="16" viewBox="0 0 16 16" version="1.1" width="16" data-view-component="true" class="octicon octicon-codespaces">
    <path d="M0 11.25c0-.966.784-1.75 1.75-1.75h12.5c.966 0 1.75.784 1.75 1.75v3A1.75 1.75 0 0 1 14.25 16H1.75A1.75 1.75 0 0 1 0 14.25Zm2-9.5C2 .784 2.784 0 3.75 0h8.5C13.216 0 14 .784 14 1.75v5a1.75 1.75 0 0 1-1.75 1.75h-8.5A1.75 1.75 0 0 1 2 6.75Zm1.75-.25a.25.25 0 0 0-.25.25v5c0 .138.112.25.25.25h8.5a.25.25 0 0 0 .25-.25v-5a.25.25 0 0 0-.25-.25Zm-2 9.5a.25.25 0 0 0-.25.25v3c0 .138.112.25.25.25h12.5a.25.25 0 0 0 .25-.25v-3a.25.25 0 0 0-.25-.25Z"></path><path d="M7 12.75a.75.75 0 0 1 .75-.75h4.5a.75.75 0 0 1 0 1.5h-4.5a.75.75 0 0 1-.75-.75Zm-4 0a.75.75 0 0 1 .75-.75h.5a.75.75 0 0 1 0 1.5h-.5a.75.75 0 0 1-.75-.75Z"></path>
</svg>
</template>

<template id="comment-icon">
  <svg aria-hidden="true" height="16" viewBox="0 0 16 16" version="1.1" width="16" data-view-component="true" class="octicon octicon-comment">
    <path d="M1 2.75C1 1.784 1.784 1 2.75 1h10.5c.966 0 1.75.784 1.75 1.75v7.5A1.75 1.75 0 0 1 13.25 12H9.06l-2.573 2.573A1.458 1.458 0 0 1 4 13.543V12H2.75A1.75 1.75 0 0 1 1 10.25Zm1.75-.25a.25.25 0 0 0-.25.25v7.5c0 .138.112.25.25.25h2a.75.75 0 0 1 .75.75v2.19l2.72-2.72a.749.749 0 0 1 .53-.22h4.5a.25.25 0 0 0 .25-.25v-7.5a.25.25 0 0 0-.25-.25Z"></path>
</svg>
</template>

<template id="comment-discussion-icon">
  <svg aria-hidden="true" height="16" viewBox="0 0 16 16" version="1.1" width="16" data-view-component="true" class="octicon octicon-comment-discussion">
    <path d="M1.75 1h8.5c.966 0 1.75.784 1.75 1.75v5.5A1.75 1.75 0 0 1 10.25 10H7.061l-2.574 2.573A1.458 1.458 0 0 1 2 11.543V10h-.25A1.75 1.75 0 0 1 0 8.25v-5.5C0 1.784.784 1 1.75 1ZM1.5 2.75v5.5c0 .138.112.25.25.25h1a.75.75 0 0 1 .75.75v2.19l2.72-2.72a.749.749 0 0 1 .53-.22h3.5a.25.25 0 0 0 .25-.25v-5.5a.25.25 0 0 0-.25-.25h-8.5a.25.25 0 0 0-.25.25Zm13 2a.25.25 0 0 0-.25-.25h-.5a.75.75 0 0 1 0-1.5h.5c.966 0 1.75.784 1.75 1.75v5.5A1.75 1.75 0 0 1 14.25 12H14v1.543a1.458 1.458 0 0 1-2.487 1.03L9.22 12.28a.749.749 0 0 1 .326-1.275.749.749 0 0 1 .734.215l2.22 2.22v-2.19a.75.75 0 0 1 .75-.75h1a.25.25 0 0 0 .25-.25Z"></path>
</svg>
</template>

<template id="organization-icon">
  <svg aria-hidden="true" height="16" viewBox="0 0 16 16" version="1.1" width="16" data-view-component="true" class="octicon octicon-organization">
    <path d="M1.75 16A1.75 1.75 0 0 1 0 14.25V1.75C0 .784.784 0 1.75 0h8.5C11.216 0 12 .784 12 1.75v12.5c0 .085-.006.168-.018.25h2.268a.25.25 0 0 0 .25-.25V8.285a.25.25 0 0 0-.111-.208l-1.055-.703a.749.749 0 1 1 .832-1.248l1.055.703c.487.325.779.871.779 1.456v5.965A1.75 1.75 0 0 1 14.25 16h-3.5a.766.766 0 0 1-.197-.026c-.099.017-.2.026-.303.026h-3a.75.75 0 0 1-.75-.75V14h-1v1.25a.75.75 0 0 1-.75.75Zm-.25-1.75c0 .138.112.25.25.25H4v-1.25a.75.75 0 0 1 .75-.75h2.5a.75.75 0 0 1 .75.75v1.25h2.25a.25.25 0 0 0 .25-.25V1.75a.25.25 0 0 0-.25-.25h-8.5a.25.25 0 0 0-.25.25ZM3.75 6h.5a.75.75 0 0 1 0 1.5h-.5a.75.75 0 0 1 0-1.5ZM3 3.75A.75.75 0 0 1 3.75 3h.5a.75.75 0 0 1 0 1.5h-.5A.75.75 0 0 1 3 3.75Zm4 3A.75.75 0 0 1 7.75 6h.5a.75.75 0 0 1 0 1.5h-.5A.75.75 0 0 1 7 6.75ZM7.75 3h.5a.75.75 0 0 1 0 1.5h-.5a.75.75 0 0 1 0-1.5ZM3 9.75A.75.75 0 0 1 3.75 9h.5a.75.75 0 0 1 0 1.5h-.5A.75.75 0 0 1 3 9.75ZM7.75 9h.5a.75.75 0 0 1 0 1.5h-.5a.75.75 0 0 1 0-1.5Z"></path>
</svg>
</template>

<template id="rocket-icon">
  <svg aria-hidden="true" height="16" viewBox="0 0 16 16" version="1.1" width="16" data-view-component="true" class="octicon octicon-rocket">
    <path d="M14.064 0h.186C15.216 0 16 .784 16 1.75v.186a8.752 8.752 0 0 1-2.564 6.186l-.458.459c-.314.314-.641.616-.979.904v3.207c0 .608-.315 1.172-.833 1.49l-2.774 1.707a.749.749 0 0 1-1.11-.418l-.954-3.102a1.214 1.214 0 0 1-.145-.125L3.754 9.816a1.218 1.218 0 0 1-.124-.145L.528 8.717a.749.749 0 0 1-.418-1.11l1.71-2.774A1.748 1.748 0 0 1 3.31 4h3.204c.288-.338.59-.665.904-.979l.459-.458A8.749 8.749 0 0 1 14.064 0ZM8.938 3.623h-.002l-.458.458c-.76.76-1.437 1.598-2.02 2.5l-1.5 2.317 2.143 2.143 2.317-1.5c.902-.583 1.74-1.26 2.499-2.02l.459-.458a7.25 7.25 0 0 0 2.123-5.127V1.75a.25.25 0 0 0-.25-.25h-.186a7.249 7.249 0 0 0-5.125 2.123ZM3.56 14.56c-.732.732-2.334 1.045-3.005 1.148a.234.234 0 0 1-.201-.064.234.234 0 0 1-.064-.201c.103-.671.416-2.273 1.15-3.003a1.502 1.502 0 1 1 2.12 2.12Zm6.94-3.935c-.088.06-.177.118-.266.175l-2.35 1.521.548 1.783 1.949-1.2a.25.25 0 0 0 .119-.213ZM3.678 8.116 5.2 5.766c.058-.09.117-.178.176-.266H3.309a.25.25 0 0 0-.213.119l-1.2 1.95ZM12 5a1 1 0 1 1-2 0 1 1 0 0 1 2 0Z"></path>
</svg>
</template>

<template id="shield-check-icon">
  <svg aria-hidden="true" height="16" viewBox="0 0 16 16" version="1.1" width="16" data-view-component="true" class="octicon octicon-shield-check">
    <path d="m8.533.133 5.25 1.68A1.75 1.75 0 0 1 15 3.48V7c0 1.566-.32 3.182-1.303 4.682-.983 1.498-2.585 2.813-5.032 3.855a1.697 1.697 0 0 1-1.33 0c-2.447-1.042-4.049-2.357-5.032-3.855C1.32 10.182 1 8.566 1 7V3.48a1.75 1.75 0 0 1 1.217-1.667l5.25-1.68a1.748 1.748 0 0 1 1.066 0Zm-.61 1.429.001.001-5.25 1.68a.251.251 0 0 0-.174.237V7c0 1.36.275 2.666 1.057 3.859.784 1.194 2.121 2.342 4.366 3.298a.196.196 0 0 0 .154 0c2.245-.957 3.582-2.103 4.366-3.297C13.225 9.666 13.5 8.358 13.5 7V3.48a.25.25 0 0 0-.174-.238l-5.25-1.68a.25.25 0 0 0-.153 0ZM11.28 6.28l-3.5 3.5a.75.75 0 0 1-1.06 0l-1.5-1.5a.749.749 0 0 1 .326-1.275.749.749 0 0 1 .734.215l.97.97 2.97-2.97a.751.751 0 0 1 1.042.018.751.751 0 0 1 .018 1.042Z"></path>
</svg>
</template>

<template id="heart-icon">
  <svg aria-hidden="true" height="16" viewBox="0 0 16 16" version="1.1" width="16" data-view-component="true" class="octicon octicon-heart">
    <path d="m8 14.25.345.666a.75.75 0 0 1-.69 0l-.008-.004-.018-.01a7.152 7.152 0 0 1-.31-.17 22.055 22.055 0 0 1-3.434-2.414C2.045 10.731 0 8.35 0 5.5 0 2.836 2.086 1 4.25 1 5.797 1 7.153 1.802 8 3.02 8.847 1.802 10.203 1 11.75 1 13.914 1 16 2.836 16 5.5c0 2.85-2.045 5.231-3.885 6.818a22.066 22.066 0 0 1-3.744 2.584l-.018.01-.006.003h-.002ZM4.25 2.5c-1.336 0-2.75 1.164-2.75 3 0 2.15 1.58 4.144 3.365 5.682A20.58 20.58 0 0 0 8 13.393a20.58 20.58 0 0 0 3.135-2.211C12.92 9.644 14.5 7.65 14.5 5.5c0-1.836-1.414-3-2.75-3-1.373 0-2.609.986-3.029 2.456a.749.749 0 0 1-1.442 0C6.859 3.486 5.623 2.5 4.25 2.5Z"></path>
</svg>
</template>

<template id="server-icon">
  <svg aria-hidden="true" height="16" viewBox="0 0 16 16" version="1.1" width="16" data-view-component="true" class="octicon octicon-server">
    <path d="M1.75 1h12.5c.966 0 1.75.784 1.75 1.75v4c0 .372-.116.717-.314 1 .198.283.314.628.314 1v4a1.75 1.75 0 0 1-1.75 1.75H1.75A1.75 1.75 0 0 1 0 12.75v-4c0-.358.109-.707.314-1a1.739 1.739 0 0 1-.314-1v-4C0 1.784.784 1 1.75 1ZM1.5 2.75v4c0 .138.112.25.25.25h12.5a.25.25 0 0 0 .25-.25v-4a.25.25 0 0 0-.25-.25H1.75a.25.25 0 0 0-.25.25Zm.25 5.75a.25.25 0 0 0-.25.25v4c0 .138.112.25.25.25h12.5a.25.25 0 0 0 .25-.25v-4a.25.25 0 0 0-.25-.25ZM7 4.75A.75.75 0 0 1 7.75 4h4.5a.75.75 0 0 1 0 1.5h-4.5A.75.75 0 0 1 7 4.75ZM7.75 10h4.5a.75.75 0 0 1 0 1.5h-4.5a.75.75 0 0 1 0-1.5ZM3 4.75A.75.75 0 0 1 3.75 4h.5a.75.75 0 0 1 0 1.5h-.5A.75.75 0 0 1 3 4.75ZM3.75 10h.5a.75.75 0 0 1 0 1.5h-.5a.75.75 0 0 1 0-1.5Z"></path>
</svg>
</template>

<template id="globe-icon">
  <svg aria-hidden="true" height="16" viewBox="0 0 16 16" version="1.1" width="16" data-view-component="true" class="octicon octicon-globe">
    <path d="M8 0a8 8 0 1 1 0 16A8 8 0 0 1 8 0ZM5.78 8.75a9.64 9.64 0 0 0 1.363 4.177c.255.426.542.832.857 1.215.245-.296.551-.705.857-1.215A9.64 9.64 0 0 0 10.22 8.75Zm4.44-1.5a9.64 9.64 0 0 0-1.363-4.177c-.307-.51-.612-.919-.857-1.215a9.927 9.927 0 0 0-.857 1.215A9.64 9.64 0 0 0 5.78 7.25Zm-5.944 1.5H1.543a6.507 6.507 0 0 0 4.666 5.5c-.123-.181-.24-.365-.352-.552-.715-1.192-1.437-2.874-1.581-4.948Zm-2.733-1.5h2.733c.144-2.074.866-3.756 1.58-4.948.12-.197.237-.381.353-.552a6.507 6.507 0 0 0-4.666 5.5Zm10.181 1.5c-.144 2.074-.866 3.756-1.58 4.948-.12.197-.237.381-.353.552a6.507 6.507 0 0 0 4.666-5.5Zm2.733-1.5a6.507 6.507 0 0 0-4.666-5.5c.123.181.24.365.353.552.714 1.192 1.436 2.874 1.58 4.948Z"></path>
</svg>
</template>

<template id="issue-opened-icon">
  <svg aria-hidden="true" height="16" viewBox="0 0 16 16" version="1.1" width="16" data-view-component="true" class="octicon octicon-issue-opened">
    <path d="M8 9.5a1.5 1.5 0 1 0 0-3 1.5 1.5 0 0 0 0 3Z"></path><path d="M8 0a8 8 0 1 1 0 16A8 8 0 0 1 8 0ZM1.5 8a6.5 6.5 0 1 0 13 0 6.5 6.5 0 0 0-13 0Z"></path>
</svg>
</template>

<template id="device-mobile-icon">
  <svg aria-hidden="true" height="16" viewBox="0 0 16 16" version="1.1" width="16" data-view-component="true" class="octicon octicon-device-mobile">
    <path d="M3.75 0h8.5C13.216 0 14 .784 14 1.75v12.5A1.75 1.75 0 0 1 12.25 16h-8.5A1.75 1.75 0 0 1 2 14.25V1.75C2 .784 2.784 0 3.75 0ZM3.5 1.75v12.5c0 .138.112.25.25.25h8.5a.25.25 0 0 0 .25-.25V1.75a.25.25 0 0 0-.25-.25h-8.5a.25.25 0 0 0-.25.25ZM8 13a1 1 0 1 1 0-2 1 1 0 0 1 0 2Z"></path>
</svg>
</template>

<template id="package-icon">
  <svg aria-hidden="true" height="16" viewBox="0 0 16 16" version="1.1" width="16" data-view-component="true" class="octicon octicon-package">
    <path d="m8.878.392 5.25 3.045c.54.314.872.89.872 1.514v6.098a1.75 1.75 0 0 1-.872 1.514l-5.25 3.045a1.75 1.75 0 0 1-1.756 0l-5.25-3.045A1.75 1.75 0 0 1 1 11.049V4.951c0-.624.332-1.201.872-1.514L7.122.392a1.75 1.75 0 0 1 1.756 0ZM7.875 1.69l-4.63 2.685L8 7.133l4.755-2.758-4.63-2.685a.248.248 0 0 0-.25 0ZM2.5 5.677v5.372c0 .09.047.171.125.216l4.625 2.683V8.432Zm6.25 8.271 4.625-2.683a.25.25 0 0 0 .125-.216V5.677L8.75 8.432Z"></path>
</svg>
</template>

<template id="credit-card-icon">
  <svg aria-hidden="true" height="16" viewBox="0 0 16 16" version="1.1" width="16" data-view-component="true" class="octicon octicon-credit-card">
    <path d="M10.75 9a.75.75 0 0 0 0 1.5h1.5a.75.75 0 0 0 0-1.5h-1.5Z"></path><path d="M0 3.75C0 2.784.784 2 1.75 2h12.5c.966 0 1.75.784 1.75 1.75v8.5A1.75 1.75 0 0 1 14.25 14H1.75A1.75 1.75 0 0 1 0 12.25ZM14.5 6.5h-13v5.75c0 .138.112.25.25.25h12.5a.25.25 0 0 0 .25-.25Zm0-2.75a.25.25 0 0 0-.25-.25H1.75a.25.25 0 0 0-.25.25V5h13Z"></path>
</svg>
</template>

<template id="play-icon">
  <svg aria-hidden="true" height="16" viewBox="0 0 16 16" version="1.1" width="16" data-view-component="true" class="octicon octicon-play">
    <path d="M8 0a8 8 0 1 1 0 16A8 8 0 0 1 8 0ZM1.5 8a6.5 6.5 0 1 0 13 0 6.5 6.5 0 0 0-13 0Zm4.879-2.773 4.264 2.559a.25.25 0 0 1 0 .428l-4.264 2.559A.25.25 0 0 1 6 10.559V5.442a.25.25 0 0 1 .379-.215Z"></path>
</svg>
</template>

<template id="gift-icon">
  <svg aria-hidden="true" height="16" viewBox="0 0 16 16" version="1.1" width="16" data-view-component="true" class="octicon octicon-gift">
    <path d="M2 2.75A2.75 2.75 0 0 1 4.75 0c.983 0 1.873.42 2.57 1.232.268.318.497.668.68 1.042.183-.375.411-.725.68-1.044C9.376.42 10.266 0 11.25 0a2.75 2.75 0 0 1 2.45 4h.55c.966 0 1.75.784 1.75 1.75v2c0 .698-.409 1.301-1 1.582v4.918A1.75 1.75 0 0 1 13.25 16H2.75A1.75 1.75 0 0 1 1 14.25V9.332C.409 9.05 0 8.448 0 7.75v-2C0 4.784.784 4 1.75 4h.55c-.192-.375-.3-.8-.3-1.25ZM7.25 9.5H2.5v4.75c0 .138.112.25.25.25h4.5Zm1.5 0v5h4.5a.25.25 0 0 0 .25-.25V9.5Zm0-4V8h5.5a.25.25 0 0 0 .25-.25v-2a.25.25 0 0 0-.25-.25Zm-7 0a.25.25 0 0 0-.25.25v2c0 .138.112.25.25.25h5.5V5.5h-5.5Zm3-4a1.25 1.25 0 0 0 0 2.5h2.309c-.233-.818-.542-1.401-.878-1.793-.43-.502-.915-.707-1.431-.707ZM8.941 4h2.309a1.25 1.25 0 0 0 0-2.5c-.516 0-1 .205-1.43.707-.337.392-.646.975-.879 1.793Z"></path>
</svg>
</template>

<template id="code-square-icon">
  <svg aria-hidden="true" height="16" viewBox="0 0 16 16" version="1.1" width="16" data-view-component="true" class="octicon octicon-code-square">
    <path d="M0 1.75C0 .784.784 0 1.75 0h12.5C15.216 0 16 .784 16 1.75v12.5A1.75 1.75 0 0 1 14.25 16H1.75A1.75 1.75 0 0 1 0 14.25Zm1.75-.25a.25.25 0 0 0-.25.25v12.5c0 .138.112.25.25.25h12.5a.25.25 0 0 0 .25-.25V1.75a.25.25 0 0 0-.25-.25Zm7.47 3.97a.75.75 0 0 1 1.06 0l2 2a.75.75 0 0 1 0 1.06l-2 2a.749.749 0 0 1-1.275-.326.749.749 0 0 1 .215-.734L10.69 8 9.22 6.53a.75.75 0 0 1 0-1.06ZM6.78 6.53 5.31 8l1.47 1.47a.749.749 0 0 1-.326 1.275.749.749 0 0 1-.734-.215l-2-2a.75.75 0 0 1 0-1.06l2-2a.751.751 0 0 1 1.042.018.751.751 0 0 1 .018 1.042Z"></path>
</svg>
</template>

<template id="device-desktop-icon">
  <svg aria-hidden="true" height="16" viewBox="0 0 16 16" version="1.1" width="16" data-view-component="true" class="octicon octicon-device-desktop">
    <path d="M14.25 1c.966 0 1.75.784 1.75 1.75v7.5A1.75 1.75 0 0 1 14.25 12h-3.727c.099 1.041.52 1.872 1.292 2.757A.752.752 0 0 1 11.25 16h-6.5a.75.75 0 0 1-.565-1.243c.772-.885 1.192-1.716 1.292-2.757H1.75A1.75 1.75 0 0 1 0 10.25v-7.5C0 1.784.784 1 1.75 1ZM1.75 2.5a.25.25 0 0 0-.25.25v7.5c0 .138.112.25.25.25h12.5a.25.25 0 0 0 .25-.25v-7.5a.25.25 0 0 0-.25-.25ZM9.018 12H6.982a5.72 5.72 0 0 1-.765 2.5h3.566a5.72 5.72 0 0 1-.765-2.5Z"></path>
</svg>
</template>

        <div class="position-relative">
                <ul
                  role="listbox"
                  class="ActionListWrap QueryBuilder-ListWrap"
                  aria-label="Suggestions"
                  data-action="
                    combobox-commit:query-builder#comboboxCommit
                    mousedown:query-builder#resultsMousedown
                  "
                  data-target="query-builder.resultsList"
                  data-persist-list=false
                  id="query-builder-test-results"
                ></ul>
        </div>
      <div class="FormControl-inlineValidation" id="validation-fd90c402-314e-44f9-ac71-210fa4b7955d" hidden="hidden">
        <span class="FormControl-inlineValidation--visual">
          <svg aria-hidden="true" height="12" viewBox="0 0 12 12" version="1.1" width="12" data-view-component="true" class="octicon octicon-alert-fill">
    <path d="M4.855.708c.5-.896 1.79-.896 2.29 0l4.675 8.351a1.312 1.312 0 0 1-1.146 1.954H1.33A1.313 1.313 0 0 1 .183 9.058ZM7 7V3H5v4Zm-1 3a1 1 0 1 0 0-2 1 1 0 0 0 0 2Z"></path>
</svg>
        </span>
        <span></span>
</div>    </div>
    <div data-target="query-builder.screenReaderFeedback" aria-live="polite" aria-atomic="true" class="sr-only"></div>
</query-builder></form>
          <div class="d-flex flex-row color-fg-muted px-3 text-small color-bg-default search-feedback-prompt">
            <a target="_blank" href="https://docs.github.com/search-github/github-code-search/understanding-github-code-search-syntax" data-view-component="true" class="Link color-fg-accent text-normal ml-2">Search syntax tips</a>            <div class="d-flex flex-1"></div>
          </div>
        </div>
</div>

    </div>
</modal-dialog></div>
  </div>
  <div data-action="click:qbsearch-input#retract" class="dark-backdrop position-fixed" hidden data-target="qbsearch-input.darkBackdrop"></div>
  <div class="color-fg-default">
    
<dialog-helper>
  <dialog data-target="qbsearch-input.feedbackDialog" data-action="close:qbsearch-input#handleDialogClose cancel:qbsearch-input#handleDialogClose" id="feedback-dialog" aria-modal="true" aria-labelledby="feedback-dialog-title" aria-describedby="feedback-dialog-description" data-view-component="true" class="Overlay Overlay-whenNarrow Overlay--size-medium Overlay--motion-scaleFade Overlay--disableScroll">
    <div data-view-component="true" class="Overlay-header">
  <div class="Overlay-headerContentWrap">
    <div class="Overlay-titleWrap">
      <h1 class="Overlay-title " id="feedback-dialog-title">
        Provide feedback
      </h1>
        
    </div>
    <div class="Overlay-actionWrap">
      <button data-close-dialog-id="feedback-dialog" aria-label="Close" aria-label="Close" type="button" data-view-component="true" class="close-button Overlay-closeButton"><svg aria-hidden="true" height="16" viewBox="0 0 16 16" version="1.1" width="16" data-view-component="true" class="octicon octicon-x">
    <path d="M3.72 3.72a.75.75 0 0 1 1.06 0L8 6.94l3.22-3.22a.749.749 0 0 1 1.275.326.749.749 0 0 1-.215.734L9.06 8l3.22 3.22a.749.749 0 0 1-.326 1.275.749.749 0 0 1-.734-.215L8 9.06l-3.22 3.22a.751.751 0 0 1-1.042-.018.751.751 0 0 1-.018-1.042L6.94 8 3.72 4.78a.75.75 0 0 1 0-1.06Z"></path>
</svg></button>
    </div>
  </div>
  
</div>
      <scrollable-region data-labelled-by="feedback-dialog-title">
        <div data-view-component="true" class="Overlay-body">        <!-- '"` --><!-- </textarea></xmp> --></option></form><form id="code-search-feedback-form" data-turbo="false" action="/search/feedback" accept-charset="UTF-8" method="post"><input type="hidden" data-csrf="true" name="authenticity_token" value="zaU5tb04/KHGHAUcyeRNURwGXMVEBz6RT+kxzdhCYjrMN1C3R6wj5lU6YYMcV6xjg70ImYRX/iByh0/5YgBpSg==" />
          <p>We read every piece of feedback, and take your input very seriously.</p>
          <textarea name="feedback" class="form-control width-full mb-2" style="height: 120px" id="feedback"></textarea>
          <input name="include_email" id="include_email" aria-label="Include my email address so I can be contacted" class="form-control mr-2" type="checkbox">
          <label for="include_email" style="font-weight: normal">Include my email address so I can be contacted</label>
</form></div>
      </scrollable-region>
      <div data-view-component="true" class="Overlay-footer Overlay-footer--alignEnd">          <button data-close-dialog-id="feedback-dialog" type="button" data-view-component="true" class="btn">    Cancel
</button>
          <button form="code-search-feedback-form" data-action="click:qbsearch-input#submitFeedback" type="submit" data-view-component="true" class="btn-primary btn">    Submit feedback
</button>
</div>
</dialog></dialog-helper>

    <custom-scopes data-target="qbsearch-input.customScopesManager">
    
<dialog-helper>
  <dialog data-target="custom-scopes.customScopesModalDialog" data-action="close:qbsearch-input#handleDialogClose cancel:qbsearch-input#handleDialogClose" id="custom-scopes-dialog" aria-modal="true" aria-labelledby="custom-scopes-dialog-title" aria-describedby="custom-scopes-dialog-description" data-view-component="true" class="Overlay Overlay-whenNarrow Overlay--size-medium Overlay--motion-scaleFade Overlay--disableScroll">
    <div data-view-component="true" class="Overlay-header Overlay-header--divided">
  <div class="Overlay-headerContentWrap">
    <div class="Overlay-titleWrap">
      <h1 class="Overlay-title " id="custom-scopes-dialog-title">
        Saved searches
      </h1>
        <h2 id="custom-scopes-dialog-description" class="Overlay-description">Use saved searches to filter your results more quickly</h2>
    </div>
    <div class="Overlay-actionWrap">
      <button data-close-dialog-id="custom-scopes-dialog" aria-label="Close" aria-label="Close" type="button" data-view-component="true" class="close-button Overlay-closeButton"><svg aria-hidden="true" height="16" viewBox="0 0 16 16" version="1.1" width="16" data-view-component="true" class="octicon octicon-x">
    <path d="M3.72 3.72a.75.75 0 0 1 1.06 0L8 6.94l3.22-3.22a.749.749 0 0 1 1.275.326.749.749 0 0 1-.215.734L9.06 8l3.22 3.22a.749.749 0 0 1-.326 1.275.749.749 0 0 1-.734-.215L8 9.06l-3.22 3.22a.751.751 0 0 1-1.042-.018.751.751 0 0 1-.018-1.042L6.94 8 3.72 4.78a.75.75 0 0 1 0-1.06Z"></path>
</svg></button>
    </div>
  </div>
  
</div>
      <scrollable-region data-labelled-by="custom-scopes-dialog-title">
        <div data-view-component="true" class="Overlay-body">        <div data-target="custom-scopes.customScopesModalDialogFlash"></div>

        <div hidden class="create-custom-scope-form" data-target="custom-scopes.createCustomScopeForm">
        <!-- '"` --><!-- </textarea></xmp> --></option></form><form id="custom-scopes-dialog-form" data-turbo="false" action="/search/custom_scopes" accept-charset="UTF-8" method="post"><input type="hidden" data-csrf="true" name="authenticity_token" value="JK8B+atCArkSuSMLjZAXl2g9Xrukfmd5HSYRk21/8wFdrle6mwtS3TTM62ClxViR8p1sD/m6ZJrZR7F6Nad25Q==" />
          <div data-target="custom-scopes.customScopesModalDialogFlash"></div>

          <input type="hidden" id="custom_scope_id" name="custom_scope_id" data-target="custom-scopes.customScopesIdField">

          <div class="form-group">
            <label for="custom_scope_name">Name</label>
            <auto-check src="/search/custom_scopes/check_name" required>
              <input
                type="text"
                name="custom_scope_name"
                id="custom_scope_name"
                data-target="custom-scopes.customScopesNameField"
                class="form-control"
                autocomplete="off"
                placeholder="github-ruby"
                required
                maxlength="50">
              <input type="hidden" data-csrf="true" value="PESfnyx3Cf8BXhItVmoyjvo2+Vk+d7CmeQyM96Nv0dSE7+IRlHrgaZRydzqcihRoBa3D+QDFJHw7B5OPlKV4aw==" />
            </auto-check>
          </div>

          <div class="form-group">
            <label for="custom_scope_query">Query</label>
            <input
              type="text"
              name="custom_scope_query"
              id="custom_scope_query"
              data-target="custom-scopes.customScopesQueryField"
              class="form-control"
              autocomplete="off"
              placeholder="(repo:mona/a OR repo:mona/b) AND lang:python"
              required
              maxlength="500">
          </div>

          <p class="text-small color-fg-muted">
            To see all available qualifiers, see our <a class="Link--inTextBlock" href="https://docs.github.com/search-github/github-code-search/understanding-github-code-search-syntax">documentation</a>.
          </p>
</form>        </div>

        <div data-target="custom-scopes.manageCustomScopesForm">
          <div data-target="custom-scopes.list"></div>
        </div>

</div>
      </scrollable-region>
      <div data-view-component="true" class="Overlay-footer Overlay-footer--alignEnd Overlay-footer--divided">          <button data-action="click:custom-scopes#customScopesCancel" type="button" data-view-component="true" class="btn">    Cancel
</button>
          <button form="custom-scopes-dialog-form" data-action="click:custom-scopes#customScopesSubmit" data-target="custom-scopes.customScopesSubmitButton" type="submit" data-view-component="true" class="btn-primary btn">    Create saved search
</button>
</div>
</dialog></dialog-helper>
    </custom-scopes>
  </div>
</qbsearch-input>


            <div class="position-relative HeaderMenu-link-wrap d-lg-inline-block">
              <a
                href="/login?return_to=https%3A%2F%2Fgithub.com%2FMouseLand%2Fcellpose%2Fblob%2Fmain%2Fnotebooks%2Frun_Cellpose-SAM.ipynb"
                class="HeaderMenu-link HeaderMenu-link--sign-in HeaderMenu-button flex-shrink-0 no-underline d-none d-lg-inline-flex border border-lg-0 rounded rounded-lg-0 px-2 py-1"
                style="margin-left: 12px;"
                data-hydro-click="{&quot;event_type&quot;:&quot;authentication.click&quot;,&quot;payload&quot;:{&quot;location_in_page&quot;:&quot;site header menu&quot;,&quot;repository_id&quot;:null,&quot;auth_type&quot;:&quot;SIGN_UP&quot;,&quot;originating_url&quot;:&quot;https://github.com/MouseLand/cellpose/blob/main/notebooks/run_Cellpose-SAM.ipynb&quot;,&quot;user_id&quot;:null}}" data-hydro-click-hmac="8e472e77757bc20c655afa2f1def530bc960d21c7b880fc20575052d5f0c0be2"
                data-analytics-event="{&quot;category&quot;:&quot;Marketing nav&quot;,&quot;action&quot;:&quot;click to go to homepage&quot;,&quot;label&quot;:&quot;ref_page:Marketing;ref_cta:Sign in;ref_loc:Header&quot;}"
              >
                Sign in
              </a>
            </div>

              <a href="/signup?ref_cta=Sign+up&amp;ref_loc=header+logged+out&amp;ref_page=%2F%3Cuser-name%3E%2F%3Crepo-name%3E%2Fblob%2Fshow&amp;source=header-repo&amp;source_repo=MouseLand%2Fcellpose"
                class="HeaderMenu-link HeaderMenu-link--sign-up HeaderMenu-button flex-shrink-0 d-flex d-lg-inline-flex no-underline border color-border-default rounded px-2 py-1"
                data-hydro-click="{&quot;event_type&quot;:&quot;authentication.click&quot;,&quot;payload&quot;:{&quot;location_in_page&quot;:&quot;site header menu&quot;,&quot;repository_id&quot;:null,&quot;auth_type&quot;:&quot;SIGN_UP&quot;,&quot;originating_url&quot;:&quot;https://github.com/MouseLand/cellpose/blob/main/notebooks/run_Cellpose-SAM.ipynb&quot;,&quot;user_id&quot;:null}}" data-hydro-click-hmac="8e472e77757bc20c655afa2f1def530bc960d21c7b880fc20575052d5f0c0be2"
                data-analytics-event="{&quot;category&quot;:&quot;Sign up&quot;,&quot;action&quot;:&quot;click to sign up for account&quot;,&quot;label&quot;:&quot;ref_page:/&lt;user-name&gt;/&lt;repo-name&gt;/blob/show;ref_cta:Sign up;ref_loc:header logged out&quot;}"
              >
                Sign up
              </a>

                <div class="AppHeader-appearanceSettings">
    <react-partial-anchor>
      <button data-target="react-partial-anchor.anchor" id="icon-button-0f430a1f-7e48-4621-86c7-ee6bf6965058" aria-labelledby="tooltip-820197e0-2af4-4a33-aca6-c7aefb5551f9" type="button" disabled="disabled" data-view-component="true" class="Button Button--iconOnly Button--invisible Button--medium AppHeader-button HeaderMenu-link border cursor-wait">  <svg aria-hidden="true" height="16" viewBox="0 0 16 16" version="1.1" width="16" data-view-component="true" class="octicon octicon-sliders Button-visual">
    <path d="M15 2.75a.75.75 0 0 1-.75.75h-4a.75.75 0 0 1 0-1.5h4a.75.75 0 0 1 .75.75Zm-8.5.75v1.25a.75.75 0 0 0 1.5 0v-4a.75.75 0 0 0-1.5 0V2H1.75a.75.75 0 0 0 0 1.5H6.5Zm1.25 5.25a.75.75 0 0 0 0-1.5h-6a.75.75 0 0 0 0 1.5h6ZM15 8a.75.75 0 0 1-.75.75H11.5V10a.75.75 0 1 1-1.5 0V6a.75.75 0 0 1 1.5 0v1.25h2.75A.75.75 0 0 1 15 8Zm-9 5.25v-2a.75.75 0 0 0-1.5 0v1.25H1.75a.75.75 0 0 0 0 1.5H4.5v1.25a.75.75 0 0 0 1.5 0v-2Zm9 0a.75.75 0 0 1-.75.75h-6a.75.75 0 0 1 0-1.5h6a.75.75 0 0 1 .75.75Z"></path>
</svg>
</button><tool-tip id="tooltip-820197e0-2af4-4a33-aca6-c7aefb5551f9" for="icon-button-0f430a1f-7e48-4621-86c7-ee6bf6965058" popover="manual" data-direction="s" data-type="label" data-view-component="true" class="sr-only position-absolute">Appearance settings</tool-tip>

      <template data-target="react-partial-anchor.template">
        <link crossorigin="anonymous" media="all" rel="stylesheet" href="https://github.githubassets.com/assets/primer-react.c212c596cc6bbefb1798.module.css" />
<link crossorigin="anonymous" media="all" rel="stylesheet" href="https://github.githubassets.com/assets/appearance-settings.4e1ca273f504ba849f8c.module.css" />

<react-partial
  partial-name="appearance-settings"
  data-ssr="false"
  data-attempted-ssr="false"
  data-react-profiling="false"
>
  
  <script type="application/json" data-target="react-partial.embeddedData">{"props":{}}</script>
  <div data-target="react-partial.reactRoot"></div>
</react-partial>

      </template>
    </react-partial-anchor>
  </div>

          <button type="button" class="sr-only js-header-menu-focus-trap d-block d-lg-none">Resetting focus</button>
        </div>
      </div>
    </div>
  </div>
</header>

      <div hidden="hidden" data-view-component="true" class="js-stale-session-flash stale-session-flash flash flash-warn flash-full">
  
        <svg aria-hidden="true" height="16" viewBox="0 0 16 16" version="1.1" width="16" data-view-component="true" class="octicon octicon-alert">
    <path d="M6.457 1.047c.659-1.234 2.427-1.234 3.086 0l6.082 11.378A1.75 1.75 0 0 1 14.082 15H1.918a1.75 1.75 0 0 1-1.543-2.575Zm1.763.707a.25.25 0 0 0-.44 0L1.698 13.132a.25.25 0 0 0 .22.368h12.164a.25.25 0 0 0 .22-.368Zm.53 3.996v2.5a.75.75 0 0 1-1.5 0v-2.5a.75.75 0 0 1 1.5 0ZM9 11a1 1 0 1 1-2 0 1 1 0 0 1 2 0Z"></path>
</svg>
        <span class="js-stale-session-flash-signed-in" hidden>You signed in with another tab or window. <a class="Link--inTextBlock" href="">Reload</a> to refresh your session.</span>
        <span class="js-stale-session-flash-signed-out" hidden>You signed out in another tab or window. <a class="Link--inTextBlock" href="">Reload</a> to refresh your session.</span>
        <span class="js-stale-session-flash-switched" hidden>You switched accounts on another tab or window. <a class="Link--inTextBlock" href="">Reload</a> to refresh your session.</span>

    <button id="icon-button-efc414d4-4aa9-49c9-ac0f-e3a9b24c1183" aria-labelledby="tooltip-b80b7ccb-cca9-4415-9ffb-c8feb14c6621" type="button" data-view-component="true" class="Button Button--iconOnly Button--invisible Button--medium flash-close js-flash-close">  <svg aria-hidden="true" height="16" viewBox="0 0 16 16" version="1.1" width="16" data-view-component="true" class="octicon octicon-x Button-visual">
    <path d="M3.72 3.72a.75.75 0 0 1 1.06 0L8 6.94l3.22-3.22a.749.749 0 0 1 1.275.326.749.749 0 0 1-.215.734L9.06 8l3.22 3.22a.749.749 0 0 1-.326 1.275.749.749 0 0 1-.734-.215L8 9.06l-3.22 3.22a.751.751 0 0 1-1.042-.018.751.751 0 0 1-.018-1.042L6.94 8 3.72 4.78a.75.75 0 0 1 0-1.06Z"></path>
</svg>
</button><tool-tip id="tooltip-b80b7ccb-cca9-4415-9ffb-c8feb14c6621" for="icon-button-efc414d4-4aa9-49c9-ac0f-e3a9b24c1183" popover="manual" data-direction="s" data-type="label" data-view-component="true" class="sr-only position-absolute">Dismiss alert</tool-tip>


  
</div>
    </div>

  <div id="start-of-content" class="show-on-focus"></div>








    <div id="js-flash-container" class="flash-container" data-turbo-replace>




  <template class="js-flash-template">
    
<div class="flash flash-full   {{ className }}">
  <div >
    <button autofocus class="flash-close js-flash-close" type="button" aria-label="Dismiss this message">
      <svg aria-hidden="true" height="16" viewBox="0 0 16 16" version="1.1" width="16" data-view-component="true" class="octicon octicon-x">
    <path d="M3.72 3.72a.75.75 0 0 1 1.06 0L8 6.94l3.22-3.22a.749.749 0 0 1 1.275.326.749.749 0 0 1-.215.734L9.06 8l3.22 3.22a.749.749 0 0 1-.326 1.275.749.749 0 0 1-.734-.215L8 9.06l-3.22 3.22a.751.751 0 0 1-1.042-.018.751.751 0 0 1-.018-1.042L6.94 8 3.72 4.78a.75.75 0 0 1 0-1.06Z"></path>
</svg>
    </button>
    <div aria-atomic="true" role="alert" class="js-flash-alert">
      
      <div>{{ message }}</div>

    </div>
  </div>
</div>
  </template>
</div>


    






  <div
    class="application-main "
    data-commit-hovercards-enabled
    data-discussion-hovercards-enabled
    data-issue-and-pr-hovercards-enabled
    data-project-hovercards-enabled
  >
        <div itemscope itemtype="http://schema.org/SoftwareSourceCode" class="">
    <main id="js-repo-pjax-container" >
      
      
    

    






  
  <div id="repository-container-header"  class="pt-3 hide-full-screen" style="background-color: var(--page-header-bgColor, var(--color-page-header-bg));" data-turbo-replace>

      <div class="d-flex flex-nowrap flex-justify-end mb-3  px-3 px-lg-5" style="gap: 1rem;">

        <div class="flex-auto min-width-0 width-fit">
            
  <div class=" d-flex flex-wrap flex-items-center wb-break-word f3 text-normal">
      <svg aria-hidden="true" height="16" viewBox="0 0 16 16" version="1.1" width="16" data-view-component="true" class="octicon octicon-repo color-fg-muted mr-2">
    <path d="M2 2.5A2.5 2.5 0 0 1 4.5 0h8.75a.75.75 0 0 1 .75.75v12.5a.75.75 0 0 1-.75.75h-2.5a.75.75 0 0 1 0-1.5h1.75v-2h-8a1 1 0 0 0-.714 1.7.75.75 0 1 1-1.072 1.05A2.495 2.495 0 0 1 2 11.5Zm10.5-1h-8a1 1 0 0 0-1 1v6.708A2.486 2.486 0 0 1 4.5 9h8ZM5 12.25a.25.25 0 0 1 .25-.25h3.5a.25.25 0 0 1 .25.25v3.25a.25.25 0 0 1-.4.2l-1.45-1.087a.249.249 0 0 0-.3 0L5.4 15.7a.25.25 0 0 1-.4-.2Z"></path>
</svg>
    
    <span class="author flex-self-stretch" itemprop="author">
      <a class="url fn" rel="author" data-hovercard-type="organization" data-hovercard-url="/orgs/MouseLand/hovercard" data-octo-click="hovercard-link-click" data-octo-dimensions="link_type:self" href="/MouseLand">
        MouseLand
</a>    </span>
    <span class="mx-1 flex-self-stretch color-fg-muted">/</span>
    <strong itemprop="name" class="mr-2 flex-self-stretch">
      <a data-pjax="#repo-content-pjax-container" data-turbo-frame="repo-content-turbo-frame" href="/MouseLand/cellpose">cellpose</a>
    </strong>

    <span></span><span class="Label Label--secondary v-align-middle mr-1">Public</span>
  </div>


        </div>

        <div id="repository-details-container" class="flex-shrink-0" data-turbo-replace style="max-width: 70%;">
            <ul class="pagehead-actions flex-shrink-0 d-none d-md-inline" style="padding: 2px 0;">
    
      

  <li>
            <a href="/login?return_to=%2FMouseLand%2Fcellpose" rel="nofollow" id="repository-details-watch-button" data-hydro-click="{&quot;event_type&quot;:&quot;authentication.click&quot;,&quot;payload&quot;:{&quot;location_in_page&quot;:&quot;notification subscription menu watch&quot;,&quot;repository_id&quot;:null,&quot;auth_type&quot;:&quot;LOG_IN&quot;,&quot;originating_url&quot;:&quot;https://github.com/MouseLand/cellpose/blob/main/notebooks/run_Cellpose-SAM.ipynb&quot;,&quot;user_id&quot;:null}}" data-hydro-click-hmac="a9b2c5ad7f6d6a95f0f7177c988382a3115b349a4ee1d198e47d05271fd8a04c" aria-label="You must be signed in to change notification settings" data-view-component="true" class="btn-sm btn">    <svg aria-hidden="true" height="16" viewBox="0 0 16 16" version="1.1" width="16" data-view-component="true" class="octicon octicon-bell mr-2">
    <path d="M8 16a2 2 0 0 0 1.985-1.75c.017-.137-.097-.25-.235-.25h-3.5c-.138 0-.252.113-.235.25A2 2 0 0 0 8 16ZM3 5a5 5 0 0 1 10 0v2.947c0 .05.015.098.042.139l1.703 2.555A1.519 1.519 0 0 1 13.482 13H2.518a1.516 1.516 0 0 1-1.263-2.36l1.703-2.554A.255.255 0 0 0 3 7.947Zm5-3.5A3.5 3.5 0 0 0 4.5 5v2.947c0 .346-.102.683-.294.97l-1.703 2.556a.017.017 0 0 0-.003.01l.001.006c0 .002.002.004.004.006l.006.004.007.001h10.964l.007-.001.006-.004.004-.006.001-.007a.017.017 0 0 0-.003-.01l-1.703-2.554a1.745 1.745 0 0 1-.294-.97V5A3.5 3.5 0 0 0 8 1.5Z"></path>
</svg>Notifications
</a>    <tool-tip id="tooltip-09440a02-c265-49a1-88e6-444d535d89e0" for="repository-details-watch-button" popover="manual" data-direction="s" data-type="description" data-view-component="true" class="sr-only position-absolute">You must be signed in to change notification settings</tool-tip>

  </li>

  <li>
          <a icon="repo-forked" id="fork-button" href="/login?return_to=%2FMouseLand%2Fcellpose" rel="nofollow" data-hydro-click="{&quot;event_type&quot;:&quot;authentication.click&quot;,&quot;payload&quot;:{&quot;location_in_page&quot;:&quot;repo details fork button&quot;,&quot;repository_id&quot;:237686847,&quot;auth_type&quot;:&quot;LOG_IN&quot;,&quot;originating_url&quot;:&quot;https://github.com/MouseLand/cellpose/blob/main/notebooks/run_Cellpose-SAM.ipynb&quot;,&quot;user_id&quot;:null}}" data-hydro-click-hmac="f4977ea36cb77179e948d5c85cb14e154d900434902fea740afc700d38a2f0ef" data-view-component="true" class="btn-sm btn">    <svg aria-hidden="true" height="16" viewBox="0 0 16 16" version="1.1" width="16" data-view-component="true" class="octicon octicon-repo-forked mr-2">
    <path d="M5 5.372v.878c0 .414.336.75.75.75h4.5a.75.75 0 0 0 .75-.75v-.878a2.25 2.25 0 1 1 1.5 0v.878a2.25 2.25 0 0 1-2.25 2.25h-1.5v2.128a2.251 2.251 0 1 1-1.5 0V8.5h-1.5A2.25 2.25 0 0 1 3.5 6.25v-.878a2.25 2.25 0 1 1 1.5 0ZM5 3.25a.75.75 0 1 0-1.5 0 .75.75 0 0 0 1.5 0Zm6.75.75a.75.75 0 1 0 0-1.5.75.75 0 0 0 0 1.5Zm-3 8.75a.75.75 0 1 0-1.5 0 .75.75 0 0 0 1.5 0Z"></path>
</svg>Fork
    <span id="repo-network-counter" data-pjax-replace="true" data-turbo-replace="true" title="479" data-view-component="true" class="Counter">479</span>
</a>
  </li>

  <li>
        <div data-view-component="true" class="BtnGroup d-flex">
        <a href="/login?return_to=%2FMouseLand%2Fcellpose" rel="nofollow" data-hydro-click="{&quot;event_type&quot;:&quot;authentication.click&quot;,&quot;payload&quot;:{&quot;location_in_page&quot;:&quot;star button&quot;,&quot;repository_id&quot;:237686847,&quot;auth_type&quot;:&quot;LOG_IN&quot;,&quot;originating_url&quot;:&quot;https://github.com/MouseLand/cellpose/blob/main/notebooks/run_Cellpose-SAM.ipynb&quot;,&quot;user_id&quot;:null}}" data-hydro-click-hmac="762bba82286355df933b3b0b47871266ab644b003c3857d2e4c430a6d69a43e9" aria-label="You must be signed in to star a repository" data-view-component="true" class="tooltipped tooltipped-sw btn-sm btn">    <svg aria-hidden="true" height="16" viewBox="0 0 16 16" version="1.1" width="16" data-view-component="true" class="octicon octicon-star v-align-text-bottom d-inline-block mr-2">
    <path d="M8 .25a.75.75 0 0 1 .673.418l1.882 3.815 4.21.612a.75.75 0 0 1 .416 1.279l-3.046 2.97.719 4.192a.751.751 0 0 1-1.088.791L8 12.347l-3.766 1.98a.75.75 0 0 1-1.088-.79l.72-4.194L.818 6.374a.75.75 0 0 1 .416-1.28l4.21-.611L7.327.668A.75.75 0 0 1 8 .25Zm0 2.445L6.615 5.5a.75.75 0 0 1-.564.41l-3.097.45 2.24 2.184a.75.75 0 0 1 .216.664l-.528 3.084 2.769-1.456a.75.75 0 0 1 .698 0l2.77 1.456-.53-3.084a.75.75 0 0 1 .216-.664l2.24-2.183-3.096-.45a.75.75 0 0 1-.564-.41L8 2.694Z"></path>
</svg><span data-view-component="true" class="d-inline">
          Star
</span>          <span id="repo-stars-counter-star" aria-label="1709 users starred this repository" data-singular-suffix="user starred this repository" data-plural-suffix="users starred this repository" data-turbo-replace="true" title="1,709" data-view-component="true" class="Counter js-social-count">1.7k</span>
</a></div>
  </li>

</ul>

        </div>
      </div>

        <div id="responsive-meta-container" data-turbo-replace>
</div>


          <nav data-pjax="#js-repo-pjax-container" aria-label="Repository" data-view-component="true" class="js-repo-nav js-sidenav-container-pjax js-responsive-underlinenav overflow-hidden UnderlineNav px-3 px-md-4 px-lg-5">

  <ul data-view-component="true" class="UnderlineNav-body list-style-none">
      <li data-view-component="true" class="d-inline-flex">
  <a id="code-tab" href="/MouseLand/cellpose" data-tab-item="i0code-tab" data-selected-links="repo_source repo_downloads repo_commits repo_releases repo_tags repo_branches repo_packages repo_deployments repo_attestations /MouseLand/cellpose" data-pjax="#repo-content-pjax-container" data-turbo-frame="repo-content-turbo-frame" data-hotkey="g c" data-analytics-event="{&quot;category&quot;:&quot;Underline navbar&quot;,&quot;action&quot;:&quot;Click tab&quot;,&quot;label&quot;:&quot;Code&quot;,&quot;target&quot;:&quot;UNDERLINE_NAV.TAB&quot;}" aria-current="page" data-view-component="true" class="UnderlineNav-item no-wrap js-responsive-underlinenav-item js-selected-navigation-item selected">
    
              <svg aria-hidden="true" height="16" viewBox="0 0 16 16" version="1.1" width="16" data-view-component="true" class="octicon octicon-code UnderlineNav-octicon d-none d-sm-inline">
    <path d="m11.28 3.22 4.25 4.25a.75.75 0 0 1 0 1.06l-4.25 4.25a.749.749 0 0 1-1.275-.326.749.749 0 0 1 .215-.734L13.94 8l-3.72-3.72a.749.749 0 0 1 .326-1.275.749.749 0 0 1 .734.215Zm-6.56 0a.751.751 0 0 1 1.042.018.751.751 0 0 1 .018 1.042L2.06 8l3.72 3.72a.749.749 0 0 1-.326 1.275.749.749 0 0 1-.734-.215L.47 8.53a.75.75 0 0 1 0-1.06Z"></path>
</svg>
        <span data-content="Code">Code</span>
          <span id="code-repo-tab-count" data-pjax-replace="" data-turbo-replace="" title="Not available" data-view-component="true" class="Counter"></span>


    
</a></li>
      <li data-view-component="true" class="d-inline-flex">
  <a id="issues-tab" href="/MouseLand/cellpose/issues" data-tab-item="i1issues-tab" data-selected-links="repo_issues repo_labels repo_milestones /MouseLand/cellpose/issues" data-pjax="#repo-content-pjax-container" data-turbo-frame="repo-content-turbo-frame" data-hotkey="g i" data-analytics-event="{&quot;category&quot;:&quot;Underline navbar&quot;,&quot;action&quot;:&quot;Click tab&quot;,&quot;label&quot;:&quot;Issues&quot;,&quot;target&quot;:&quot;UNDERLINE_NAV.TAB&quot;}" data-view-component="true" class="UnderlineNav-item no-wrap js-responsive-underlinenav-item js-selected-navigation-item">
    
              <svg aria-hidden="true" height="16" viewBox="0 0 16 16" version="1.1" width="16" data-view-component="true" class="octicon octicon-issue-opened UnderlineNav-octicon d-none d-sm-inline">
    <path d="M8 9.5a1.5 1.5 0 1 0 0-3 1.5 1.5 0 0 0 0 3Z"></path><path d="M8 0a8 8 0 1 1 0 16A8 8 0 0 1 8 0ZM1.5 8a6.5 6.5 0 1 0 13 0 6.5 6.5 0 0 0-13 0Z"></path>
</svg>
        <span data-content="Issues">Issues</span>
          <span id="issues-repo-tab-count" data-pjax-replace="" data-turbo-replace="" title="50" data-view-component="true" class="Counter">50</span>


    
</a></li>
      <li data-view-component="true" class="d-inline-flex">
  <a id="pull-requests-tab" href="/MouseLand/cellpose/pulls" data-tab-item="i2pull-requests-tab" data-selected-links="repo_pulls checks /MouseLand/cellpose/pulls" data-pjax="#repo-content-pjax-container" data-turbo-frame="repo-content-turbo-frame" data-hotkey="g p" data-analytics-event="{&quot;category&quot;:&quot;Underline navbar&quot;,&quot;action&quot;:&quot;Click tab&quot;,&quot;label&quot;:&quot;Pull requests&quot;,&quot;target&quot;:&quot;UNDERLINE_NAV.TAB&quot;}" data-view-component="true" class="UnderlineNav-item no-wrap js-responsive-underlinenav-item js-selected-navigation-item">
    
              <svg aria-hidden="true" height="16" viewBox="0 0 16 16" version="1.1" width="16" data-view-component="true" class="octicon octicon-git-pull-request UnderlineNav-octicon d-none d-sm-inline">
    <path d="M1.5 3.25a2.25 2.25 0 1 1 3 2.122v5.256a2.251 2.251 0 1 1-1.5 0V5.372A2.25 2.25 0 0 1 1.5 3.25Zm5.677-.177L9.573.677A.25.25 0 0 1 10 .854V2.5h1A2.5 2.5 0 0 1 13.5 5v5.628a2.251 2.251 0 1 1-1.5 0V5a1 1 0 0 0-1-1h-1v1.646a.25.25 0 0 1-.427.177L7.177 3.427a.25.25 0 0 1 0-.354ZM3.75 2.5a.75.75 0 1 0 0 1.5.75.75 0 0 0 0-1.5Zm0 9.5a.75.75 0 1 0 0 1.5.75.75 0 0 0 0-1.5Zm8.25.75a.75.75 0 1 0 1.5 0 .75.75 0 0 0-1.5 0Z"></path>
</svg>
        <span data-content="Pull requests">Pull requests</span>
          <span id="pull-requests-repo-tab-count" data-pjax-replace="" data-turbo-replace="" title="15" data-view-component="true" class="Counter">15</span>


    
</a></li>
      <li data-view-component="true" class="d-inline-flex">
  <a id="actions-tab" href="/MouseLand/cellpose/actions" data-tab-item="i3actions-tab" data-selected-links="repo_actions /MouseLand/cellpose/actions" data-pjax="#repo-content-pjax-container" data-turbo-frame="repo-content-turbo-frame" data-hotkey="g a" data-analytics-event="{&quot;category&quot;:&quot;Underline navbar&quot;,&quot;action&quot;:&quot;Click tab&quot;,&quot;label&quot;:&quot;Actions&quot;,&quot;target&quot;:&quot;UNDERLINE_NAV.TAB&quot;}" data-view-component="true" class="UnderlineNav-item no-wrap js-responsive-underlinenav-item js-selected-navigation-item">
    
              <svg aria-hidden="true" height="16" viewBox="0 0 16 16" version="1.1" width="16" data-view-component="true" class="octicon octicon-play UnderlineNav-octicon d-none d-sm-inline">
    <path d="M8 0a8 8 0 1 1 0 16A8 8 0 0 1 8 0ZM1.5 8a6.5 6.5 0 1 0 13 0 6.5 6.5 0 0 0-13 0Zm4.879-2.773 4.264 2.559a.25.25 0 0 1 0 .428l-4.264 2.559A.25.25 0 0 1 6 10.559V5.442a.25.25 0 0 1 .379-.215Z"></path>
</svg>
        <span data-content="Actions">Actions</span>
          <span id="actions-repo-tab-count" data-pjax-replace="" data-turbo-replace="" title="Not available" data-view-component="true" class="Counter"></span>


    
</a></li>
      <li data-view-component="true" class="d-inline-flex">
  <a id="projects-tab" href="/MouseLand/cellpose/projects" data-tab-item="i4projects-tab" data-selected-links="repo_projects new_repo_project repo_project /MouseLand/cellpose/projects" data-pjax="#repo-content-pjax-container" data-turbo-frame="repo-content-turbo-frame" data-hotkey="g b" data-analytics-event="{&quot;category&quot;:&quot;Underline navbar&quot;,&quot;action&quot;:&quot;Click tab&quot;,&quot;label&quot;:&quot;Projects&quot;,&quot;target&quot;:&quot;UNDERLINE_NAV.TAB&quot;}" data-view-component="true" class="UnderlineNav-item no-wrap js-responsive-underlinenav-item js-selected-navigation-item">
    
              <svg aria-hidden="true" height="16" viewBox="0 0 16 16" version="1.1" width="16" data-view-component="true" class="octicon octicon-table UnderlineNav-octicon d-none d-sm-inline">
    <path d="M0 1.75C0 .784.784 0 1.75 0h12.5C15.216 0 16 .784 16 1.75v12.5A1.75 1.75 0 0 1 14.25 16H1.75A1.75 1.75 0 0 1 0 14.25ZM6.5 6.5v8h7.75a.25.25 0 0 0 .25-.25V6.5Zm8-1.5V1.75a.25.25 0 0 0-.25-.25H6.5V5Zm-13 1.5v7.75c0 .138.112.25.25.25H5v-8ZM5 5V1.5H1.75a.25.25 0 0 0-.25.25V5Z"></path>
</svg>
        <span data-content="Projects">Projects</span>
          <span id="projects-repo-tab-count" data-pjax-replace="" data-turbo-replace="" title="0" hidden="hidden" data-view-component="true" class="Counter">0</span>


    
</a></li>
      <li data-view-component="true" class="d-inline-flex">
  <a id="security-tab" href="/MouseLand/cellpose/security" data-tab-item="i5security-tab" data-selected-links="security overview alerts policy token_scanning code_scanning /MouseLand/cellpose/security" data-pjax="#repo-content-pjax-container" data-turbo-frame="repo-content-turbo-frame" data-hotkey="g s" data-analytics-event="{&quot;category&quot;:&quot;Underline navbar&quot;,&quot;action&quot;:&quot;Click tab&quot;,&quot;label&quot;:&quot;Security&quot;,&quot;target&quot;:&quot;UNDERLINE_NAV.TAB&quot;}" data-view-component="true" class="UnderlineNav-item no-wrap js-responsive-underlinenav-item js-selected-navigation-item">
    
              <svg aria-hidden="true" height="16" viewBox="0 0 16 16" version="1.1" width="16" data-view-component="true" class="octicon octicon-shield UnderlineNav-octicon d-none d-sm-inline">
    <path d="M7.467.133a1.748 1.748 0 0 1 1.066 0l5.25 1.68A1.75 1.75 0 0 1 15 3.48V7c0 1.566-.32 3.182-1.303 4.682-.983 1.498-2.585 2.813-5.032 3.855a1.697 1.697 0 0 1-1.33 0c-2.447-1.042-4.049-2.357-5.032-3.855C1.32 10.182 1 8.566 1 7V3.48a1.75 1.75 0 0 1 1.217-1.667Zm.61 1.429a.25.25 0 0 0-.153 0l-5.25 1.68a.25.25 0 0 0-.174.238V7c0 1.358.275 2.666 1.057 3.86.784 1.194 2.121 2.34 4.366 3.297a.196.196 0 0 0 .154 0c2.245-.956 3.582-2.104 4.366-3.298C13.225 9.666 13.5 8.36 13.5 7V3.48a.251.251 0 0 0-.174-.237l-5.25-1.68ZM8.75 4.75v3a.75.75 0 0 1-1.5 0v-3a.75.75 0 0 1 1.5 0ZM9 10.5a1 1 0 1 1-2 0 1 1 0 0 1 2 0Z"></path>
</svg>
        <span data-content="Security">Security</span>
          <include-fragment src="/MouseLand/cellpose/security/overall-count" accept="text/fragment+html" data-nonce="v2:4bbb3428-242b-358f-b875-4442c934d4b5" data-view-component="true">
  
  <div data-show-on-forbidden-error hidden>
    <div class="Box">
  <div class="blankslate-container">
    <div data-view-component="true" class="blankslate blankslate-spacious color-bg-default rounded-2">
      

      <h3 data-view-component="true" class="blankslate-heading">        Uh oh!
</h3>
      <p data-view-component="true">        <p class="color-fg-muted my-2 mb-2 ws-normal">There was an error while loading. <a class="Link--inTextBlock" data-turbo="false" href="" aria-label="Please reload this page">Please reload this page</a>.</p>
</p>

</div>  </div>
</div>  </div>
</include-fragment>

    
</a></li>
      <li data-view-component="true" class="d-inline-flex">
  <a id="insights-tab" href="/MouseLand/cellpose/pulse" data-tab-item="i6insights-tab" data-selected-links="repo_graphs repo_contributors dependency_graph dependabot_updates pulse people community /MouseLand/cellpose/pulse" data-pjax="#repo-content-pjax-container" data-turbo-frame="repo-content-turbo-frame" data-analytics-event="{&quot;category&quot;:&quot;Underline navbar&quot;,&quot;action&quot;:&quot;Click tab&quot;,&quot;label&quot;:&quot;Insights&quot;,&quot;target&quot;:&quot;UNDERLINE_NAV.TAB&quot;}" data-view-component="true" class="UnderlineNav-item no-wrap js-responsive-underlinenav-item js-selected-navigation-item">
    
              <svg aria-hidden="true" height="16" viewBox="0 0 16 16" version="1.1" width="16" data-view-component="true" class="octicon octicon-graph UnderlineNav-octicon d-none d-sm-inline">
    <path d="M1.5 1.75V13.5h13.75a.75.75 0 0 1 0 1.5H.75a.75.75 0 0 1-.75-.75V1.75a.75.75 0 0 1 1.5 0Zm14.28 2.53-5.25 5.25a.75.75 0 0 1-1.06 0L7 7.06 4.28 9.78a.751.751 0 0 1-1.042-.018.751.751 0 0 1-.018-1.042l3.25-3.25a.75.75 0 0 1 1.06 0L10 7.94l4.72-4.72a.751.751 0 0 1 1.042.018.751.751 0 0 1 .018 1.042Z"></path>
</svg>
        <span data-content="Insights">Insights</span>
          <span id="insights-repo-tab-count" data-pjax-replace="" data-turbo-replace="" title="Not available" data-view-component="true" class="Counter"></span>


    
</a></li>
</ul>
    <div style="visibility:hidden;" data-view-component="true" class="UnderlineNav-actions js-responsive-underlinenav-overflow position-absolute pr-3 pr-md-4 pr-lg-5 right-0">      <action-menu data-select-variant="none" data-view-component="true">
  <focus-group direction="vertical" mnemonics retain>
    <button id="action-menu-815f51fb-6e86-4a41-bf14-a73598ccf88e-button" popovertarget="action-menu-815f51fb-6e86-4a41-bf14-a73598ccf88e-overlay" aria-controls="action-menu-815f51fb-6e86-4a41-bf14-a73598ccf88e-list" aria-haspopup="true" aria-labelledby="tooltip-a9fe33c0-3bcc-4e94-9665-341f4b11dfe7" type="button" data-view-component="true" class="Button Button--iconOnly Button--secondary Button--medium UnderlineNav-item">  <svg aria-hidden="true" height="16" viewBox="0 0 16 16" version="1.1" width="16" data-view-component="true" class="octicon octicon-kebab-horizontal Button-visual">
    <path d="M8 9a1.5 1.5 0 1 0 0-3 1.5 1.5 0 0 0 0 3ZM1.5 9a1.5 1.5 0 1 0 0-3 1.5 1.5 0 0 0 0 3Zm13 0a1.5 1.5 0 1 0 0-3 1.5 1.5 0 0 0 0 3Z"></path>
</svg>
</button><tool-tip id="tooltip-a9fe33c0-3bcc-4e94-9665-341f4b11dfe7" for="action-menu-815f51fb-6e86-4a41-bf14-a73598ccf88e-button" popover="manual" data-direction="s" data-type="label" data-view-component="true" class="sr-only position-absolute">Additional navigation options</tool-tip>


<anchored-position data-target="action-menu.overlay" id="action-menu-815f51fb-6e86-4a41-bf14-a73598ccf88e-overlay" anchor="action-menu-815f51fb-6e86-4a41-bf14-a73598ccf88e-button" align="start" side="outside-bottom" anchor-offset="normal" popover="auto" data-view-component="true">
  <div data-view-component="true" class="Overlay Overlay--size-auto">
    
      <div data-view-component="true" class="Overlay-body Overlay-body--paddingNone">          <action-list>
  <div data-view-component="true">
    <ul aria-labelledby="action-menu-815f51fb-6e86-4a41-bf14-a73598ccf88e-button" id="action-menu-815f51fb-6e86-4a41-bf14-a73598ccf88e-list" role="menu" data-view-component="true" class="ActionListWrap--inset ActionListWrap">
        <li hidden="hidden" data-menu-item="i0code-tab" data-targets="action-list.items" role="none" data-view-component="true" class="ActionListItem">
    
    
    <a tabindex="-1" id="item-e1a8c58c-8c0a-496a-b423-defa9ad12614" href="/MouseLand/cellpose" role="menuitem" data-view-component="true" class="ActionListContent ActionListContent--visual16">
        <span class="ActionListItem-visual ActionListItem-visual--leading">
          <svg aria-hidden="true" height="16" viewBox="0 0 16 16" version="1.1" width="16" data-view-component="true" class="octicon octicon-code">
    <path d="m11.28 3.22 4.25 4.25a.75.75 0 0 1 0 1.06l-4.25 4.25a.749.749 0 0 1-1.275-.326.749.749 0 0 1 .215-.734L13.94 8l-3.72-3.72a.749.749 0 0 1 .326-1.275.749.749 0 0 1 .734.215Zm-6.56 0a.751.751 0 0 1 1.042.018.751.751 0 0 1 .018 1.042L2.06 8l3.72 3.72a.749.749 0 0 1-.326 1.275.749.749 0 0 1-.734-.215L.47 8.53a.75.75 0 0 1 0-1.06Z"></path>
</svg>
        </span>
      
        <span data-view-component="true" class="ActionListItem-label">
          Code
</span>      
</a>
  
</li>
        <li hidden="hidden" data-menu-item="i1issues-tab" data-targets="action-list.items" role="none" data-view-component="true" class="ActionListItem">
    
    
    <a tabindex="-1" id="item-2daa532c-e142-44e3-a04e-bfe744891ba6" href="/MouseLand/cellpose/issues" role="menuitem" data-view-component="true" class="ActionListContent ActionListContent--visual16">
        <span class="ActionListItem-visual ActionListItem-visual--leading">
          <svg aria-hidden="true" height="16" viewBox="0 0 16 16" version="1.1" width="16" data-view-component="true" class="octicon octicon-issue-opened">
    <path d="M8 9.5a1.5 1.5 0 1 0 0-3 1.5 1.5 0 0 0 0 3Z"></path><path d="M8 0a8 8 0 1 1 0 16A8 8 0 0 1 8 0ZM1.5 8a6.5 6.5 0 1 0 13 0 6.5 6.5 0 0 0-13 0Z"></path>
</svg>
        </span>
      
        <span data-view-component="true" class="ActionListItem-label">
          Issues
</span>      
</a>
  
</li>
        <li hidden="hidden" data-menu-item="i2pull-requests-tab" data-targets="action-list.items" role="none" data-view-component="true" class="ActionListItem">
    
    
    <a tabindex="-1" id="item-d2366dca-fb7f-4d0c-bf53-2d96b7157d82" href="/MouseLand/cellpose/pulls" role="menuitem" data-view-component="true" class="ActionListContent ActionListContent--visual16">
        <span class="ActionListItem-visual ActionListItem-visual--leading">
          <svg aria-hidden="true" height="16" viewBox="0 0 16 16" version="1.1" width="16" data-view-component="true" class="octicon octicon-git-pull-request">
    <path d="M1.5 3.25a2.25 2.25 0 1 1 3 2.122v5.256a2.251 2.251 0 1 1-1.5 0V5.372A2.25 2.25 0 0 1 1.5 3.25Zm5.677-.177L9.573.677A.25.25 0 0 1 10 .854V2.5h1A2.5 2.5 0 0 1 13.5 5v5.628a2.251 2.251 0 1 1-1.5 0V5a1 1 0 0 0-1-1h-1v1.646a.25.25 0 0 1-.427.177L7.177 3.427a.25.25 0 0 1 0-.354ZM3.75 2.5a.75.75 0 1 0 0 1.5.75.75 0 0 0 0-1.5Zm0 9.5a.75.75 0 1 0 0 1.5.75.75 0 0 0 0-1.5Zm8.25.75a.75.75 0 1 0 1.5 0 .75.75 0 0 0-1.5 0Z"></path>
</svg>
        </span>
      
        <span data-view-component="true" class="ActionListItem-label">
          Pull requests
</span>      
</a>
  
</li>
        <li hidden="hidden" data-menu-item="i3actions-tab" data-targets="action-list.items" role="none" data-view-component="true" class="ActionListItem">
    
    
    <a tabindex="-1" id="item-847a9add-fde9-489d-b23f-1f54bd8c43e3" href="/MouseLand/cellpose/actions" role="menuitem" data-view-component="true" class="ActionListContent ActionListContent--visual16">
        <span class="ActionListItem-visual ActionListItem-visual--leading">
          <svg aria-hidden="true" height="16" viewBox="0 0 16 16" version="1.1" width="16" data-view-component="true" class="octicon octicon-play">
    <path d="M8 0a8 8 0 1 1 0 16A8 8 0 0 1 8 0ZM1.5 8a6.5 6.5 0 1 0 13 0 6.5 6.5 0 0 0-13 0Zm4.879-2.773 4.264 2.559a.25.25 0 0 1 0 .428l-4.264 2.559A.25.25 0 0 1 6 10.559V5.442a.25.25 0 0 1 .379-.215Z"></path>
</svg>
        </span>
      
        <span data-view-component="true" class="ActionListItem-label">
          Actions
</span>      
</a>
  
</li>
        <li hidden="hidden" data-menu-item="i4projects-tab" data-targets="action-list.items" role="none" data-view-component="true" class="ActionListItem">
    
    
    <a tabindex="-1" id="item-9b77d5ed-66d1-4af5-98e9-3e09879d9ae1" href="/MouseLand/cellpose/projects" role="menuitem" data-view-component="true" class="ActionListContent ActionListContent--visual16">
        <span class="ActionListItem-visual ActionListItem-visual--leading">
          <svg aria-hidden="true" height="16" viewBox="0 0 16 16" version="1.1" width="16" data-view-component="true" class="octicon octicon-table">
    <path d="M0 1.75C0 .784.784 0 1.75 0h12.5C15.216 0 16 .784 16 1.75v12.5A1.75 1.75 0 0 1 14.25 16H1.75A1.75 1.75 0 0 1 0 14.25ZM6.5 6.5v8h7.75a.25.25 0 0 0 .25-.25V6.5Zm8-1.5V1.75a.25.25 0 0 0-.25-.25H6.5V5Zm-13 1.5v7.75c0 .138.112.25.25.25H5v-8ZM5 5V1.5H1.75a.25.25 0 0 0-.25.25V5Z"></path>
</svg>
        </span>
      
        <span data-view-component="true" class="ActionListItem-label">
          Projects
</span>      
</a>
  
</li>
        <li hidden="hidden" data-menu-item="i5security-tab" data-targets="action-list.items" role="none" data-view-component="true" class="ActionListItem">
    
    
    <a tabindex="-1" id="item-cece38b0-0eae-47f4-b830-e9ffb64890f5" href="/MouseLand/cellpose/security" role="menuitem" data-view-component="true" class="ActionListContent ActionListContent--visual16">
        <span class="ActionListItem-visual ActionListItem-visual--leading">
          <svg aria-hidden="true" height="16" viewBox="0 0 16 16" version="1.1" width="16" data-view-component="true" class="octicon octicon-shield">
    <path d="M7.467.133a1.748 1.748 0 0 1 1.066 0l5.25 1.68A1.75 1.75 0 0 1 15 3.48V7c0 1.566-.32 3.182-1.303 4.682-.983 1.498-2.585 2.813-5.032 3.855a1.697 1.697 0 0 1-1.33 0c-2.447-1.042-4.049-2.357-5.032-3.855C1.32 10.182 1 8.566 1 7V3.48a1.75 1.75 0 0 1 1.217-1.667Zm.61 1.429a.25.25 0 0 0-.153 0l-5.25 1.68a.25.25 0 0 0-.174.238V7c0 1.358.275 2.666 1.057 3.86.784 1.194 2.121 2.34 4.366 3.297a.196.196 0 0 0 .154 0c2.245-.956 3.582-2.104 4.366-3.298C13.225 9.666 13.5 8.36 13.5 7V3.48a.251.251 0 0 0-.174-.237l-5.25-1.68ZM8.75 4.75v3a.75.75 0 0 1-1.5 0v-3a.75.75 0 0 1 1.5 0ZM9 10.5a1 1 0 1 1-2 0 1 1 0 0 1 2 0Z"></path>
</svg>
        </span>
      
        <span data-view-component="true" class="ActionListItem-label">
          Security
</span>      
</a>
  
</li>
        <li hidden="hidden" data-menu-item="i6insights-tab" data-targets="action-list.items" role="none" data-view-component="true" class="ActionListItem">
    
    
    <a tabindex="-1" id="item-b8211b01-d089-4c50-b2ed-2663ffd081a8" href="/MouseLand/cellpose/pulse" role="menuitem" data-view-component="true" class="ActionListContent ActionListContent--visual16">
        <span class="ActionListItem-visual ActionListItem-visual--leading">
          <svg aria-hidden="true" height="16" viewBox="0 0 16 16" version="1.1" width="16" data-view-component="true" class="octicon octicon-graph">
    <path d="M1.5 1.75V13.5h13.75a.75.75 0 0 1 0 1.5H.75a.75.75 0 0 1-.75-.75V1.75a.75.75 0 0 1 1.5 0Zm14.28 2.53-5.25 5.25a.75.75 0 0 1-1.06 0L7 7.06 4.28 9.78a.751.751 0 0 1-1.042-.018.751.751 0 0 1-.018-1.042l3.25-3.25a.75.75 0 0 1 1.06 0L10 7.94l4.72-4.72a.751.751 0 0 1 1.042.018.751.751 0 0 1 .018 1.042Z"></path>
</svg>
        </span>
      
        <span data-view-component="true" class="ActionListItem-label">
          Insights
</span>      
</a>
  
</li>
</ul>    
</div></action-list>


</div>
      
</div></anchored-position>  </focus-group>
</action-menu></div>
</nav>

  </div>

  



<turbo-frame id="repo-content-turbo-frame" target="_top" data-turbo-action="advance" class="">
    <div id="repo-content-pjax-container" class="repository-content " >
    



    
      
    








<react-app
  app-name="react-code-view"
  initial-path="/MouseLand/cellpose/blob/main/notebooks/run_Cellpose-SAM.ipynb"
    style="display: block; min-height: calc(100vh - 64px);"
  data-attempted-ssr="false"
  data-ssr="false"
  data-lazy="false"
  data-alternate="false"
  data-data-router-enabled="false"
  data-react-profiling="false"
>
  
  <script type="application/json" data-target="react-app.embeddedData">{"payload":{"allShortcutsEnabled":false,"fileTree":{"notebooks":{"items":[{"name":"run_Cellpose-SAM.ipynb","path":"notebooks/run_Cellpose-SAM.ipynb","contentType":"file"},{"name":"test_Cellpose-SAM.ipynb","path":"notebooks/test_Cellpose-SAM.ipynb","contentType":"file"},{"name":"train_Cellpose-SAM.ipynb","path":"notebooks/train_Cellpose-SAM.ipynb","contentType":"file"}],"totalCount":3},"":{"items":[{"name":".github","path":".github","contentType":"directory"},{"name":"cellpose","path":"cellpose","contentType":"directory"},{"name":"docs","path":"docs","contentType":"directory"},{"name":"notebooks","path":"notebooks","contentType":"directory"},{"name":"paper","path":"paper","contentType":"directory"},{"name":"pyinstaller","path":"pyinstaller","contentType":"directory"},{"name":"tests","path":"tests","contentType":"directory"},{"name":".gitignore","path":".gitignore","contentType":"file"},{"name":".readthedocs.yml","path":".readthedocs.yml","contentType":"file"},{"name":".style.yapf","path":".style.yapf","contentType":"file"},{"name":"LICENSE","path":"LICENSE","contentType":"file"},{"name":"MANIFEST.in","path":"MANIFEST.in","contentType":"file"},{"name":"README.md","path":"README.md","contentType":"file"},{"name":"codecov.yml","path":"codecov.yml","contentType":"file"},{"name":"conftest.py","path":"conftest.py","contentType":"file"},{"name":"environment.yml","path":"environment.yml","contentType":"file"},{"name":"imagej_roi_converter.py","path":"imagej_roi_converter.py","contentType":"file"},{"name":"model_quantization.ipynb","path":"model_quantization.ipynb","contentType":"file"},{"name":"setup.cfg","path":"setup.cfg","contentType":"file"},{"name":"setup.py","path":"setup.py","contentType":"file"},{"name":"tox.ini","path":"tox.ini","contentType":"file"}],"totalCount":21}},"fileTreeProcessingTime":5.5815090000000005,"foldersToFetch":[],"incompleteFileTree":false,"repo":{"id":237686847,"defaultBranch":"main","name":"cellpose","ownerLogin":"MouseLand","currentUserCanPush":false,"isFork":false,"isEmpty":false,"createdAt":"2020-02-01T22:29:22.000Z","ownerAvatar":"https://avatars.githubusercontent.com/u/28845184?v=4","public":true,"private":false,"isOrgOwned":true},"codeLineWrapEnabled":false,"symbolsExpanded":false,"treeExpanded":true,"refInfo":{"name":"main","listCacheKey":"v0:1750098069.0","canEdit":false,"refType":"branch","currentOid":"15eb3c6831ac19e0948dbc38c11016d11d1aacf3"},"path":"notebooks/run_Cellpose-SAM.ipynb","currentUser":null,"blob":{"rawLines":["{","  \"cells\": [","    {","      \"cell_type\": \"markdown\",","      \"metadata\": {","        \"id\": \"Nb90LCrotIx4\"","      },","      \"source\": [","        \"## Cellpose-SAM: superhuman generalization for cellular segmentation\\n\",","        \"\\n\",","        \"Marius Pachitariu, Michael Rariden, Carsen Stringer\\n\",","        \"\\n\",","        \"[paper](https://www.biorxiv.org/content/10.1101/2025.04.28.651001v1) | [code](https://github.com/MouseLand/cellpose)\\n\",","        \"\\n\",","        \"This notebook shows how to process your own 2D or 3D images, saved on Google Drive.\\n\",","        \"\\n\",","        \"This notebook is adapted from the notebook by Pradeep Rajasekhar, inspired by the [ZeroCostDL4Mic notebook series](https://github.com/HenriquesLab/ZeroCostDL4Mic/wiki).\"","      ]","    },","    {","      \"cell_type\": \"markdown\",","      \"metadata\": {","        \"id\": \"Z0s2fz5hUk75\"","      },","      \"source\": [","        \"### Make sure you have GPU access enabled by going to Runtime -\u003e Change Runtime Type -\u003e Hardware accelerator and selecting GPU\\n\",","        \"\\n\",","        \"![image.png](data:image/png;base64,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)\"","      ]","    },","    {","      \"cell_type\": \"markdown\",","      \"metadata\": {","        \"id\": \"VZe3EmLeDr5h\"","      },","      \"source\": [","        \"### Mount your google drive\\n\",","        \"\\n\",","        \"Run this cell to connect your Google Drive to colab:\\n\",","        \"* Click on the URL.\\n\",","        \"* Sign in your Google Account.\\n\",","        \"\\n\",","        \"You will either have to:\\n\",","        \"* copy the authorisation code and enter it into box below OR\\n\",","        \"* in the new google colab, you can just click \\\"Allow\\\" and it should connect.\"","      ]","    },","    {","      \"cell_type\": \"code\",","      \"execution_count\": null,","      \"metadata\": {","        \"id\": \"b8wPXz7PGNLt\"","      },","      \"outputs\": [],","      \"source\": [","        \"from google.colab import drive\\n\",","        \"drive.mount('/content/drive')\"","      ]","    },","    {","      \"cell_type\": \"markdown\",","      \"metadata\": {","        \"id\": \"l9YpMcAuDr5i\"","      },","      \"source\": [","        \"\\n\",","        \"Then click on \\\"Folder\\\" icon on the Left, press the refresh button. Your Google Drive folder should now be available here as \\\"gdrive\\\".\\n\",","        \"\\n\",","        \"\\n\",","        \"![image.png](data:image/png;base64,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)\"","      ]","    },","    {","      \"cell_type\": \"markdown\",","      \"metadata\": {","        \"id\": \"yH4zTaWwvH9x\"","      },","      \"source\": [","        \"Click on the triangle icon and it will allow you to access whole drive. Navigate to the folder containing your images. Once you are there, click on the three dots on the right of the folder and select \\\"Copy Path\\\"\\n\",","        \"\\n\",","        \"![image.png](data:image/png;base64,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)\\n\",","        \"\\n\",","        \"Copy and paste this path in the **dir** string below\"","      ]","    },","    {","      \"cell_type\": \"markdown\",","      \"metadata\": {","        \"id\": \"h_iAN7cAthma\"","      },","      \"source\": [","        \"### Install Cellpose-SAM\\n\"","      ]","    },","    {","      \"cell_type\": \"code\",","      \"execution_count\": null,","      \"metadata\": {","        \"cellView\": \"form\",","        \"id\": \"hG3LSmJmLylT\"","      },","      \"outputs\": [],","      \"source\": [","        \"!pip install git+https://www.github.com/mouseland/cellpose.git\"","      ]","    },","    {","      \"cell_type\": \"markdown\",","      \"metadata\": {","        \"id\": \"fGSKx-EiDr5k\"","      },","      \"source\": [","        \"Check GPU and instantiate model - will download weights.\"","      ]","    },","    {","      \"cell_type\": \"code\",","      \"execution_count\": null,","      \"metadata\": {","        \"cellView\": \"form\",","        \"id\": \"5ydQ-fggSiUm\"","      },","      \"outputs\": [],","      \"source\": [","        \"import numpy as np\\n\",","        \"from cellpose import models, core, io, plot\\n\",","        \"from pathlib import Path\\n\",","        \"from tqdm import trange\\n\",","        \"import matplotlib.pyplot as plt\\n\",","        \"from natsort import natsorted\\n\",","        \"\\n\",","        \"io.logger_setup() # run this to get printing of progress\\n\",","        \"\\n\",","        \"#Check if colab notebook instance has GPU access\\n\",","        \"if core.use_gpu()==False:\\n\",","        \"  raise ImportError(\\\"No GPU access, change your runtime\\\")\\n\",","        \"\\n\",","        \"model = models.CellposeModel(gpu=True)\"","      ]","    },","    {","      \"cell_type\": \"markdown\",","      \"metadata\": {","        \"id\": \"vOpZWZtDDr5l\"","      },","      \"source\": [","        \"Input directory with your images:\"","      ]","    },","    {","      \"cell_type\": \"code\",","      \"execution_count\": null,","      \"metadata\": {","        \"cellView\": \"form\",","        \"id\": \"-lZP6alpUAfY\"","      },","      \"outputs\": [],","      \"source\": [","        \"# *** change to your google drive folder path ***\\n\",","        \"dir = \\\"/content/gdrive/MyDrive/PATH-TO-FILES/\\\"\\n\",","        \"dir = Path(dir)\\n\",","        \"if not dir.exists():\\n\",","        \"  raise FileNotFoundError(\\\"directory does not exist\\\")\\n\",","        \"\\n\",","        \"# *** change to your image extension ***\\n\",","        \"image_ext = \\\".tif\\\"\\n\",","        \"\\n\",","        \"# list all files\\n\",","        \"files = natsorted([f for f in dir.glob(\\\"*\\\"+image_ext) if \\\"_masks\\\" not in f.name and \\\"_flows\\\" not in f.name])\\n\",","        \"\\n\",","        \"if(len(files)==0):\\n\",","        \"  raise FileNotFoundError(\\\"no image files found, did you specify the correct folder and extension?\\\")\\n\",","        \"else:\\n\",","        \"  print(f\\\"{len(files)} images in folder:\\\")\\n\",","        \"\\n\",","        \"for f in files:\\n\",","        \"  print(f.name)\"","      ]","    },","    {","      \"cell_type\": \"markdown\",","      \"metadata\": {","        \"id\": \"eyj9hnQvDr5l\"","      },","      \"source\": [","        \"## Run Cellpose-SAM on one image in folder\\n\",","        \"\\n\",","        \"Here are some of the parameters you can change:\\n\",","        \"\\n\",","        \"* ***flow_threshold*** is  the  maximum  allowed  error  of  the  flows  for  each  mask.   The  default  is 0.4.\\n\",","        \"    *  **Increase** this threshold if cellpose is not returning as many masks as you’d expect (or turn off completely with 0.0)\\n\",","        \"    *   **Decrease** this threshold if cellpose is returning too many ill-shaped masks.\\n\",","        \"\\n\",","        \"* ***cellprob_threshold*** determines proability that a detected object is a cell.   The  default  is 0.0.\\n\",","        \"    *   **Decrease** this threshold if cellpose is not returning as many masks as you’d expect or if masks are too small\\n\",","        \"    *   **Increase** this threshold if cellpose is returning too many masks esp from dull/dim areas.\\n\",","        \"\\n\",","        \"* ***tile_norm_blocksize*** determines the size of blocks used for normalizing the image. The default is 0, which means the entire image is normalized together.\\n\",","        \"  You may want to change this to 100-200 pixels if you have very inhomogeneous brightness across your image.\\n\",","        \"\\n\"","      ]","    },","    {","      \"cell_type\": \"code\",","      \"execution_count\": null,","      \"metadata\": {","        \"id\": \"vefSZf0tLxKI\"","      },","      \"outputs\": [],","      \"source\": [","        \"img = io.imread(files[0])\\n\",","        \"\\n\",","        \"print(f'your image has shape: {img.shape}. Assuming channel dimension is last with {img.shape[-1]} channels')\"","      ]","    },","    {","      \"cell_type\": \"markdown\",","      \"metadata\": {","        \"id\": \"CfhdXrkmMV2p\"","      },","      \"source\": [","        \"### Channel Selection: \\n\",","        \"\\n\",","        \"- Use the dropdowns below to select the _zero-indexed_ channels of your image to segment. The order does not matter. Remember to rerun the cell after you edit the dropdowns.\\n\",","        \"\\n\",","        \"- If you have a histological image taken in brightfield, you don't need to adjust the channels.\\n\",","        \"\\n\",","        \"- If you have a fluroescent image with multiple stains, you should choose one channel with a cytoplasm/membrane stain, one channel with a nuclear stain, and set the third channel to `None`. Choosing multiple channels may produce segmentaiton of all the structures in the image. If you have retrained the model on your data with a thrid stain (described below), you can run segmentation with all channels. \"","      ]","    },","    {","      \"cell_type\": \"code\",","      \"execution_count\": null,","      \"metadata\": {","        \"cellView\": \"form\",","        \"id\": \"8a4oOuFZKoA-\"","      },","      \"outputs\": [],","      \"source\": [","        \"first_channel = '0' # @param ['None', 0, 1, 2, 3, 4, 5]\\n\",","        \"second_channel = '1' # @param ['None', 0, 1, 2, 3, 4, 5]\\n\",","        \"third_channel = '2' # @param ['None', 0, 1, 2, 3, 4, 5]\"","      ]","    },","    {","      \"cell_type\": \"code\",","      \"execution_count\": null,","      \"metadata\": {","        \"cellView\": \"form\",","        \"id\": \"98DA8zm4A__m\"","      },","      \"outputs\": [],","      \"source\": [","        \"selected_channels = []\\n\",","        \"for i, c in enumerate([first_channel, second_channel, third_channel]):\\n\",","        \"  if c == 'None':\\n\",","        \"    continue\\n\",","        \"  if int(c) \u003e img.shape[-1]:\\n\",","        \"    assert False, 'invalid channel index, must have index greater or equal to the number of channels'\\n\",","        \"  if c != 'None':\\n\",","        \"    selected_channels.append(int(c))\\n\",","        \"\\n\",","        \"\\n\",","        \"\\n\",","        \"img_selected_channels = np.zeros_like(img)\\n\",","        \"img_selected_channels[:, :, :len(selected_channels)] = img[:, :, selected_channels]\\n\",","        \"\\n\",","        \"\\n\",","        \"flow_threshold = 0.4\\n\",","        \"cellprob_threshold = 0.0\\n\",","        \"tile_norm_blocksize = 0\\n\",","        \"\\n\",","        \"masks, flows, styles = model.eval(img_selected_channels, batch_size=32, flow_threshold=flow_threshold, cellprob_threshold=cellprob_threshold,\\n\",","        \"                                  normalize={\\\"tile_norm_blocksize\\\": tile_norm_blocksize})\\n\",","        \"\\n\",","        \"fig = plt.figure(figsize=(12,5))\\n\",","        \"plot.show_segmentation(fig, img_selected_channels, masks, flows[0])\\n\",","        \"plt.tight_layout()\\n\",","        \"plt.show()\\n\"","      ]","    },","    {","      \"cell_type\": \"markdown\",","      \"metadata\": {","        \"id\": \"3JRxBPmatrK7\"","      },","      \"source\": [","        \"## Run Cellpose-SAM on folder of images\\n\",","        \"\\n\",","        \"if you have many large images, you may want to run them as a loop over images\\n\",","        \"\\n\"","      ]","    },","    {","      \"cell_type\": \"code\",","      \"execution_count\": null,","      \"metadata\": {","        \"id\": \"JgfGlUJNDr5n\"","      },","      \"outputs\": [],","      \"source\": [","        \"masks_ext = \\\".png\\\" if image_ext == \\\".png\\\" else \\\".tif\\\"\\n\",","        \"for i in trange(len(files)):\\n\",","        \"    f = files[i]\\n\",","        \"    img = io.imread(f)\\n\",","        \"    masks, flows, styles = model.eval(img, batch_size=32, flow_threshold=flow_threshold, cellprob_threshold=cellprob_threshold,\\n\",","        \"                                  normalize={\\\"tile_norm_blocksize\\\": tile_norm_blocksize})\\n\",","        \"    io.imsave(dir / (f.stem + \\\"_masks\\\" + masks_ext), masks)\"","      ]","    },","    {","      \"cell_type\": \"markdown\",","      \"metadata\": {","        \"id\": \"ZsmgS0KJDr5n\"","      },","      \"source\": [","        \"if you have small images, you may want to load all of them first and then run, so that they can be batched together on the GPU\"","      ]","    },","    {","      \"cell_type\": \"code\",","      \"execution_count\": null,","      \"metadata\": {","        \"id\": \"XH-K72hGDr5n\"","      },","      \"outputs\": [],","      \"source\": [","        \"print(\\\"loading images\\\")\\n\",","        \"imgs = [io.imread(files[i]) for i in trange(len(files))]\\n\",","        \"\\n\",","        \"print(\\\"running cellpose-SAM\\\")\\n\",","        \"masks, flows, styles = model.eval(imgs, batch_size=32, flow_threshold=flow_threshold, cellprob_threshold=cellprob_threshold,\\n\",","        \"                                  normalize={\\\"tile_norm_blocksize\\\": tile_norm_blocksize})\\n\",","        \"\\n\",","        \"print(\\\"saving masks\\\")\\n\",","        \"for i in trange(len(files)):\\n\",","        \"    f = files[i]\\n\",","        \"    io.imsave(dir / (f.stem + \\\"_masks\\\" + masks_ext), masks[i])\"","      ]","    },","    {","      \"cell_type\": \"markdown\",","      \"metadata\": {","        \"id\": \"9GdeH0nCDr5n\"","      },","      \"source\": [","        \"to save your masks for ImageJ, run the following code:\"","      ]","    },","    {","      \"cell_type\": \"code\",","      \"execution_count\": null,","      \"metadata\": {","        \"cellView\": \"form\",","        \"id\": \"s7NAuncdY618\"","      },","      \"outputs\": [],","      \"source\": [","        \"for i in trange(len(files)):\\n\",","        \"    f = files[i]\\n\",","        \"    masks0 = io.imsave(dir / (f.name + \\\"_masks\\\" + masks_ext))\\n\",","        \"    io.save_rois(masks0, f)\"","      ]","    }","  ],","  \"metadata\": {","    \"accelerator\": \"GPU\",","    \"colab\": {","      \"include_colab_link\": true,","      \"provenance\": []","    },","    \"kernelspec\": {","      \"display_name\": \"cellpose\",","      \"language\": \"python\",","      \"name\": \"python3\"","    },","    \"language_info\": {","      \"codemirror_mode\": {","        \"name\": \"ipython\",","        \"version\": 3","      },","      \"file_extension\": \".py\",","      \"mimetype\": \"text/x-python\",","      \"name\": \"python\",","      \"nbconvert_exporter\": \"python\",","      \"pygments_lexer\": \"ipython3\",","      \"version\": \"3.11.9\"","    }","  },","  \"nbformat\": 4,","  \"nbformat_minor\": 0","}"],"stylingDirectives":null,"colorizedLines":null,"csv":null,"csvError":null,"dependabotInfo":{"showConfigurationBanner":false,"configFilePath":null,"networkDependabotPath":"/MouseLand/cellpose/network/updates","dismissConfigurationNoticePath":"/settings/dismiss-notice/dependabot_configuration_notice","configurationNoticeDismissed":null},"displayName":"run_Cellpose-SAM.ipynb","displayUrl":"https://notebooks.githubusercontent.com/view/ipynb?browser=chrome\u0026bypass_fastly=true\u0026color_mode=auto\u0026commit=15eb3c6831ac19e0948dbc38c11016d11d1aacf3\u0026device=unknown_device\u0026docs_host=https%3A%2F%2Fdocs.github.com\u0026enc_url=68747470733a2f2f7261772e67697468756275736572636f6e74656e742e636f6d2f4d6f7573654c616e642f63656c6c706f73652f313565623363363833316163313965303934386462633338633131303136643131643161616366332f6e6f7465626f6f6b732f72756e5f43656c6c706f73652d53414d2e6970796e62\u0026logged_in=false\u0026nwo=MouseLand%2Fcellpose\u0026path=notebooks%2Frun_Cellpose-SAM.ipynb\u0026platform=linux\u0026repository_id=237686847\u0026repository_type=Repository\u0026version=135","headerInfo":{"blobSize":"101 KB","deleteTooltip":"You must be signed in to make or propose changes","editTooltip":"You must be signed in to make or propose changes","ghDesktopPath":"https://desktop.github.com","isGitLfs":false,"onBranch":true,"shortPath":"5f2232a","siteNavLoginPath":"/login?return_to=https%3A%2F%2Fgithub.com%2FMouseLand%2Fcellpose%2Fblob%2Fmain%2Fnotebooks%2Frun_Cellpose-SAM.ipynb","isCSV":false,"isRichtext":false,"toc":null,"lineInfo":{"truncatedLoc":"392","truncatedSloc":"392"},"mode":"file"},"image":false,"isCodeownersFile":null,"isPlain":false,"isValidLegacyIssueTemplate":false,"issueTemplate":null,"discussionTemplate":null,"language":"Jupyter Notebook","languageID":185,"large":false,"planSupportInfo":{"repoIsFork":null,"repoOwnedByCurrentUser":null,"requestFullPath":"/MouseLand/cellpose/blob/main/notebooks/run_Cellpose-SAM.ipynb","showFreeOrgGatedFeatureMessage":null,"showPlanSupportBanner":null,"upgradeDataAttributes":null,"upgradePath":null},"publishBannersInfo":{"dismissActionNoticePath":"/settings/dismiss-notice/publish_action_from_dockerfile","releasePath":"/MouseLand/cellpose/releases/new?marketplace=true","showPublishActionBanner":false},"rawBlobUrl":"https://github.com/MouseLand/cellpose/raw/refs/heads/main/notebooks/run_Cellpose-SAM.ipynb","renderImageOrRaw":false,"richText":null,"renderedFileInfo":{"identityUUID":"a29f51d4-8097-4507-b354-a22ca380fd7a","renderFileType":"ipynb","size":103122},"shortPath":null,"symbolsEnabled":true,"tabSize":8,"topBannersInfo":{"overridingGlobalFundingFile":false,"globalPreferredFundingPath":null,"showInvalidCitationWarning":false,"citationHelpUrl":"https://docs.github.com/github/creating-cloning-and-archiving-repositories/creating-a-repository-on-github/about-citation-files","actionsOnboardingTip":null},"truncated":false,"viewable":true,"workflowRedirectUrl":null,"symbols":{"timed_out":false,"not_analyzed":true,"symbols":[]}},"copilotInfo":null,"copilotAccessAllowed":false,"modelsAccessAllowed":false,"modelsRepoIntegrationEnabled":false,"csrf_tokens":{"/MouseLand/cellpose/branches":{"post":"NN016giT0779hRMEhtGD2B7t2SvqOsAKhovNz8ISJbQPyxMDuGlMhkyU-l-QGJR9RFkx47rrLj-FklCysV-4pQ"},"/repos/preferences":{"post":"oiHHLyLY848TL3wWIXZwsl4GRHJ1nh7XXtKGAHBMZDJNMx8QrrjmbDKgKKdybDVWaxGyeRT_MlhLyKmFlnSJpQ"}}},"title":"cellpose/notebooks/run_Cellpose-SAM.ipynb at main · MouseLand/cellpose","appPayload":{"helpUrl":"https://docs.github.com","findFileWorkerPath":"/assets-cdn/worker/find-file-worker-263cab1760dd.js","findInFileWorkerPath":"/assets-cdn/worker/find-in-file-worker-1b17b3e7786a.js","githubDevUrl":null,"enabled_features":{"code_nav_ui_events":false,"react_blob_overlay":false,"accessible_code_button":true}}}</script>
  <div data-target="react-app.reactRoot"></div>
</react-app>
</turbo-frame>



  </div>

</turbo-frame>

    </main>
  </div>

  </div>

          <footer class="footer pt-8 pb-6 f6 color-fg-muted p-responsive" role="contentinfo" >
  <h2 class='sr-only'>Footer</h2>

  


  <div class="d-flex flex-justify-center flex-items-center flex-column-reverse flex-lg-row flex-wrap flex-lg-nowrap">
    <div class="d-flex flex-items-center flex-shrink-0 mx-2">
      <a aria-label="GitHub Homepage" class="footer-octicon mr-2" href="https://github.com">
        <svg aria-hidden="true" height="24" viewBox="0 0 24 24" version="1.1" width="24" data-view-component="true" class="octicon octicon-mark-github">
    <path d="M12 1C5.923 1 1 5.923 1 12c0 4.867 3.149 8.979 7.521 10.436.55.096.756-.233.756-.522 0-.262-.013-1.128-.013-2.049-2.764.509-3.479-.674-3.699-1.292-.124-.317-.66-1.293-1.127-1.554-.385-.207-.936-.715-.014-.729.866-.014 1.485.797 1.691 1.128.99 1.663 2.571 1.196 3.204.907.096-.715.385-1.196.701-1.471-2.448-.275-5.005-1.224-5.005-5.432 0-1.196.426-2.186 1.128-2.956-.111-.275-.496-1.402.11-2.915 0 0 .921-.288 3.024 1.128a10.193 10.193 0 0 1 2.75-.371c.936 0 1.871.123 2.75.371 2.104-1.43 3.025-1.128 3.025-1.128.605 1.513.221 2.64.111 2.915.701.77 1.127 1.747 1.127 2.956 0 4.222-2.571 5.157-5.019 5.432.399.344.743 1.004.743 2.035 0 1.471-.014 2.654-.014 3.025 0 .289.206.632.756.522C19.851 20.979 23 16.854 23 12c0-6.077-4.922-11-11-11Z"></path>
</svg>
</a>
      <span>
        &copy; 2025 GitHub,&nbsp;Inc.
      </span>
    </div>

    <nav aria-label="Footer">
      <h3 class="sr-only" id="sr-footer-heading">Footer navigation</h3>

      <ul class="list-style-none d-flex flex-justify-center flex-wrap mb-2 mb-lg-0" aria-labelledby="sr-footer-heading">

          <li class="mx-2">
            <a data-analytics-event="{&quot;category&quot;:&quot;Footer&quot;,&quot;action&quot;:&quot;go to Terms&quot;,&quot;label&quot;:&quot;text:terms&quot;}" href="https://docs.github.com/site-policy/github-terms/github-terms-of-service" data-view-component="true" class="Link--secondary Link">Terms</a>
          </li>

          <li class="mx-2">
            <a data-analytics-event="{&quot;category&quot;:&quot;Footer&quot;,&quot;action&quot;:&quot;go to privacy&quot;,&quot;label&quot;:&quot;text:privacy&quot;}" href="https://docs.github.com/site-policy/privacy-policies/github-privacy-statement" data-view-component="true" class="Link--secondary Link">Privacy</a>
          </li>

          <li class="mx-2">
            <a data-analytics-event="{&quot;category&quot;:&quot;Footer&quot;,&quot;action&quot;:&quot;go to security&quot;,&quot;label&quot;:&quot;text:security&quot;}" href="https://github.com/security" data-view-component="true" class="Link--secondary Link">Security</a>
          </li>

          <li class="mx-2">
            <a data-analytics-event="{&quot;category&quot;:&quot;Footer&quot;,&quot;action&quot;:&quot;go to status&quot;,&quot;label&quot;:&quot;text:status&quot;}" href="https://www.githubstatus.com/" data-view-component="true" class="Link--secondary Link">Status</a>
          </li>

          <li class="mx-2">
            <a data-analytics-event="{&quot;category&quot;:&quot;Footer&quot;,&quot;action&quot;:&quot;go to docs&quot;,&quot;label&quot;:&quot;text:docs&quot;}" href="https://docs.github.com/" data-view-component="true" class="Link--secondary Link">Docs</a>
          </li>

          <li class="mx-2">
            <a data-analytics-event="{&quot;category&quot;:&quot;Footer&quot;,&quot;action&quot;:&quot;go to contact&quot;,&quot;label&quot;:&quot;text:contact&quot;}" href="https://support.github.com?tags=dotcom-footer" data-view-component="true" class="Link--secondary Link">Contact</a>
          </li>

          <li class="mx-2" >
  <cookie-consent-link>
    <button
      type="button"
      class="Link--secondary underline-on-hover border-0 p-0 color-bg-transparent"
      data-action="click:cookie-consent-link#showConsentManagement"
      data-analytics-event="{&quot;location&quot;:&quot;footer&quot;,&quot;action&quot;:&quot;cookies&quot;,&quot;context&quot;:&quot;subfooter&quot;,&quot;tag&quot;:&quot;link&quot;,&quot;label&quot;:&quot;cookies_link_subfooter_footer&quot;}"
    >
       Manage cookies
    </button>
  </cookie-consent-link>
</li>

<li class="mx-2">
  <cookie-consent-link>
    <button
      type="button"
      class="Link--secondary underline-on-hover border-0 p-0 color-bg-transparent"
      data-action="click:cookie-consent-link#showConsentManagement"
      data-analytics-event="{&quot;location&quot;:&quot;footer&quot;,&quot;action&quot;:&quot;dont_share_info&quot;,&quot;context&quot;:&quot;subfooter&quot;,&quot;tag&quot;:&quot;link&quot;,&quot;label&quot;:&quot;dont_share_info_link_subfooter_footer&quot;}"
    >
      Do not share my personal information
    </button>
  </cookie-consent-link>
</li>

      </ul>
    </nav>
  </div>
</footer>



    <ghcc-consent id="ghcc" class="position-fixed bottom-0 left-0" style="z-index: 999999"
      data-locale="en"
      data-initial-cookie-consent-allowed=""
      data-cookie-consent-required="true"
    ></ghcc-consent>



  <div id="ajax-error-message" class="ajax-error-message flash flash-error" hidden>
    <svg aria-hidden="true" height="16" viewBox="0 0 16 16" version="1.1" width="16" data-view-component="true" class="octicon octicon-alert">
    <path d="M6.457 1.047c.659-1.234 2.427-1.234 3.086 0l6.082 11.378A1.75 1.75 0 0 1 14.082 15H1.918a1.75 1.75 0 0 1-1.543-2.575Zm1.763.707a.25.25 0 0 0-.44 0L1.698 13.132a.25.25 0 0 0 .22.368h12.164a.25.25 0 0 0 .22-.368Zm.53 3.996v2.5a.75.75 0 0 1-1.5 0v-2.5a.75.75 0 0 1 1.5 0ZM9 11a1 1 0 1 1-2 0 1 1 0 0 1 2 0Z"></path>
</svg>
    <button type="button" class="flash-close js-ajax-error-dismiss" aria-label="Dismiss error">
      <svg aria-hidden="true" height="16" viewBox="0 0 16 16" version="1.1" width="16" data-view-component="true" class="octicon octicon-x">
    <path d="M3.72 3.72a.75.75 0 0 1 1.06 0L8 6.94l3.22-3.22a.749.749 0 0 1 1.275.326.749.749 0 0 1-.215.734L9.06 8l3.22 3.22a.749.749 0 0 1-.326 1.275.749.749 0 0 1-.734-.215L8 9.06l-3.22 3.22a.751.751 0 0 1-1.042-.018.751.751 0 0 1-.018-1.042L6.94 8 3.72 4.78a.75.75 0 0 1 0-1.06Z"></path>
</svg>
    </button>
    You can’t perform that action at this time.
  </div>

    <template id="site-details-dialog">
  <details class="details-reset details-overlay details-overlay-dark lh-default color-fg-default hx_rsm" open>
    <summary role="button" aria-label="Close dialog"></summary>
    <details-dialog class="Box Box--overlay d-flex flex-column anim-fade-in fast hx_rsm-dialog hx_rsm-modal">
      <button class="Box-btn-octicon m-0 btn-octicon position-absolute right-0 top-0" type="button" aria-label="Close dialog" data-close-dialog>
        <svg aria-hidden="true" height="16" viewBox="0 0 16 16" version="1.1" width="16" data-view-component="true" class="octicon octicon-x">
    <path d="M3.72 3.72a.75.75 0 0 1 1.06 0L8 6.94l3.22-3.22a.749.749 0 0 1 1.275.326.749.749 0 0 1-.215.734L9.06 8l3.22 3.22a.749.749 0 0 1-.326 1.275.749.749 0 0 1-.734-.215L8 9.06l-3.22 3.22a.751.751 0 0 1-1.042-.018.751.751 0 0 1-.018-1.042L6.94 8 3.72 4.78a.75.75 0 0 1 0-1.06Z"></path>
</svg>
      </button>
      <div class="octocat-spinner my-6 js-details-dialog-spinner"></div>
    </details-dialog>
  </details>
</template>

    <div class="Popover js-hovercard-content position-absolute" style="display: none; outline: none;">
  <div class="Popover-message Popover-message--bottom-left Popover-message--large Box color-shadow-large" style="width:360px;">
  </div>
</div>

    <template id="snippet-clipboard-copy-button">
  <div class="zeroclipboard-container position-absolute right-0 top-0">
    <clipboard-copy aria-label="Copy" class="ClipboardButton btn js-clipboard-copy m-2 p-0" data-copy-feedback="Copied!" data-tooltip-direction="w">
      <svg aria-hidden="true" height="16" viewBox="0 0 16 16" version="1.1" width="16" data-view-component="true" class="octicon octicon-copy js-clipboard-copy-icon m-2">
    <path d="M0 6.75C0 5.784.784 5 1.75 5h1.5a.75.75 0 0 1 0 1.5h-1.5a.25.25 0 0 0-.25.25v7.5c0 .138.112.25.25.25h7.5a.25.25 0 0 0 .25-.25v-1.5a.75.75 0 0 1 1.5 0v1.5A1.75 1.75 0 0 1 9.25 16h-7.5A1.75 1.75 0 0 1 0 14.25Z"></path><path d="M5 1.75C5 .784 5.784 0 6.75 0h7.5C15.216 0 16 .784 16 1.75v7.5A1.75 1.75 0 0 1 14.25 11h-7.5A1.75 1.75 0 0 1 5 9.25Zm1.75-.25a.25.25 0 0 0-.25.25v7.5c0 .138.112.25.25.25h7.5a.25.25 0 0 0 .25-.25v-7.5a.25.25 0 0 0-.25-.25Z"></path>
</svg>
      <svg aria-hidden="true" height="16" viewBox="0 0 16 16" version="1.1" width="16" data-view-component="true" class="octicon octicon-check js-clipboard-check-icon color-fg-success d-none m-2">
    <path d="M13.78 4.22a.75.75 0 0 1 0 1.06l-7.25 7.25a.75.75 0 0 1-1.06 0L2.22 9.28a.751.751 0 0 1 .018-1.042.751.751 0 0 1 1.042-.018L6 10.94l6.72-6.72a.75.75 0 0 1 1.06 0Z"></path>
</svg>
    </clipboard-copy>
  </div>
</template>
<template id="snippet-clipboard-copy-button-unpositioned">
  <div class="zeroclipboard-container">
    <clipboard-copy aria-label="Copy" class="ClipboardButton btn btn-invisible js-clipboard-copy m-2 p-0 d-flex flex-justify-center flex-items-center" data-copy-feedback="Copied!" data-tooltip-direction="w">
      <svg aria-hidden="true" height="16" viewBox="0 0 16 16" version="1.1" width="16" data-view-component="true" class="octicon octicon-copy js-clipboard-copy-icon">
    <path d="M0 6.75C0 5.784.784 5 1.75 5h1.5a.75.75 0 0 1 0 1.5h-1.5a.25.25 0 0 0-.25.25v7.5c0 .138.112.25.25.25h7.5a.25.25 0 0 0 .25-.25v-1.5a.75.75 0 0 1 1.5 0v1.5A1.75 1.75 0 0 1 9.25 16h-7.5A1.75 1.75 0 0 1 0 14.25Z"></path><path d="M5 1.75C5 .784 5.784 0 6.75 0h7.5C15.216 0 16 .784 16 1.75v7.5A1.75 1.75 0 0 1 14.25 11h-7.5A1.75 1.75 0 0 1 5 9.25Zm1.75-.25a.25.25 0 0 0-.25.25v7.5c0 .138.112.25.25.25h7.5a.25.25 0 0 0 .25-.25v-7.5a.25.25 0 0 0-.25-.25Z"></path>
</svg>
      <svg aria-hidden="true" height="16" viewBox="0 0 16 16" version="1.1" width="16" data-view-component="true" class="octicon octicon-check js-clipboard-check-icon color-fg-success d-none">
    <path d="M13.78 4.22a.75.75 0 0 1 0 1.06l-7.25 7.25a.75.75 0 0 1-1.06 0L2.22 9.28a.751.751 0 0 1 .018-1.042.751.751 0 0 1 1.042-.018L6 10.94l6.72-6.72a.75.75 0 0 1 1.06 0Z"></path>
</svg>
    </clipboard-copy>
  </div>
</template>




    </div>

    <div id="js-global-screen-reader-notice" class="sr-only mt-n1" aria-live="polite" aria-atomic="true" ></div>
    <div id="js-global-screen-reader-notice-assertive" class="sr-only mt-n1" aria-live="assertive" aria-atomic="true"></div>
  </body>
</html>

